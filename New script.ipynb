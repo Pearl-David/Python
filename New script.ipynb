{
 "cells": [
  {
   "cell_type": "markdown",
   "id": "2f586ca1-d44a-4d96-84e4-07e635206582",
   "metadata": {},
   "source": [
    "f- string"
   ]
  },
  {
   "cell_type": "code",
   "execution_count": 7,
   "id": "bff576dd-1d41-479e-973d-99b25bb8800e",
   "metadata": {},
   "outputs": [
    {
     "name": "stdout",
     "output_type": "stream",
     "text": [
      "we are going to Alice to eat Jollof rice.\n"
     ]
    }
   ],
   "source": [
    "food = \"Jollof rice\"\n",
    "place = \"Alice\"\n",
    "print(f\"we are going to {place} to eat {food}.\")"
   ]
  },
  {
   "cell_type": "markdown",
   "id": "c7988846-13e9-4252-8f4c-d8f98c806f21",
   "metadata": {},
   "source": [
    ".format method"
   ]
  },
  {
   "cell_type": "code",
   "execution_count": 9,
   "id": "242fadef-a47c-49f1-b63d-f27e5c11616f",
   "metadata": {},
   "outputs": [
    {
     "name": "stdout",
     "output_type": "stream",
     "text": [
      "we are going to Alice to eat Jollof rice\n"
     ]
    }
   ],
   "source": [
    "food = \"Jollof rice\"\n",
    "place = \"Alice\"\n",
    "print(\"we are going to {} to eat {}\".format(place,food))"
   ]
  },
  {
   "cell_type": "code",
   "execution_count": 11,
   "id": "cb871daa-1088-4d50-8636-e9ffee8803aa",
   "metadata": {},
   "outputs": [
    {
     "name": "stdout",
     "output_type": "stream",
     "text": [
      "1300\n"
     ]
    }
   ],
   "source": [
    "rice_price = 500\n",
    "beans_price = 600\n",
    "yam_price = 200\n",
    "\n",
    "total = rice_price + beans_price + yam_price\n",
    "print(total)"
   ]
  },
  {
   "cell_type": "code",
   "execution_count": 1,
   "id": "6cecc459-8310-4ee5-8ab7-1bc08957d1ea",
   "metadata": {},
   "outputs": [],
   "source": [
    "#Variables to store prices of different items\n",
    "\n",
    "price_of_vanilla_icecream = 10.00\n",
    "price_of_chocolate_icecream = 3.00\n",
    "price_of_cone = 0.75"
   ]
  },
  {
   "cell_type": "code",
   "execution_count": 3,
   "id": "71db0509-903c-42e5-8d35-86e5b6b070f4",
   "metadata": {},
   "outputs": [],
   "source": [
    "# Variable to store the number of items\n",
    "number_of_vanilla = 2\n",
    "number_of_chocolate = 1\n",
    "number_of_cones = 3"
   ]
  },
  {
   "cell_type": "markdown",
   "id": "7341a0fa-0973-419e-b762-e1e80dd3b888",
   "metadata": {},
   "source": [
    "Using print formatting e.g print(\"The total cost is:\", total_cost), \"The total cost is:\" is a way ensuring that while printing the output, the output will come up uniquely by printing the total cost is 2605.25, this is mor clearer and concise than just printing 2605.25. print formating or strucured and concise way of printing output can include String concatenation, The % operator, .format(), f-strings (formatted string literals)."
   ]
  },
  {
   "cell_type": "code",
   "execution_count": 13,
   "id": "bafbef2e-c965-40f3-bf17-37512adc719e",
   "metadata": {},
   "outputs": [
    {
     "name": "stdout",
     "output_type": "stream",
     "text": [
      "The total cost is: 2605.25\n"
     ]
    }
   ],
   "source": [
    "# Calculate the total cost\n",
    "# We need to multiply\n",
    "total_cost = (total * number_of_vanilla) + (price_of_chocolate_icecream * number_of_chocolate) + (price_of_cone * number_of_cones)\n",
    "\n",
    "# Output the total cost\n",
    "print(\"The total cost is:\", total_cost)"
   ]
  },
  {
   "cell_type": "code",
   "execution_count": 17,
   "id": "94be3de4-829d-4a04-b405-7998a5c8cf87",
   "metadata": {},
   "outputs": [
    {
     "name": "stdout",
     "output_type": "stream",
     "text": [
      "For my birthday we will serve Jollof Rice\n"
     ]
    }
   ],
   "source": [
    "#String concatenation\n",
    "\n",
    "# Example:\n",
    "dish = \"Jollof Rice\"\n",
    "occasion = \"birthday\"\n",
    "print(\"For my \"+ occasion + \" we will serve \" + dish)\n",
    "\n",
    "\n",
    "#print(\"For the \" + occasion + \", we will serve delicious \" + dish + \".\")"
   ]
  },
  {
   "cell_type": "code",
   "execution_count": 21,
   "id": "0db94f5c-0c35-4c6b-80fc-e3affb274126",
   "metadata": {},
   "outputs": [
    {
     "name": "stdout",
     "output_type": "stream",
     "text": [
      "I will give you 1000 dollars for the send forth\n"
     ]
    }
   ],
   "source": [
    "money = \"1000 dollars\"\n",
    "ceremony = \"send forth\"\n",
    "\n",
    "print(\"I will give you \"+money+\" for the \" +ceremony)\n"
   ]
  },
  {
   "cell_type": "code",
   "execution_count": 27,
   "id": "8b30c713-9f2a-4632-9306-06f7e3c21ae2",
   "metadata": {},
   "outputs": [
    {
     "name": "stdout",
     "output_type": "stream",
     "text": [
      "The latest album by Fejosbaba is titled Breathing letters has the highest rate of 500\n"
     ]
    }
   ],
   "source": [
    "#% Operator:\n",
    "#Commonly Used Icons/Placeholders:\n",
    "\n",
    "#%s is used to represent strings\n",
    "#%d is used to represent integers\n",
    "#%f is used to represent floats\n",
    "#%r is used to represent debugging representation\n",
    "\n",
    "#Example:\n",
    "artist = \"Fejosbaba\"\n",
    "album = \"Breathing letters\"\n",
    "rate = 500\n",
    "print(\"The latest album by %s is titled %s has the highest rate of %d\"  %(artist, album, rate))\n",
    "\n",
    "\n",
    "#print(\"The latest album by %s is titled %s.\" % (artist, album, rate))\n",
    "\n",
    "#The %d is  like an icon used to represent different types of items."
   ]
  },
  {
   "cell_type": "markdown",
   "id": "f5bfdb72-9cad-4614-a7f2-8bcfb6f5f793",
   "metadata": {},
   "source": [
    "Datatype and structures: primitive datatypes are strings, boolean, float and integers while non- primitive are used for complex tasks built by primitive datatypes it include built in(list, turple, dictionary and sets) and user friendly (queue,stack, linkedlist and tree)"
   ]
  },
  {
   "cell_type": "code",
   "execution_count": 34,
   "id": "3c6b4dee-946f-4928-896c-cdd9c4bf03d0",
   "metadata": {},
   "outputs": [
    {
     "name": "stdout",
     "output_type": "stream",
     "text": [
      "Alice Pounded-yam\n",
      "Ifedayo AKERELE\n"
     ]
    }
   ],
   "source": [
    "#strings\n",
    "\n",
    "#Ore's name as a string\n",
    "Place = 'Akure'\n",
    "Best_food = \"Pounded-yam\"\n",
    "\n",
    "print(place, Best_food)\n",
    "\n",
    "# Job title as a string\n",
    "job_title = \"Ifedayo AKERELE\"\n",
    "print(job_title)"
   ]
  },
  {
   "cell_type": "code",
   "execution_count": 38,
   "id": "50ab9c08-b900-42bb-941b-bbc846226f3d",
   "metadata": {},
   "outputs": [
    {
     "name": "stdout",
     "output_type": "stream",
     "text": [
      " \n",
      "We are studying hard here man ! you may join us\n",
      "we are studying hard here man ! \n",
      "WE ARE STUDYING HARD HERE MAN ! \n",
      "We are studying hard here man !\n"
     ]
    }
   ],
   "source": [
    "code = \"We are studying hard here man ! \"\n",
    "\n",
    "#print(len(code))\n",
    "#print(code[4])\n",
    "#print(code[0])\n",
    "\n",
    "print(code[-3])\n",
    "print(code+ 'you may join us')\n",
    "print(code.lower())\n",
    "print(code.upper())\n",
    "print(code.strip())"
   ]
  },
  {
   "cell_type": "code",
   "execution_count": 40,
   "id": "3b2c9e0b-fcda-46db-b12f-ad0798f72323",
   "metadata": {},
   "outputs": [
    {
     "name": "stdout",
     "output_type": "stream",
     "text": [
      "21\n"
     ]
    }
   ],
   "source": [
    "print(code.find('here'))\n",
    "\n",
    "#returns the index at which the word \"learning\" starts"
   ]
  },
  {
   "cell_type": "code",
   "execution_count": 44,
   "id": "ae54ef5c-4c4d-4c03-b72e-d3c4ed8212ed",
   "metadata": {},
   "outputs": [
    {
     "name": "stdout",
     "output_type": "stream",
     "text": [
      "We are studying easily here man ! \n"
     ]
    }
   ],
   "source": [
    "print(code.replace('hard', \"easily\"))\n",
    "\n",
    "#returns the index at which the word \"learning\" starts"
   ]
  },
  {
   "cell_type": "code",
   "execution_count": 48,
   "id": "186eb682-2ce8-4bd9-9bb5-60009d753b56",
   "metadata": {},
   "outputs": [
    {
     "name": "stdout",
     "output_type": "stream",
     "text": [
      "['We', 'are', 'studying', 'hard', 'here', 'man', '!', '']\n"
     ]
    }
   ],
   "source": [
    "splitted_codes = code.split(\" \")\n",
    "\n",
    "print(splitted_codes)"
   ]
  },
  {
   "cell_type": "code",
   "execution_count": 50,
   "id": "ba3b1bce-67bb-4a0b-b04f-f8a15adcf1b1",
   "metadata": {},
   "outputs": [
    {
     "name": "stdout",
     "output_type": "stream",
     "text": [
      "We are studying hard here man ! \n"
     ]
    }
   ],
   "source": [
    "#joining a list of elements into a single string\n",
    "#this joins the elements of thes_splitted variable into a sentence or single string with each word seperated from the other by spaces\n",
    "\n",
    "Original_code = ' '.join(splitted_codes)\n",
    "\n",
    "print(Original_code)"
   ]
  },
  {
   "cell_type": "code",
   "execution_count": 52,
   "id": "7dcfb977-42b8-4ec1-a187-b1cff4ec7212",
   "metadata": {},
   "outputs": [
    {
     "name": "stdout",
     "output_type": "stream",
     "text": [
      "n\n",
      "That \n",
      "Ta IadM u\n",
      "T aMu\n",
      "yug LM dna IA tahT\n"
     ]
    }
   ],
   "source": [
    "#looping\n",
    "\n",
    "y = 'That AI and ML guy'\n",
    "\n",
    "print(y[-9])\n",
    "print(y[:5])\n",
    "print(y[::2])  #loops over the string and selects the second letter at each interval\n",
    "print(y[::4])\n",
    "print(y[::-1])"
   ]
  },
  {
   "cell_type": "code",
   "execution_count": 56,
   "id": "5eed91f5-7e8e-43c7-b398-2df58f24bba6",
   "metadata": {},
   "outputs": [],
   "source": [
    "#creating an empty list, Lists are in square brackets[]\n",
    "jobs = []"
   ]
  },
  {
   "cell_type": "code",
   "execution_count": 58,
   "id": "5212779e-22ee-473e-b8ac-22508fdfa6fb",
   "metadata": {},
   "outputs": [
    {
     "name": "stdout",
     "output_type": "stream",
     "text": [
      "<class 'list'>\n"
     ]
    }
   ],
   "source": [
    "print(type(jobs))"
   ]
  },
  {
   "cell_type": "code",
   "execution_count": 60,
   "id": "7acc9a34-3883-41e4-9a71-794a363de260",
   "metadata": {},
   "outputs": [
    {
     "name": "stdout",
     "output_type": "stream",
     "text": [
      "<class 'list'>\n",
      "4\n"
     ]
    }
   ],
   "source": [
    "plant_products = ['Beans', 'Yam', 'Soybean', 'Plantain']\n",
    "print(type(plant_products)) #what kind of data structure?\n",
    "print(len(plant_products)) #what is the length of the data structure?"
   ]
  },
  {
   "cell_type": "code",
   "execution_count": 62,
   "id": "015419e8-7fc2-4e77-bc4d-7d7d2cc20de4",
   "metadata": {},
   "outputs": [
    {
     "name": "stdout",
     "output_type": "stream",
     "text": [
      "['Beans', 'Yam', 'Soybean', 'Plantain', True, 'ORANGE', 21.678, [56, 'Rocket']]\n"
     ]
    }
   ],
   "source": [
    "#remember we said that data structures could contain multiple types of primitive data structures\n",
    "plant_products.append(True) #adding a boolean\n",
    "plant_products.append('ORANGE') #a string\n",
    "plant_products.append(21.678) #a float number\n",
    "plant_products.append([56, 'Rocket']) # adding a list data structure within a list\n",
    "\n",
    "print(plant_products)"
   ]
  },
  {
   "cell_type": "markdown",
   "id": "203bc4d0-b8a3-452f-9e38-92957b9b98a7",
   "metadata": {},
   "source": [
    "Indexing"
   ]
  },
  {
   "cell_type": "code",
   "execution_count": 73,
   "id": "446c54ca-cbc6-45de-86db-4d315eeb071f",
   "metadata": {},
   "outputs": [
    {
     "name": "stdout",
     "output_type": "stream",
     "text": [
      "Soybean\n"
     ]
    }
   ],
   "source": [
    "print(plant_products[2])"
   ]
  },
  {
   "cell_type": "code",
   "execution_count": 75,
   "id": "8a039448-c681-43b4-a396-a8fa144d6814",
   "metadata": {},
   "outputs": [
    {
     "name": "stdout",
     "output_type": "stream",
     "text": [
      "['Beans', 'Yam', 'Soybean', 'I will work at NASA someday.', True, 'ORANGE', 21.678, [56, 'United states of America']]\n"
     ]
    }
   ],
   "source": [
    "#lists are mutable that means that they can be mofified after they have been created\n",
    "\n",
    "#modifies the 4th element\n",
    "plant_products[3] = 'I will work at NASA someday.'\n",
    "\n",
    "#modifies the second value of the list at the 8th position\n",
    "plant_products[7][1] = 'United states of America'\n",
    "print(plant_products)"
   ]
  },
  {
   "cell_type": "code",
   "execution_count": 77,
   "id": "15f24749-5cf6-4f51-8ae5-234c6ac297b1",
   "metadata": {},
   "outputs": [
    {
     "name": "stdout",
     "output_type": "stream",
     "text": [
      "list before sorting:  [1, 5, 90, 87, 56, 43, 23, 21, 12, 34, 1, 2]\n",
      "list after sorting:  [1, 1, 2, 5, 12, 21, 23, 34, 43, 56, 87, 90]\n"
     ]
    }
   ],
   "source": [
    "#sorting a list - the list to be sorted should be homogenuous, i.e of the same data types, IN ORDERLY FORMS\n",
    "\n",
    "fold = [1,5,90, 87, 56, 43, 23, 21, 12, 34, 1, 2]\n",
    "\n",
    "print('list before sorting: ', fold)\n",
    "\n",
    "fold.sort()\n",
    "\n",
    "print('list after sorting: ', fold)"
   ]
  },
  {
   "cell_type": "code",
   "execution_count": 79,
   "id": "6d0901cf-4871-4031-913c-5c90d1355738",
   "metadata": {},
   "outputs": [
    {
     "name": "stdout",
     "output_type": "stream",
     "text": [
      "['Beans', 'Yam', 'Soybean', 'I will work at NASA someday.', True, 'ORANGE', 21.678, [56, 'United states of America'], 1, 1, 2, 5, 12, 21, 23, 34, 43, 56, 87, 90]\n"
     ]
    }
   ],
   "source": [
    "plant_products.extend(fold)\n",
    "\n",
    "print(plant_products)"
   ]
  },
  {
   "cell_type": "code",
   "execution_count": 81,
   "id": "bf483d27-e1d2-49a1-9df1-43e93ecc97f2",
   "metadata": {},
   "outputs": [
    {
     "name": "stdout",
     "output_type": "stream",
     "text": [
      "[90, 87, 56, 43, 34, 23, 21, 12, 5, 2, 1, 1]\n"
     ]
    }
   ],
   "source": [
    "#reversing the list\n",
    "fold.reverse()\n",
    "print(fold)"
   ]
  },
  {
   "cell_type": "markdown",
   "id": "1c635e74-d481-44af-9a28-ca95d954123b",
   "metadata": {},
   "source": [
    "Concatenating list"
   ]
  },
  {
   "cell_type": "code",
   "execution_count": 83,
   "id": "7d6f4333-a96d-4804-9ff1-43420a93f323",
   "metadata": {},
   "outputs": [
    {
     "name": "stdout",
     "output_type": "stream",
     "text": [
      "['Beans', 'Yam', 'Soybean', 'I will work at NASA someday.', True, 'ORANGE', 21.678, [56, 'United states of America'], 1, 1, 2, 5, 12, 21, 23, 34, 43, 56, 87, 90, 90, 87, 56, 43, 34, 23, 21, 12, 5, 2, 1, 1]\n"
     ]
    }
   ],
   "source": [
    "print(plant_products+fold)"
   ]
  },
  {
   "cell_type": "markdown",
   "id": "6db4b916-dfdb-43e2-8368-7b750e9e29d8",
   "metadata": {},
   "source": [
    "Tuple are ordered collection of items, enclosed in parentheses () and are immutable, they cannot be changed once they have been created."
   ]
  },
  {
   "cell_type": "code",
   "execution_count": 101,
   "id": "8ffdd275-362a-4538-840d-566493b9fad0",
   "metadata": {},
   "outputs": [
    {
     "name": "stdout",
     "output_type": "stream",
     "text": [
      "<class 'tuple'>\n",
      "8\n",
      "('Beans', 'Pawpaw')\n"
     ]
    }
   ],
   "source": [
    "#a tuple containing different data types and data structures\n",
    "Fruits = (\"Mango\", 'Cherry', 'Beans', \"Pawpaw\", 'FalseFruits', ('Good Fruits'), 'Oranges',  [\"tomatoes\", \"ginger\",\"tumeric\"])\n",
    "\n",
    "#applying attributes\n",
    "print(type(Fruits))\n",
    "print(len(Fruits))\n",
    "\n",
    "#using indexing\n",
    "print(Fruits[2:4]) #selects the 3rd and 4th values in the tuple"
   ]
  },
  {
   "cell_type": "code",
   "execution_count": 106,
   "id": "a4e065f3-ceb1-497a-bf21-a866d96bd844",
   "metadata": {},
   "outputs": [
    {
     "data": {
      "text/plain": [
       "1"
      ]
     },
     "execution_count": 106,
     "metadata": {},
     "output_type": "execute_result"
    }
   ],
   "source": [
    "Fruits.count(\"Mango\")"
   ]
  },
  {
   "cell_type": "code",
   "execution_count": 108,
   "id": "fb4affba-7422-41cb-ac01-e85a0a916ea3",
   "metadata": {},
   "outputs": [
    {
     "name": "stdout",
     "output_type": "stream",
     "text": [
      "{1, 2, 3, 4, 5, 'NASA'}\n"
     ]
    }
   ],
   "source": [
    "#set An unordered collection of unique items, enclosed in curly braces {} or created using the set() function. Sets do not allow duplicates and are mutable\n",
    "set = set([1,1,2,2,3,3,4,4,5,4,5,'NASA'])\n",
    "\n",
    "print(set)\n",
    "#sets do not allow duplicate values"
   ]
  },
  {
   "cell_type": "code",
   "execution_count": 116,
   "id": "1a0e6d0f-81fe-4f79-b28b-71c4e492ceae",
   "metadata": {},
   "outputs": [
    {
     "name": "stdout",
     "output_type": "stream",
     "text": [
      "<class 'set'>\n"
     ]
    }
   ],
   "source": [
    "s = {1,2,3,4,5,6,7,8,9}\n",
    "print(type(s))"
   ]
  },
  {
   "cell_type": "code",
   "execution_count": 130,
   "id": "4ac299e5-84d7-4c63-bd54-2f3faaff05fb",
   "metadata": {},
   "outputs": [
    {
     "name": "stdout",
     "output_type": "stream",
     "text": [
      "{1, 2, 3, 4, 5, 'cherry', 7, 6, 'water melon', 8, 9, 10, 'carrot', 'pineapple', 'orange', 'apple'}\n",
      "{1, 2, 3, 4, 'water melon', 7, 8, 9, 10, 'carrot', 'pineapple', 'orange'}\n",
      "{4}\n",
      "{4}\n",
      "{1, 2, 3, 4, 'pineapple', 'orange'}\n",
      "{1, 2, 3, 'pineapple', 'orange'}\n",
      "{5, 6, 'cherry', 7, 'apple'}\n",
      "{1, 2, 3, 5, 'cherry', 7, 6, 'apple', 'pineapple', 'orange'}\n"
     ]
    }
   ],
   "source": [
    "set1 = {1,2,3,4,\"orange\",\"pineapple\"}\n",
    "set2 = {5,6,7,4,\"apple\",\"cherry\"}\n",
    "set3 = {7,8,9,10,\"water melon\",\"carrot\"}\n",
    "\n",
    "#operations that can be carried out on sets\n",
    "\n",
    "#concatenation or union\n",
    "print(set1|set2|set3)\n",
    "print(set1.union(set3))\n",
    "\n",
    "#intersection\n",
    "print(set1&set2)\n",
    "print(set1.intersection(set2))\n",
    "\n",
    "#difference\n",
    "print(set1-set3)\n",
    "print(set1.difference(set2))\n",
    "print(set2-set1)\n",
    "\n",
    "#symmetric difference -- a set of elements that are either in set1 or set2 but not in both\n",
    "print(set1^set2)"
   ]
  },
  {
   "cell_type": "code",
   "execution_count": 132,
   "id": "d7237a40-d34c-46b6-8448-8d6b5b34800c",
   "metadata": {},
   "outputs": [
    {
     "name": "stdout",
     "output_type": "stream",
     "text": [
      "{1, 2, 3, 4, 'orange', 'pineapple', 'apple'}\n",
      "{4, 5, 7, 6, 'apple'}\n"
     ]
    }
   ],
   "source": [
    "set1 = {1,2,3,4,\"orange\",\"pineapple\"}\n",
    "\n",
    "set1.add(\"apple\")\n",
    "print(set1)\n",
    "\n",
    "set2.remove(\"cherry\")\n",
    "print(set2)"
   ]
  },
  {
   "cell_type": "markdown",
   "id": "701bf590-21d4-48cb-9842-91e544e34c0e",
   "metadata": {},
   "source": [
    "Dictionary : An unordered collection of key-value pairs, enclosed in curly braces {} Each key is unique and associated with a corresponding value.\n",
    "\n",
    "The key refers to the value before the colon and the key represents the value after the colon."
   ]
  },
  {
   "cell_type": "code",
   "execution_count": 135,
   "id": "85197b16-3817-4d63-b1fb-051316036115",
   "metadata": {},
   "outputs": [
    {
     "name": "stdout",
     "output_type": "stream",
     "text": [
      "{'FAG': 'crop', 'FFCS': 'beans', 'NUD': 'good cholesterol', 'FGMS': 'Accounting', 'FNS': 'Nursing'}\n"
     ]
    }
   ],
   "source": [
    "Olusegun_Oke_Library = {}\n",
    "\n",
    "Olusegun_Oke_Library = {'FAG': 'crop', 'FFCS': 'beans', 'NUD': 'good cholesterol', 'FGMS': 'Accounting', \"FNS\": \"Nursing\"}\n",
    "\n",
    "print(Olusegun_Oke_Library)"
   ]
  },
  {
   "cell_type": "code",
   "execution_count": 137,
   "id": "e0014d59-95b1-4226-87e7-5b04a9a0beb9",
   "metadata": {},
   "outputs": [
    {
     "name": "stdout",
     "output_type": "stream",
     "text": [
      "{'FAG': 'crop', 'FFCS': 'rice and beans with plantain and vegetable sauce🤗', 'NUD': 'good cholesterol', 'FGMS': 'Accounting', 'FNS': 'Nursing', 'FBMS': 'Medicine', 'PASSA': 'Biology', 'FCI': 'Computer', 'FAS': 'Library'}\n"
     ]
    }
   ],
   "source": [
    "#updating dictioanries - keys are immutable while values are mutable\n",
    "\n",
    "Olusegun_Oke_Library['FFCS'] = 'rice and beans with plantain and vegetable sauce🤗'\n",
    "Olusegun_Oke_Library['FBMS'] = 'Medicine'\n",
    "Olusegun_Oke_Library['PASSA'] = 'Biology'\n",
    "Olusegun_Oke_Library['FCI'] = 'Computer'\n",
    "Olusegun_Oke_Library['FAS'] = 'Library'\n",
    "print(Olusegun_Oke_Library)"
   ]
  },
  {
   "cell_type": "code",
   "execution_count": 139,
   "id": "622d8ece-4998-40e0-a28d-62e986c6a7ed",
   "metadata": {},
   "outputs": [
    {
     "data": {
      "text/plain": [
       "{'FAG': 'crop',\n",
       " 'FFCS': 'rice and beans with plantain and vegetable sauce🤗',\n",
       " 'NUD': 'good cholesterol',\n",
       " 'FGMS': 'Accounting',\n",
       " 'FNS': 'Nursing',\n",
       " 'FBMS': 'Medicine',\n",
       " 'PASSA': 'Biology',\n",
       " 'FCI': 'Computer'}"
      ]
     },
     "execution_count": 139,
     "metadata": {},
     "output_type": "execute_result"
    }
   ],
   "source": [
    "#deleting a key-value pair\n",
    "del Olusegun_Oke_Library['FAS']\n",
    "Olusegun_Oke_Library"
   ]
  },
  {
   "cell_type": "code",
   "execution_count": 141,
   "id": "562bb578-2cd1-4a20-9b18-12bd6c921783",
   "metadata": {},
   "outputs": [
    {
     "name": "stdout",
     "output_type": "stream",
     "text": [
      "The keys include: dict_keys(['FAG', 'FFCS', 'NUD', 'FGMS', 'FNS', 'FBMS', 'PASSA', 'FCI']) \n",
      "\n",
      "The values include: dict_items([('FAG', 'crop'), ('FFCS', 'rice and beans with plantain and vegetable sauce🤗'), ('NUD', 'good cholesterol'), ('FGMS', 'Accounting'), ('FNS', 'Nursing'), ('FBMS', 'Medicine'), ('PASSA', 'Biology'), ('FCI', 'Computer')])\n"
     ]
    }
   ],
   "source": [
    "#prints all the keys and values in the dictionary\n",
    "print(\"The keys include:\", Olusegun_Oke_Library.keys(),'\\n')\n",
    "print(\"The values include:\",Olusegun_Oke_Library.items())\n",
    "\n",
    "#where '\\n' = line break"
   ]
  },
  {
   "cell_type": "code",
   "execution_count": 143,
   "id": "90b4baf4-6c35-476a-b3f8-a2978251847c",
   "metadata": {},
   "outputs": [
    {
     "data": {
      "text/plain": [
       "dict_keys(['FAG', 'FFCS', 'NUD', 'FGMS', 'FNS', 'FBMS', 'PASSA', 'FCI'])"
      ]
     },
     "execution_count": 143,
     "metadata": {},
     "output_type": "execute_result"
    }
   ],
   "source": [
    "Olusegun_Oke_Library.keys()"
   ]
  },
  {
   "cell_type": "code",
   "execution_count": 145,
   "id": "219cf0d3-05a2-4a71-973c-8ba9156da008",
   "metadata": {},
   "outputs": [
    {
     "data": {
      "text/plain": [
       "dict_items([('FAG', 'crop'), ('FFCS', 'rice and beans with plantain and vegetable sauce🤗'), ('NUD', 'good cholesterol'), ('FGMS', 'Accounting'), ('FNS', 'Nursing'), ('FBMS', 'Medicine'), ('PASSA', 'Biology'), ('FCI', 'Computer')])"
      ]
     },
     "execution_count": 145,
     "metadata": {},
     "output_type": "execute_result"
    }
   ],
   "source": [
    "Olusegun_Oke_Library.items()"
   ]
  },
  {
   "cell_type": "markdown",
   "id": "11b961a7-18ee-4033-9713-38a7c9da0dd6",
   "metadata": {},
   "source": [
    "Summary\n",
    "\n",
    "Lists:\n",
    "Mutable\n",
    "Dynamic as they can increase or be decreased in size\n",
    "Ordered collection of items which means it can be indexed and sliced\n",
    "\n",
    "Tuples:\n",
    "Similar to lists\n",
    "Immutable\n",
    "Allows slicing and indexing\n",
    "Dictionary:\n",
    "\n",
    "Keys are immutable and unique, values are mutable\n",
    "Unordered collection of items which means they cannot be indexed\n",
    "\n",
    "Sets:\n",
    "No duplicates are allowed\n",
    "Unordered collection of items which means they do not allow indexing or slicing\n",
    "They are mutable"
   ]
  },
  {
   "cell_type": "code",
   "execution_count": 151,
   "id": "c9481a35-48bb-4caf-9f14-89f69a34c9fc",
   "metadata": {},
   "outputs": [
    {
     "name": "stdout",
     "output_type": "stream",
     "text": [
      "Tasks           Time(mins)      Status         \n",
      "Morning routine 120             Done           \n",
      "Python practice 20              Done           \n",
      "Pray            60              Done           \n",
      "Study Bible     120             Not done       \n",
      "Eat             30              Done           \n",
      " Do Data Analysis project 90              In progress    \n"
     ]
    }
   ],
   "source": [
    "task_status = {'Done', 'In progress', 'Not done'}\n",
    "\n",
    "my_to_do_list = {'Tasks': ['Morning routine', 'Python practice', 'Pray', 'Study Bible', 'Eat', ' Do Data Analysis project'],\n",
    "            'Time(mins)': [120, 20, 60, 120, 30, 90,100],\n",
    "            'Status': ['Done', 'Done', 'Done', 'Not done', 'Done', 'In progress',\"Not done\"]\n",
    "           }\n",
    "\n",
    "print(\"{:<15} {:<15} {:<15}\".format('Tasks', 'Time(mins)', 'Status'))\n",
    "\n",
    "for task, time, status in zip(my_to_do_list['Tasks'], my_to_do_list['Time(mins)'], my_to_do_list['Status']):\n",
    "    print(\"{:<15} {:<15} {:15}\".format(task, time, status))"
   ]
  },
  {
   "cell_type": "code",
   "execution_count": 153,
   "id": "b1878ce2-bc2e-495d-9351-c39bb83d4597",
   "metadata": {},
   "outputs": [
    {
     "name": "stdout",
     "output_type": "stream",
     "text": [
      "Morning routine 120             Done           \n",
      "Python practice 20              Done           \n",
      "Pray            60              Done           \n",
      "Study Bible     120             Not done       \n",
      "Eat             30              Done           \n",
      " Do Data Analysis project 90              In progress    \n",
      "Sleep           100             Not done       \n"
     ]
    }
   ],
   "source": [
    "## Features for the program\n",
    "\n",
    "#1 Add tasks to the to-do list.\n",
    "\n",
    "new_task = 'Sleep'\n",
    "time = 240\n",
    "status = 'Done'\n",
    "\n",
    "my_to_do_list['Tasks'].append(new_task)\n",
    "my_to_do_list['Time(mins)'].append(time)\n",
    "my_to_do_list['Status'].append(status)\n",
    "\n",
    "for task, time, status in zip(my_to_do_list['Tasks'], my_to_do_list['Time(mins)'], my_to_do_list['Status']):\n",
    "    print(\"{:<15} {:<15} {:15}\".format(task, time, status))"
   ]
  },
  {
   "cell_type": "code",
   "execution_count": 157,
   "id": "6c0c7489-9f2e-42df-b89b-b67109f98c02",
   "metadata": {},
   "outputs": [
    {
     "name": "stdout",
     "output_type": "stream",
     "text": [
      "Morning routine 120             Done           \n",
      "Python practice 20              Done           \n",
      "Pray            60              Done           \n",
      "Study Bible     120             Not done       \n",
      "Eat             30              Done           \n",
      "Sleep           90              In progress    \n"
     ]
    }
   ],
   "source": [
    "#2 removing tasks from the to_do list\n",
    "\n",
    "del my_to_do_list['Tasks'][5]\n",
    "\n",
    "my_to_do_list\n",
    "\n",
    "for task, time, status in zip(my_to_do_list['Tasks'], my_to_do_list['Time(mins)'], my_to_do_list['Status']):\n",
    "    print(\"{:<15} {:<15} {:15}\".format(task, time, status))"
   ]
  },
  {
   "cell_type": "code",
   "execution_count": 159,
   "id": "01ee1434-efe4-431e-80d4-d97e8af5b5bc",
   "metadata": {},
   "outputs": [
    {
     "name": "stdout",
     "output_type": "stream",
     "text": [
      "Morning routine 120             Done           \n",
      "Python practice 20              Done           \n",
      "Pray            60              Done           \n",
      "Study Bible     120             Not done       \n",
      "Eat             30              Done           \n",
      "Sleep           90              Done           \n"
     ]
    }
   ],
   "source": [
    "#3 updating tasks\n",
    "\n",
    "my_to_do_list['Status'][5] = 'Done'\n",
    "\n",
    "for task, time, status in zip(my_to_do_list['Tasks'], my_to_do_list['Time(mins)'], my_to_do_list['Status']):\n",
    "    print(\"{:<15} {:<15} {:<15}\".format(task, time, status))"
   ]
  },
  {
   "cell_type": "code",
   "execution_count": 161,
   "id": "c650b449-b213-4db8-a741-180caf69875b",
   "metadata": {},
   "outputs": [
    {
     "name": "stdout",
     "output_type": "stream",
     "text": [
      "Morning routine 120             Done           \n",
      "Python practice 20              Done           \n",
      "Pray            60              Done           \n",
      "Study Bible     120             Done           \n",
      "Eat             30              Done           \n",
      "Sleep           90              Done           \n"
     ]
    }
   ],
   "source": [
    "my_to_do_list['Status'][3] = 'Done'\n",
    "\n",
    "for task, time, status in zip(my_to_do_list['Tasks'], my_to_do_list['Time(mins)'], my_to_do_list['Status']):\n",
    "    print(\"{:<15} {:<15} {:<15}\".format(task, time, status))"
   ]
  },
  {
   "cell_type": "markdown",
   "id": "de795b46-7aed-4e2f-af0c-c49c94825945",
   "metadata": {},
   "source": [
    "Operator: arithmetic, logical, comparison, assignment, identity, membership, relational"
   ]
  },
  {
   "cell_type": "code",
   "execution_count": 165,
   "id": "8407f99f-18ee-4c6f-8441-b98ec5477aaa",
   "metadata": {},
   "outputs": [
    {
     "name": "stdout",
     "output_type": "stream",
     "text": [
      "You have exceeded your budget.\n"
     ]
    }
   ],
   "source": [
    "# Define the budget and total expenses\n",
    "budget = 2000\n",
    "total_expenses = 18000\n",
    "\n",
    "# Check if total expenses are within the budget\n",
    "if total_expenses <= budget:\n",
    "    print(\"You are within your budget.\")\n",
    "else:\n",
    "    print(\"You have exceeded your budget.\")"
   ]
  },
  {
   "cell_type": "markdown",
   "id": "11579d34-d065-4193-9fb1-c1d1afeed03c",
   "metadata": {},
   "source": [
    "List of Operators\n",
    "and: Returns True only if both conditions are true.\n",
    "or: Returns True if at least one of the conditions is true.\n",
    "not: Reverses the result of a condition, making True become False, and vice versa."
   ]
  },
  {
   "cell_type": "code",
   "execution_count": 167,
   "id": "f1943d70-3066-4858-b15a-73c19bfa1bbd",
   "metadata": {},
   "outputs": [
    {
     "name": "stdout",
     "output_type": "stream",
     "text": [
      "You can buy both bread and peanut butter.\n"
     ]
    }
   ],
   "source": [
    "# Check availability of items\n",
    "bread_available = True\n",
    "peanut_butter_available = True\n",
    "\n",
    "# Again, copy this code and observe the result\n",
    "# Use 'and' to check if both items are available\n",
    "\n",
    "if bread_available and peanut_butter_available:\n",
    "    print(\"You can buy both bread and peanut butter.\")\n",
    "else:\n",
    "    print(\"One or both items are not available.\")"
   ]
  },
  {
   "cell_type": "code",
   "execution_count": 169,
   "id": "f1f224db-08c6-4fc7-8337-21747bf5187c",
   "metadata": {},
   "outputs": [
    {
     "name": "stdout",
     "output_type": "stream",
     "text": [
      "You can go out this weekend!\n"
     ]
    }
   ],
   "source": [
    "# Check if places are open\n",
    "movies_open = False\n",
    "park_open = True\n",
    "\n",
    "# Use 'or' to check if at least one place is open\n",
    "if movies_open or park_open:\n",
    "    print(\"You can go out this weekend!\")\n",
    "else:\n",
    "    print(\"Both places are closed.\")"
   ]
  },
  {
   "cell_type": "code",
   "execution_count": 175,
   "id": "0370f409-806d-42f1-82bc-b83ad449301b",
   "metadata": {},
   "outputs": [
    {
     "name": "stdout",
     "output_type": "stream",
     "text": [
      "True\n"
     ]
    }
   ],
   "source": [
    "# Check the weather condition; is it raining\n",
    "is_raining = False\n",
    "# False means it is not raining\n",
    "\n",
    "# `not` negates, that is it gives you the opposite of a task;\n",
    "can_we_go_for_picnic = not is_raining\n",
    "print(can_we_go_for_picnic)"
   ]
  },
  {
   "cell_type": "code",
   "execution_count": 177,
   "id": "17b247a1-0d2d-4036-9a56-868ad93049f5",
   "metadata": {},
   "outputs": [
    {
     "name": "stdout",
     "output_type": "stream",
     "text": [
      "Can we go for a picnic? True\n"
     ]
    }
   ],
   "source": [
    "print(\"Can we go for a picnic?\", can_we_go_for_picnic)"
   ]
  },
  {
   "cell_type": "markdown",
   "id": "144af041-ec55-4559-9b0b-f2d848003000",
   "metadata": {},
   "source": [
    "List of Operators:\n",
    "= (Assign):\n",
    "\n",
    "This operator assigns a value to a variable.\n",
    "Example: x = 10 assigns the value 10 to the variable x.\n",
    "+= (Add and Assign):\n",
    "\n",
    "This operator adds a value to a variable and assigns the result back to that variable."
   ]
  },
  {
   "cell_type": "code",
   "execution_count": 179,
   "id": "f1c68ceb-f99e-4ab4-9a86-feede5ddf534",
   "metadata": {},
   "outputs": [
    {
     "name": "stdout",
     "output_type": "stream",
     "text": [
      "11\n"
     ]
    }
   ],
   "source": [
    "y = 8\n",
    "y += 3  # Equivalent to x = x + 3\n",
    "\n",
    "print(y)"
   ]
  },
  {
   "cell_type": "code",
   "execution_count": 183,
   "id": "9c48e592-3ce3-44c8-82a8-6ccff51ebceb",
   "metadata": {},
   "outputs": [
    {
     "name": "stdout",
     "output_type": "stream",
     "text": [
      "6\n"
     ]
    }
   ],
   "source": [
    "a = 10\n",
    "a -= 4  # Equivalent to x = x - 4\n",
    "print(a)"
   ]
  },
  {
   "cell_type": "code",
   "execution_count": 185,
   "id": "db117888-cca5-4802-931c-b4c6784694a0",
   "metadata": {},
   "outputs": [
    {
     "name": "stdout",
     "output_type": "stream",
     "text": [
      "12\n"
     ]
    }
   ],
   "source": [
    "q = 3\n",
    "q *= 4  # Equivalent to x = x * 4\n",
    "print(q)"
   ]
  },
  {
   "cell_type": "code",
   "execution_count": 187,
   "id": "f94e5b37-37b7-4004-8aa6-698be3c3199c",
   "metadata": {},
   "outputs": [
    {
     "name": "stdout",
     "output_type": "stream",
     "text": [
      "4.0\n"
     ]
    }
   ],
   "source": [
    "x = 20\n",
    "x /= 5  # Equivalent to x = x / 5\n",
    "print(x)"
   ]
  },
  {
   "cell_type": "code",
   "execution_count": 189,
   "id": "d46fa847-5286-4202-a1b1-76e247dc63d6",
   "metadata": {},
   "outputs": [
    {
     "name": "stdout",
     "output_type": "stream",
     "text": [
      "1\n"
     ]
    }
   ],
   "source": [
    "x = 5\n",
    "y = 2\n",
    "print(x%y)"
   ]
  },
  {
   "cell_type": "code",
   "execution_count": 191,
   "id": "4dbdf00c-3d2f-47ff-a047-5cfe129d9bdc",
   "metadata": {},
   "outputs": [
    {
     "name": "stdout",
     "output_type": "stream",
     "text": [
      "1\n"
     ]
    }
   ],
   "source": [
    "x = 10\n",
    "x %= 3  # Equivalent to x = x % 3\n",
    "print(x)"
   ]
  },
  {
   "cell_type": "code",
   "execution_count": 195,
   "id": "bd22dd3a-7c30-4c23-a686-c363867538c4",
   "metadata": {},
   "outputs": [
    {
     "name": "stdout",
     "output_type": "stream",
     "text": [
      "Savings after expenses: $9500\n",
      "Savings after credit alert: $29500\n",
      "Savings after bonus: $29800\n"
     ]
    }
   ],
   "source": [
    "# Initial savings\n",
    "savings = 10000\n",
    "\n",
    "# You spend 1000, so subtract that from your savings\n",
    "\n",
    "savings -= 500  # This updates the savings in one step\n",
    "print(f\"Savings after expenses: ${savings}\")  # Output: $1500\n",
    "\n",
    "# Someone transfered 20000 to your account and you add it to your savings\n",
    "\n",
    "savings += 20000  # This updates the savings in one step\n",
    "print(f\"Savings after credit alert: ${savings}\")  # Output: $29500\n",
    "\n",
    "# You receive a bonus of 300, so add that to your savings\n",
    "savings += 300  # This updates the savings in one step\n",
    "print(f\"Savings after bonus: ${savings}\")"
   ]
  },
  {
   "cell_type": "code",
   "execution_count": 197,
   "id": "e4ff72fc-43dd-4d9a-8b53-2293d2e1df03",
   "metadata": {},
   "outputs": [
    {
     "name": "stdout",
     "output_type": "stream",
     "text": [
      "True\n",
      "False\n",
      "['apple', 'banana', 'cherry']\n"
     ]
    }
   ],
   "source": [
    "#identity operator\n",
    "basket1 = [\"apple\", \"banana\", \"cherry\"]\n",
    "basket2 = basket1  # basket2 refers to the same basket as basket1\n",
    "basket3 = [\"apple\", \"banana\", \"cherry\"]  # basket3 is a different basket\n",
    "\n",
    "print(basket1 is basket2)  # Output: True  (Same basket)\n",
    "print(basket1 is basket3)  # Output: False (Different baskets)\n",
    "print(basket2)"
   ]
  },
  {
   "cell_type": "code",
   "execution_count": 199,
   "id": "580139c6-aa2b-4121-beb3-b6bd5607c00f",
   "metadata": {},
   "outputs": [
    {
     "name": "stdout",
     "output_type": "stream",
     "text": [
      "False\n",
      "False\n"
     ]
    }
   ],
   "source": [
    "print(basket1 is not basket2)  # Output: False (Same basket)\n",
    "print(basket1 is basket3)  # Output: True  (Different baskets)"
   ]
  },
  {
   "cell_type": "code",
   "execution_count": 201,
   "id": "ac879b8c-8697-450a-b50f-5e03daf92346",
   "metadata": {},
   "outputs": [
    {
     "name": "stdout",
     "output_type": "stream",
     "text": [
      "False\n",
      "True\n"
     ]
    }
   ],
   "source": [
    "# Two lists representing two baskets of fruits\n",
    "basket_a = [\"apple\", \"banana\", \"cherry\"]\n",
    "basket_b = [\"apple\", \"banana\", \"cherry\"]  # A different basket with the same fruits\n",
    "basket_c = basket_a  # basket_c points to the same basket as basket_a\n",
    "\n",
    "# Comparing identity\n",
    "print(basket_a is basket_b)  # Output: False (Different baskets)\n",
    "print(basket_a is basket_c)  # Output: True  (Same basket)"
   ]
  },
  {
   "cell_type": "code",
   "execution_count": 203,
   "id": "68bcf3db-aa85-49f5-a972-0c82122c6340",
   "metadata": {},
   "outputs": [
    {
     "name": "stdout",
     "output_type": "stream",
     "text": [
      "True\n"
     ]
    }
   ],
   "source": [
    "#MEMBERSHIP OPERATORS\n",
    "\n",
    "# Say you have a list of expense categories\n",
    "categories = [\"rent\", \"groceries\", \"transportation\"]\n",
    "\n",
    "# Check if 'groceries' is \"in\" the list\n",
    "print(\"groceries\" in categories)  # Output: True"
   ]
  },
  {
   "cell_type": "code",
   "execution_count": 205,
   "id": "867db5d7-c90a-4fa6-b872-7844ea6dcc48",
   "metadata": {},
   "outputs": [
    {
     "name": "stdout",
     "output_type": "stream",
     "text": [
      "not in class\n",
      "Sade is not enrolled in this class.\n"
     ]
    }
   ],
   "source": [
    "# List of students in the class\n",
    "students = [\"Alisha\", \"Blessing\", \"Charlie\", \"Remi\"]\n",
    "\n",
    "# As usual, kinldy ignore the strange word `if` for now.\n",
    "# Check if 'Ola' is in the list of students\n",
    "if \"Ola\" in students:\n",
    "    print(\"Ola is present in the class.\")  # This message will be printed\n",
    "else:\n",
    "    print(\"not in class\")\n",
    "\n",
    "# Check if 'Sade' is in the list of students\n",
    "if \"Sade\" not in students:\n",
    "    print(\"Sade is not enrolled in this class.\")  # This message will be printed"
   ]
  },
  {
   "cell_type": "code",
   "execution_count": null,
   "id": "28cb8c33-de17-449b-949e-894a00406426",
   "metadata": {},
   "outputs": [],
   "source": []
  }
 ],
 "metadata": {
  "kernelspec": {
   "display_name": "Python [conda env:base] *",
   "language": "python",
   "name": "conda-base-py"
  },
  "language_info": {
   "codemirror_mode": {
    "name": "ipython",
    "version": 3
   },
   "file_extension": ".py",
   "mimetype": "text/x-python",
   "name": "python",
   "nbconvert_exporter": "python",
   "pygments_lexer": "ipython3",
   "version": "3.12.7"
  }
 },
 "nbformat": 4,
 "nbformat_minor": 5
}
