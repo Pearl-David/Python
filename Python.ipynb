{
 "cells": [
  {
   "cell_type": "markdown",
   "id": "497e4e16-7870-4eba-8b12-8ca7a9f955ed",
   "metadata": {},
   "source": [
    "CONTROL FLOW STRUCTURES: They allow you to know what to execute and when to execute. it is a programming language that can be used for looping and control structures.\n",
    "if: Executes a block of code if the given condition evaluates to True.\n",
    "elif: Stands for \"else if\" and is used to check another condition if the previous one was False.\n",
    "else: Executes a block of code when all previous conditions are False"
   ]
  },
  {
   "cell_type": "code",
   "execution_count": 1,
   "id": "35cf4313-ceb5-4290-ab2f-f1b93de0fbb2",
   "metadata": {},
   "outputs": [
    {
     "name": "stdout",
     "output_type": "stream",
     "text": [
      " you need to be sure of what you are doing\n"
     ]
    }
   ],
   "source": [
    "#example\n",
    "weather = \"sunny\"\n",
    "\n",
    "if weather == \"cloudy\":\n",
    "    print(\"Do not go out\")\n",
    "\n",
    "elif weather == \"rainy\":\n",
    "    print(\"You can run home to avoid the rain\")\n",
    "\n",
    "else:\n",
    "    print(\" you need to be sure of what you are doing\")"
   ]
  },
  {
   "cell_type": "code",
   "execution_count": 3,
   "id": "9e2970a2-b738-4a2b-88da-4d35494b8e40",
   "metadata": {},
   "outputs": [
    {
     "name": "stdout",
     "output_type": "stream",
     "text": [
      "we need bonofide or qualified people here\n"
     ]
    }
   ],
   "source": [
    "age = 30\n",
    "\n",
    "if age == 20:\n",
    "    print(\"you can go ahead and vote Miss Bella\")\n",
    "\n",
    "elif age == 45:\n",
    "    print(\"you are too old for the vote Miss Bella go and marry and enjoy your home\")\n",
    "\n",
    "else:\n",
    "    print(\"we need bonofide or qualified people here\")"
   ]
  },
  {
   "cell_type": "code",
   "execution_count": 4,
   "id": "e13ee028-32ae-4b9f-97f9-0c6fdeb4960a",
   "metadata": {},
   "outputs": [
    {
     "name": "stdout",
     "output_type": "stream",
     "text": [
      "we need bonofide or qualified people here\n"
     ]
    }
   ],
   "source": [
    "if age == 20:\n",
    "    Output = \"you can go ahead and vote Miss Bella\"\n",
    "\n",
    "elif age == 45:\n",
    "    Output= \"you are too old for the vote Miss Bella go and marry and enjoy your home\"\n",
    "\n",
    "else:\n",
    "    Output = \"we need bonofide or qualified people here\"\n",
    "    print(Output)\n"
   ]
  },
  {
   "cell_type": "markdown",
   "id": "0e63a0e5-ac1a-4677-9adf-a187bb5126c9",
   "metadata": {},
   "source": [
    "#An even better way to write the above\n",
    "#This is known as ternary operators\n",
    "Ternary Operators: A Concise Conditional Expression\n",
    "\n",
    "A ternary operator, also known as a conditional operator, is a concise way to express a simple if-else condition in a single line of code. It's a shorthand for a basic if-else statement."
   ]
  },
  {
   "cell_type": "code",
   "execution_count": 6,
   "id": "7ce00421-1cbb-4f30-aeb7-6c624ffc03c3",
   "metadata": {},
   "outputs": [
    {
     "name": "stdout",
     "output_type": "stream",
     "text": [
      "we need bonofide or qualified people here\n"
     ]
    }
   ],
   "source": [
    "Output = \"you can go ahead and vote Miss Bella\" if age == 20 else \"we need bonofide or qualified people here\"\n",
    "print(Output)"
   ]
  },
  {
   "cell_type": "code",
   "execution_count": 11,
   "id": "bad2be12-63a5-470c-b9e6-4a4c21e2267d",
   "metadata": {},
   "outputs": [
    {
     "name": "stdout",
     "output_type": "stream",
     "text": [
      "you are too old for the vote Miss Bella go and marry and enjoy your home\n"
     ]
    }
   ],
   "source": [
    "Output = \"you can go ahead and vote Miss Bella\" if age == 20 else \"you are too old for the vote Miss Bella go and marry and enjoy your home\" if age == 45 else \"we need bonofide or qualified people here\"\n",
    "print(Output)"
   ]
  },
  {
   "cell_type": "code",
   "execution_count": 9,
   "id": "526d5b20-db43-4ca7-9c90-9400caaef512",
   "metadata": {},
   "outputs": [
    {
     "name": "stdout",
     "output_type": "stream",
     "text": [
      "we need bonafide or qualified people here\n"
     ]
    }
   ],
   "source": [
    "Output = (\n",
    "    \"you can go ahead and vote Miss Bella\" if age == 20\n",
    "    else \"you are too old for the vote Miss Bella go and marry and enjoy your home\" if age == 45\n",
    "    else \"we need bonafide or qualified people here\"\n",
    ")\n",
    "\n",
    "print(Output)"
   ]
  },
  {
   "cell_type": "code",
   "execution_count": 10,
   "id": "c3ec06da-18a0-4817-8f1b-7bd7654a2b09",
   "metadata": {},
   "outputs": [],
   "source": [
    "age = 45"
   ]
  },
  {
   "cell_type": "markdown",
   "id": "de966d52-ead9-4da9-bfe0-e2499c19912c",
   "metadata": {},
   "source": [
    "Nested if-else statements"
   ]
  },
  {
   "cell_type": "code",
   "execution_count": 20,
   "id": "448efcbb-bb58-436e-a98b-49d4193405d9",
   "metadata": {},
   "outputs": [
    {
     "name": "stdout",
     "output_type": "stream",
     "text": [
      "You are not Eligible\n"
     ]
    }
   ],
   "source": [
    "age = 20\n",
    "Nationality = \"Nigeria\"\n",
    "\n",
    "if Age >= 18:\n",
    "    if Nationality == \"America\":\n",
    "        print(\"You are not a citizen, you can please wait till the time your Country will be voting\")\n",
    "    else:\n",
    "         print(\"You are not Eligible\")\n",
    "\n",
    "else:\n",
    "         print(\"You are welcome, kindly cast your vote\")"
   ]
  },
  {
   "cell_type": "code",
   "execution_count": 31,
   "id": "d2f96c05-7819-43ed-a758-de7b95e20576",
   "metadata": {},
   "outputs": [
    {
     "name": "stdout",
     "output_type": "stream",
     "text": [
      "no valid score\n"
     ]
    }
   ],
   "source": [
    "grade = 75\n",
    "\n",
    "if 70 >= grade <= 100:\n",
    "    print(\"You are very brilliant, because you score: \",end= \"\")\n",
    "    if grade >=90:\n",
    "        print(\"A\")\n",
    "    elif grade >= 70:\n",
    "        print(\"B\")\n",
    "    elif grade <= 69:\n",
    "        print(\"C\")\n",
    "else:\n",
    "    print(\"no valid score\")\n",
    "        "
   ]
  },
  {
   "cell_type": "code",
   "execution_count": 28,
   "id": "94343c70-e15b-4ede-928a-410c9c24e07a",
   "metadata": {},
   "outputs": [
    {
     "name": "stdout",
     "output_type": "stream",
     "text": [
      "You are very brilliant, because you score: B\n"
     ]
    }
   ],
   "source": [
    "grade = 75\n",
    "\n",
    "if 70 <= grade <= 100:\n",
    "    print(\"You are very brilliant, because you score: \", end=\"\")\n",
    "    if grade >= 90:\n",
    "        print(\"A\")\n",
    "    elif grade >= 70:\n",
    "        print(\"B\")\n",
    "    elif grade <= 69:\n",
    "        print(\"C\")\n",
    "else:\n",
    "    print(\"Invalid grade or below passing mark.\")"
   ]
  },
  {
   "cell_type": "code",
   "execution_count": null,
   "id": "146890f5-9d26-4ac5-95b6-9cbba8d6a13e",
   "metadata": {},
   "outputs": [],
   "source": [
    "Loops are used to repeat a block of code multiple times. In Python, there are two types of loops: for loops and while loops."
   ]
  },
  {
   "cell_type": "code",
   "execution_count": null,
   "id": "6bf6e646-4ae2-441b-820c-73ef988cb265",
   "metadata": {},
   "outputs": [],
   "source": [
    "Data_balance = 0\n",
    "\n",
    "while Data_balance == 0:\n",
    "    print(\"you have no sufficient data!\")\n",
    "\n",
    "Data_balance = 100\n",
    "print(\"you now have suffient data!\")"
   ]
  },
  {
   "cell_type": "code",
   "execution_count": null,
   "id": "72419932-374b-4f0a-84b1-fe10f577f726",
   "metadata": {},
   "outputs": [],
   "source": [
    "airtime = 100\n",
    "\n",
    "while airtime > 20:\n",
    "    airtime = airtime+1\n",
    "    print(airtime)"
   ]
  },
  {
   "cell_type": "code",
   "execution_count": null,
   "id": "a7f7eb01-57ce-492b-970f-87575b0133ec",
   "metadata": {},
   "outputs": [],
   "source": [
    "airtime = 20\n",
    "\n",
    "while airtime >= 100:\n",
    "    print(airtime)\n",
    "    airtime = airtime + 1"
   ]
  },
  {
   "cell_type": "code",
   "execution_count": null,
   "id": "187877f4-735e-4f11-91eb-29ee6bb2c17d",
   "metadata": {},
   "outputs": [],
   "source": [
    "airtime = 0\n",
    "\n",
    "while airtime <= 9:\n",
    "    print(\"airtime is now: \", airtime)\n",
    "    airtime = airtime+1\n",
    "print(\"Good luck your! airtime is now: \", airtime)"
   ]
  },
  {
   "cell_type": "code",
   "execution_count": null,
   "id": "095a2c61-6c27-4e5c-811c-809fd5885e23",
   "metadata": {},
   "outputs": [],
   "source": [
    "airtime = 0\n",
    "\n",
    "while airtime <= 9:\n",
    "    print(\"airtime is now: \", airtime)\n",
    "    airtime = airtime + 1\n",
    "print(\"Good luck your! airtime is now: \", airtime)"
   ]
  },
  {
   "cell_type": "code",
   "execution_count": 1,
   "id": "925f0772-237b-46b0-afba-eaa7b1f2e0ae",
   "metadata": {},
   "outputs": [
    {
     "name": "stdout",
     "output_type": "stream",
     "text": [
      "Your name is:  Kay\n",
      "Your name is:  Bella\n",
      "Your name is:  Ade\n",
      "Your name is:  Peace\n"
     ]
    }
   ],
   "source": [
    "Names = [ \"Kay\", \"Bella\", \"Ade\", \"Peace\"]\n",
    "\n",
    "for Name in Names:\n",
    "    print(f\"Your name is: \",Name)"
   ]
  },
  {
   "cell_type": "code",
   "execution_count": 9,
   "id": "ada7c37d-a787-4a7f-9f00-79cbbfc2d530",
   "metadata": {},
   "outputs": [
    {
     "name": "stdout",
     "output_type": "stream",
     "text": [
      "Oyin\n",
      "Ife\n",
      "Glorious\n"
     ]
    }
   ],
   "source": [
    "Group_members =  {'Names': \"Oyin\", \"Next\": \"Ife\", \"Another\": \"Glorious\"}\n",
    "for Group in Group_members.values():\n",
    "    print(Group)"
   ]
  },
  {
   "cell_type": "code",
   "execution_count": 10,
   "id": "bd654242-11f6-445b-ab91-087df98cdad8",
   "metadata": {},
   "outputs": [
    {
     "name": "stdout",
     "output_type": "stream",
     "text": [
      "Names -> Oyin\n",
      "Next -> Ife\n",
      "Another -> Glorious\n"
     ]
    }
   ],
   "source": [
    "for key, value in Group_members.items():\n",
    "    print(key, '->', value)"
   ]
  },
  {
   "cell_type": "code",
   "execution_count": 1,
   "id": "6fea75d8-75f4-4fa9-b38d-1a942c6b1040",
   "metadata": {},
   "outputs": [
    {
     "name": "stdout",
     "output_type": "stream",
     "text": [
      "\n",
      "What has long neck and likes to eat leaves?\n"
     ]
    },
    {
     "name": "stdin",
     "output_type": "stream",
     "text": [
      " Giraffe\n"
     ]
    },
    {
     "name": "stdout",
     "output_type": "stream",
     "text": [
      "\n",
      "Correct!  1 point\n",
      "\n",
      "What animal can fly?\n"
     ]
    },
    {
     "name": "stdin",
     "output_type": "stream",
     "text": [
      " Bird\n"
     ]
    },
    {
     "name": "stdout",
     "output_type": "stream",
     "text": [
      "\n",
      "Correct!  1 points\n",
      "\n",
      "What is a group of lions called?\n"
     ]
    },
    {
     "name": "stdin",
     "output_type": "stream",
     "text": [
      " Pride\n"
     ]
    },
    {
     "name": "stdout",
     "output_type": "stream",
     "text": [
      "\n",
      "Correct! Total point  1\n",
      "\n",
      "\n",
      "Total points = 3\n"
     ]
    }
   ],
   "source": [
    "Questions = ['What has long neck and likes to eat leaves?', 'What animal can fly?', 'What is a group of lions called?']\n",
    "\n",
    "score = 0\n",
    "\n",
    "for question in Questions:\n",
    "    print(f'\\n{question}')\n",
    "    Answer = str(input())\n",
    "\n",
    "    if Answer == 'Giraffe':\n",
    "        point = 1\n",
    "        score += 1\n",
    "        print('\\nCorrect! ', point, 'point')\n",
    "\n",
    "    elif Answer == 'Bird':\n",
    "        point = 1\n",
    "        score += 1\n",
    "        print('\\nCorrect! ', point, 'points')\n",
    "\n",
    "    elif Answer == 'Pride':\n",
    "        point = 1\n",
    "        score += 1\n",
    "        print('\\nCorrect! Total point ', point)\n",
    "\n",
    "    else:\n",
    "        print('\\nWrong answer!')\n",
    "print(f'\\n\\nTotal points = {score}')"
   ]
  },
  {
   "cell_type": "code",
   "execution_count": 2,
   "id": "40e0bfea-a022-4eea-99a1-827978e5c1bb",
   "metadata": {},
   "outputs": [
    {
     "name": "stdout",
     "output_type": "stream",
     "text": [
      "What has long neck and likes to eat leaves?\n"
     ]
    },
    {
     "name": "stdin",
     "output_type": "stream",
     "text": [
      " Giraffe\n"
     ]
    },
    {
     "name": "stdout",
     "output_type": "stream",
     "text": [
      "Correct answer, you have:  1 point\n",
      "What animal can fly?\n"
     ]
    },
    {
     "name": "stdin",
     "output_type": "stream",
     "text": [
      " Bird\n"
     ]
    },
    {
     "name": "stdout",
     "output_type": "stream",
     "text": [
      "Correct! You have  2 points\n",
      "What is a group of lions called?\n"
     ]
    },
    {
     "name": "stdin",
     "output_type": "stream",
     "text": [
      " Pride\n"
     ]
    },
    {
     "name": "stdout",
     "output_type": "stream",
     "text": [
      "Correct! Total points:  3\n"
     ]
    }
   ],
   "source": [
    "Questions = ['What has long neck and likes to eat leaves?', 'What animal can fly?', 'What is a group of lions called?']\n",
    "\n",
    "for question in Questions:\n",
    "    print(question)\n",
    "    Answer = str(input())\n",
    "\n",
    "    if Answer == 'Giraffe':\n",
    "        point = 1\n",
    "        print('Correct answer, you have: ', point, 'point')\n",
    "\n",
    "    elif Answer == 'Bird':\n",
    "        point = point+1\n",
    "        print('Correct! You have ', point, 'points')\n",
    "\n",
    "    elif Answer == 'Pride':\n",
    "        point = point+1\n",
    "        print('Correct! Total points: ', point)\n",
    "\n",
    "    else:\n",
    "        print('Wrong answer, you have ', 0, 'points')"
   ]
  },
  {
   "cell_type": "markdown",
   "id": "7e0e3ba8-2390-494d-bb0e-57e1d7b24b45",
   "metadata": {},
   "source": [
    "Why Use Functions?\n",
    "Reusability: Write code once, use it many times.\n",
    "Readability: Organizes code into smaller chunks that are easier to understand.\n",
    "Debugging: Easier to troubleshoot and fix bugs when code is broken into functions.\n",
    "Modularity: Makes it easier to divide and conquer problems."
   ]
  },
  {
   "cell_type": "code",
   "execution_count": 6,
   "id": "1860c0c0-c68c-4309-9363-eeb2d77b9266",
   "metadata": {},
   "outputs": [],
   "source": [
    "def calculate_area(width, height):\n",
    "  area = width * height\n",
    "  return area"
   ]
  },
  {
   "cell_type": "code",
   "execution_count": 7,
   "id": "08c64685-820d-4a55-9d56-0909e189e04a",
   "metadata": {},
   "outputs": [],
   "source": [
    "width = 5\n",
    "height = 10"
   ]
  },
  {
   "cell_type": "code",
   "execution_count": 9,
   "id": "3038a4f4-875f-4dff-9252-3f336f8980e4",
   "metadata": {},
   "outputs": [
    {
     "data": {
      "text/plain": [
       "50"
      ]
     },
     "execution_count": 9,
     "metadata": {},
     "output_type": "execute_result"
    }
   ],
   "source": [
    "calculate_area(5,10)"
   ]
  },
  {
   "cell_type": "code",
   "execution_count": 10,
   "id": "59f8deea-5ab8-4cd9-8ea5-8af9bd21b73a",
   "metadata": {},
   "outputs": [
    {
     "data": {
      "text/plain": [
       "100"
      ]
     },
     "execution_count": 10,
     "metadata": {},
     "output_type": "execute_result"
    }
   ],
   "source": [
    "calculate_area(21,3)\n",
    "calculate_area(5,20)"
   ]
  },
  {
   "cell_type": "code",
   "execution_count": 11,
   "id": "018bd08c-f951-455d-b4ae-bbf421d924e7",
   "metadata": {},
   "outputs": [],
   "source": [
    "def discipleship_training():\n",
    "    print(\"You are welcome\")"
   ]
  },
  {
   "cell_type": "code",
   "execution_count": 12,
   "id": "5be6039a-0c96-4c65-9c29-9793ce13f511",
   "metadata": {},
   "outputs": [
    {
     "name": "stdout",
     "output_type": "stream",
     "text": [
      "You are welcome\n"
     ]
    }
   ],
   "source": [
    "discipleship_training()"
   ]
  },
  {
   "cell_type": "code",
   "execution_count": 13,
   "id": "7d42e202-53c4-46da-a6e6-282283cca358",
   "metadata": {},
   "outputs": [],
   "source": [
    "def greet(name):\n",
    "    print(\"Hello,\", name)\n",
    "\n",
    "# calling the function"
   ]
  },
  {
   "cell_type": "code",
   "execution_count": 14,
   "id": "b03b6dde-efd2-4745-969e-bea046e1917f",
   "metadata": {},
   "outputs": [
    {
     "name": "stdout",
     "output_type": "stream",
     "text": [
      "Hello, Ifedayo\n",
      "Hello, Mr_Seun\n",
      "Hello, CEO\n"
     ]
    }
   ],
   "source": [
    "greet(\"Ifedayo\")\n",
    "greet(\"Mr_Seun\")\n",
    "greet(\"CEO\")"
   ]
  },
  {
   "cell_type": "code",
   "execution_count": 1,
   "id": "f8067a8e-fc84-41ff-8923-97faa52e4468",
   "metadata": {},
   "outputs": [
    {
     "name": "stdout",
     "output_type": "stream",
     "text": [
      "8\n"
     ]
    }
   ],
   "source": [
    "def add_numbers(a, b):\n",
    "    return a + b\n",
    "\n",
    "# call functions\n",
    "result = add_numbers(3, 5)\n",
    "print(result)"
   ]
  },
  {
   "cell_type": "code",
   "execution_count": 2,
   "id": "47cbd576-efbc-433f-97d7-2c370fab7f3f",
   "metadata": {},
   "outputs": [],
   "source": [
    "grade = add_numbers(30, 50)"
   ]
  },
  {
   "cell_type": "code",
   "execution_count": 3,
   "id": "3af62cc9-dd97-458e-a4be-fae5836eba9b",
   "metadata": {},
   "outputs": [
    {
     "data": {
      "text/plain": [
       "80"
      ]
     },
     "execution_count": 3,
     "metadata": {},
     "output_type": "execute_result"
    }
   ],
   "source": [
    "grade"
   ]
  },
  {
   "cell_type": "code",
   "execution_count": 4,
   "id": "75c9556c-fc1b-4f72-aea4-1fb4f1e56303",
   "metadata": {},
   "outputs": [
    {
     "name": "stdout",
     "output_type": "stream",
     "text": [
      "Hello, Ifedayo   AKERELE\n"
     ]
    }
   ],
   "source": [
    "def greet(first_name, last_name):\n",
    "    print(\"Hello,\", first_name, \" \", last_name)\n",
    "\n",
    "greet(\"Ifedayo\", \"AKERELE\")"
   ]
  },
  {
   "cell_type": "code",
   "execution_count": 5,
   "id": "28153c11-7dac-4eb9-9b34-22b1880d4e94",
   "metadata": {},
   "outputs": [
    {
     "name": "stdout",
     "output_type": "stream",
     "text": [
      "Hello, Alice DAVID!\n",
      "Hello, Alice Johnson!\n"
     ]
    }
   ],
   "source": [
    "def greet(first_name, last_name=\"DAVID\"):\n",
    "    print(f\"Hello, {first_name} {last_name}!\")\n",
    "\n",
    "greet(\"Alice\")\n",
    "greet(\"Alice\", \"Johnson\")"
   ]
  },
  {
   "cell_type": "code",
   "execution_count": 7,
   "id": "05ca9932-f8f3-479c-8e5d-13e904b09ce4",
   "metadata": {},
   "outputs": [
    {
     "name": "stdout",
     "output_type": "stream",
     "text": [
      "Hello, David Alice!\n",
      "Hello, Johnson Alice!\n"
     ]
    }
   ],
   "source": [
    "def greet(last_name, first_name=\"David\"):\n",
    "    print(f\"Hello, {first_name} {last_name}!\")\n",
    "\n",
    "greet(last_name=\"Alice\")\n",
    "greet(\"Alice\", \"Johnson\")"
   ]
  },
  {
   "cell_type": "code",
   "execution_count": 8,
   "id": "d5cd0b96-f5c1-4221-b5a9-9d2523ededc5",
   "metadata": {},
   "outputs": [
    {
     "name": "stdout",
     "output_type": "stream",
     "text": [
      "Hello how are you, David Pearl?\n"
     ]
    }
   ],
   "source": [
    "def greet(first_name, last_name):\n",
    "    print(f\"Hello how are you, {first_name} {last_name}?\")\n",
    "\n",
    "greet(last_name=\"Pearl\", first_name=\"David\")"
   ]
  },
  {
   "cell_type": "code",
   "execution_count": 9,
   "id": "a08926e1-1ac2-433b-b9f6-422df82394c7",
   "metadata": {},
   "outputs": [
    {
     "name": "stdout",
     "output_type": "stream",
     "text": [
      "Alice is 50 years old and lives in Nigeria.\n",
      "Bob is 30 years old and lives in Brazil.\n",
      "Charlie is 25 years old and lives in Paris.\n"
     ]
    }
   ],
   "source": [
    "def describe_person(name, age=25, city=\"Brazil\"):\n",
    "    print(f\"{name} is {age} years old and lives in {city}.\")\n",
    "\n",
    "describe_person(\"Alice\", 50, \"Nigeria\")\n",
    "describe_person(\"Bob\", 30)\n",
    "describe_person(name=\"Charlie\", city=\"Paris\")"
   ]
  },
  {
   "cell_type": "code",
   "execution_count": 12,
   "id": "802c3944-440a-485b-9dec-37e00e59d95d",
   "metadata": {},
   "outputs": [
    {
     "name": "stdout",
     "output_type": "stream",
     "text": [
      "Enter a number...\n"
     ]
    },
    {
     "name": "stdin",
     "output_type": "stream",
     "text": [
      " 70\n"
     ]
    },
    {
     "name": "stdout",
     "output_type": "stream",
     "text": [
      "Number is  even_odd  70\n"
     ]
    }
   ],
   "source": [
    "print('Enter a number...')\n",
    "user_input = int(input())\n",
    "\n",
    "print('Number is ', \"even_odd \",(user_input))"
   ]
  },
  {
   "cell_type": "code",
   "execution_count": 13,
   "id": "dc35ad73-20f1-4e39-99e9-6ed974286c43",
   "metadata": {},
   "outputs": [
    {
     "name": "stdout",
     "output_type": "stream",
     "text": [
      "Enter your password....\n"
     ]
    },
    {
     "name": "stdin",
     "output_type": "stream",
     "text": [
      " pearl\n"
     ]
    },
    {
     "name": "stdout",
     "output_type": "stream",
     "text": [
      "Login successful  your password remains pearl\n"
     ]
    }
   ],
   "source": [
    "print (\"Enter your password....\")\n",
    "user_input = str(input())\n",
    "\n",
    "print('Login successful ', 'your password remains',(user_input))"
   ]
  },
  {
   "cell_type": "code",
   "execution_count": 14,
   "id": "4325bca3-707b-4849-bd4a-000ef4981197",
   "metadata": {},
   "outputs": [
    {
     "data": {
      "text/plain": [
       "'Even'"
      ]
     },
     "execution_count": 14,
     "metadata": {},
     "output_type": "execute_result"
    }
   ],
   "source": [
    "def even_odd(var):\n",
    "    if var % 2 == 0:\n",
    "        return 'Even'\n",
    "    else:\n",
    "        return 'Odd'\n",
    "\n",
    "even_odd(5678034651700975358)"
   ]
  },
  {
   "cell_type": "code",
   "execution_count": 15,
   "id": "046d58db-04fb-4ace-9770-13febdccef98",
   "metadata": {},
   "outputs": [
    {
     "name": "stdout",
     "output_type": "stream",
     "text": [
      "Enter a number...\n"
     ]
    },
    {
     "name": "stdin",
     "output_type": "stream",
     "text": [
      " 77\n"
     ]
    },
    {
     "name": "stdout",
     "output_type": "stream",
     "text": [
      "770\n"
     ]
    }
   ],
   "source": [
    "def check_even_odd(num):\n",
    "    if num % 2 != 0:\n",
    "        num*=10\n",
    "    else:\n",
    "        num\n",
    "    return num\n",
    "\n",
    "print('Enter a number...')\n",
    "user_input = int(input())\n",
    "\n",
    "print(check_even_odd(user_input))"
   ]
  },
  {
   "cell_type": "code",
   "execution_count": 17,
   "id": "9d85b4b3-d6c7-456e-bdc4-b3977ef8d9da",
   "metadata": {},
   "outputs": [
    {
     "name": "stdout",
     "output_type": "stream",
     "text": [
      "nt\n"
     ]
    }
   ],
   "source": [
    "import os\n",
    "import os.path\n",
    "print(os.name)\n",
    "\n",
    "#where nt is used to represent windows operating system\n",
    "#'posix' for example indictes a Unix-like operating system"
   ]
  },
  {
   "cell_type": "code",
   "execution_count": 18,
   "id": "5dfe8526-396f-4420-b661-16fe989fc325",
   "metadata": {},
   "outputs": [
    {
     "data": {
      "text/plain": [
       "['.anaconda',\n",
       " '.conda',\n",
       " '.condarc',\n",
       " '.continuum',\n",
       " '.ipynb_checkpoints',\n",
       " '.ipython',\n",
       " '.jupyter',\n",
       " '.oracle_jre_usage',\n",
       " '.spss',\n",
       " '3D Objects',\n",
       " 'anaconda3',\n",
       " 'AppData',\n",
       " 'Application Data',\n",
       " 'Contacts',\n",
       " 'Cookies',\n",
       " 'Desktop',\n",
       " 'Documents',\n",
       " 'Downloads',\n",
       " 'Favorites',\n",
       " 'Geneious 9.1 Data',\n",
       " 'Links',\n",
       " 'Local Settings',\n",
       " 'May 9 practice .ipynb',\n",
       " 'MicrosoftEdgeBackups',\n",
       " 'Music',\n",
       " 'My Documents',\n",
       " 'NetHood',\n",
       " 'NTUSER.DAT',\n",
       " 'ntuser.dat.LOG1',\n",
       " 'ntuser.dat.LOG2',\n",
       " 'NTUSER.DAT{af8fef8a-e361-11ea-b5a4-080027b87d2a}.TM.blf',\n",
       " 'NTUSER.DAT{af8fef8a-e361-11ea-b5a4-080027b87d2a}.TMContainer00000000000000000001.regtrans-ms',\n",
       " 'NTUSER.DAT{af8fef8a-e361-11ea-b5a4-080027b87d2a}.TMContainer00000000000000000002.regtrans-ms',\n",
       " 'ntuser.ini',\n",
       " 'OneDrive',\n",
       " 'Pictures',\n",
       " 'PrintHood',\n",
       " 'Recent',\n",
       " 'Saved Games',\n",
       " 'Searches',\n",
       " 'SendTo',\n",
       " 'Start Menu',\n",
       " 'Templates',\n",
       " 'Videos']"
      ]
     },
     "execution_count": 18,
     "metadata": {},
     "output_type": "execute_result"
    }
   ],
   "source": [
    "os.listdir('.')"
   ]
  },
  {
   "cell_type": "code",
   "execution_count": 19,
   "id": "334ed049-e8cd-4561-98e9-e62a8c34ef01",
   "metadata": {},
   "outputs": [
    {
     "data": {
      "text/plain": [
       "environ{'ALLUSERSPROFILE': 'C:\\\\ProgramData',\n",
       "        'APPDATA': 'C:\\\\Users\\\\USER\\\\AppData\\\\Roaming',\n",
       "        'COMMONPROGRAMFILES': 'C:\\\\Program Files\\\\Common Files',\n",
       "        'COMMONPROGRAMFILES(X86)': 'C:\\\\Program Files (x86)\\\\Common Files',\n",
       "        'COMMONPROGRAMW6432': 'C:\\\\Program Files\\\\Common Files',\n",
       "        'COMPUTERNAME': 'DESKTOP-O6J6LKQ',\n",
       "        'COMSPEC': 'C:\\\\Windows\\\\system32\\\\cmd.exe',\n",
       "        'CONDA_DEFAULT_ENV': 'C:\\\\Users\\\\USER\\\\AppData\\\\Local\\\\anaconda3',\n",
       "        'CONDA_EXE': 'C:\\\\Users\\\\USER\\\\anaconda3\\\\Scripts\\\\conda.exe',\n",
       "        'CONDA_PREFIX': 'C:\\\\Users\\\\USER\\\\AppData\\\\Local\\\\anaconda3',\n",
       "        'CONDA_PROMPT_MODIFIER': '(C:\\\\Users\\\\USER\\\\AppData\\\\Local\\\\anaconda3) ',\n",
       "        'CONDA_PYTHON_EXE': 'C:\\\\Users\\\\USER\\\\anaconda3\\\\python.exe',\n",
       "        'CONDA_ROOT': 'C:\\\\Users\\\\USER\\\\anaconda3',\n",
       "        'CONDA_SHLVL': '1',\n",
       "        'DRIVERDATA': 'C:\\\\Windows\\\\System32\\\\Drivers\\\\DriverData',\n",
       "        'FPS_BROWSER_APP_PROFILE_STRING': 'Internet Explorer',\n",
       "        'FPS_BROWSER_USER_PROFILE_STRING': 'Default',\n",
       "        'HOMEDRIVE': 'C:',\n",
       "        'HOMEPATH': '\\\\Users\\\\USER',\n",
       "        'IPY_INTERRUPT_EVENT': '3360',\n",
       "        'JPY_INTERRUPT_EVENT': '3360',\n",
       "        'JPY_PARENT_PID': '3120',\n",
       "        'JPY_SESSION_NAME': 'C:\\\\Users\\\\USER\\\\May 9 practice .ipynb',\n",
       "        'LOCALAPPDATA': 'C:\\\\Users\\\\USER\\\\AppData\\\\Local',\n",
       "        'LOGONSERVER': '\\\\\\\\DESKTOP-O6J6LKQ',\n",
       "        'NUMBER_OF_PROCESSORS': '4',\n",
       "        'ONEDRIVE': 'C:\\\\Users\\\\USER\\\\OneDrive',\n",
       "        'OS': 'Windows_NT',\n",
       "        'PATH': 'C:\\\\Users\\\\USER\\\\AppData\\\\Local\\\\anaconda3;C:\\\\Users\\\\USER\\\\AppData\\\\Local\\\\anaconda3\\\\Library\\\\mingw-w64\\\\bin;C:\\\\Users\\\\USER\\\\AppData\\\\Local\\\\anaconda3\\\\Library\\\\usr\\\\bin;C:\\\\Users\\\\USER\\\\AppData\\\\Local\\\\anaconda3\\\\Library\\\\bin;C:\\\\Users\\\\USER\\\\AppData\\\\Local\\\\anaconda3\\\\Scripts;C:\\\\Users\\\\USER\\\\AppData\\\\Local\\\\anaconda3\\\\bin;C:\\\\Users\\\\USER\\\\anaconda3\\\\condabin;C:\\\\Users\\\\USER\\\\anaconda3;C:\\\\Users\\\\USER\\\\anaconda3\\\\Library\\\\mingw-w64\\\\bin;C:\\\\Users\\\\USER\\\\anaconda3\\\\Library\\\\usr\\\\bin;C:\\\\Users\\\\USER\\\\anaconda3\\\\Library\\\\bin;C:\\\\Users\\\\USER\\\\anaconda3\\\\Scripts;C:\\\\Windows\\\\system32;C:\\\\Windows;C:\\\\Windows\\\\System32\\\\Wbem;C:\\\\Windows\\\\System32\\\\WindowsPowerShell\\\\v1.0;C:\\\\Windows\\\\System32\\\\OpenSSH;C:\\\\Users\\\\USER\\\\AppData\\\\Local\\\\Microsoft\\\\WindowsApps;.',\n",
       "        'PATHEXT': '.COM;.EXE;.BAT;.CMD;.VBS;.VBE;.JS;.JSE;.WSF;.WSH;.MSC',\n",
       "        'PROCESSOR_ARCHITECTURE': 'AMD64',\n",
       "        'PROCESSOR_IDENTIFIER': 'Intel64 Family 6 Model 122 Stepping 8, GenuineIntel',\n",
       "        'PROCESSOR_LEVEL': '6',\n",
       "        'PROCESSOR_REVISION': '7a08',\n",
       "        'PROGRAMDATA': 'C:\\\\ProgramData',\n",
       "        'PROGRAMFILES': 'C:\\\\Program Files',\n",
       "        'PROGRAMFILES(X86)': 'C:\\\\Program Files (x86)',\n",
       "        'PROGRAMW6432': 'C:\\\\Program Files',\n",
       "        'PROMPT': '(C:\\\\Users\\\\USER\\\\AppData\\\\Local\\\\anaconda3) $P$G',\n",
       "        'PSMODULEPATH': 'C:\\\\Program Files\\\\WindowsPowerShell\\\\Modules;C:\\\\Windows\\\\system32\\\\WindowsPowerShell\\\\v1.0\\\\Modules',\n",
       "        'PUBLIC': 'C:\\\\Users\\\\Public',\n",
       "        'PYDEVD_USE_FRAME_EVAL': 'NO',\n",
       "        'SESSIONNAME': 'Console',\n",
       "        'SSL_CERT_FILE': 'C:\\\\Users\\\\USER\\\\AppData\\\\Local\\\\anaconda3\\\\Library\\\\ssl\\\\cacert.pem',\n",
       "        'SYSTEMDRIVE': 'C:',\n",
       "        'SYSTEMROOT': 'C:\\\\Windows',\n",
       "        'TEMP': 'C:\\\\Users\\\\USER\\\\AppData\\\\Local\\\\Temp',\n",
       "        'TMP': 'C:\\\\Users\\\\USER\\\\AppData\\\\Local\\\\Temp',\n",
       "        'USERDOMAIN': 'DESKTOP-O6J6LKQ',\n",
       "        'USERDOMAIN_ROAMINGPROFILE': 'DESKTOP-O6J6LKQ',\n",
       "        'USERNAME': 'USER',\n",
       "        'USERPROFILE': 'C:\\\\Users\\\\USER',\n",
       "        'WINDIR': 'C:\\\\Windows',\n",
       "        '__CONDA_OPENSLL_CERT_FILE_SET': '\"1\"',\n",
       "        'TERM': 'xterm-color',\n",
       "        'CLICOLOR': '1',\n",
       "        'FORCE_COLOR': '1',\n",
       "        'CLICOLOR_FORCE': '1',\n",
       "        'PAGER': 'cat',\n",
       "        'GIT_PAGER': 'cat',\n",
       "        'MPLBACKEND': 'module://matplotlib_inline.backend_inline'}"
      ]
     },
     "execution_count": 19,
     "metadata": {},
     "output_type": "execute_result"
    }
   ],
   "source": [
    "os.environ"
   ]
  },
  {
   "cell_type": "code",
   "execution_count": 20,
   "id": "2e0ffeee-6a05-4dec-b485-8b20b70386d1",
   "metadata": {},
   "outputs": [
    {
     "name": "stdout",
     "output_type": "stream",
     "text": [
      "10.0.19045\n",
      "Windows\n",
      "10\n",
      "Windows-10-10.0.19045-SP0\n",
      "('10', '10.0.19045', 'SP0', 'Multiprocessor Free')\n"
     ]
    }
   ],
   "source": [
    "import platform\n",
    "\n",
    "print(platform.version())\n",
    "print(platform.system())\n",
    "print(platform.release())\n",
    "print(platform.platform())\n",
    "print(platform.win32_ver())"
   ]
  },
  {
   "cell_type": "code",
   "execution_count": 22,
   "id": "3ba14f2a-5a1a-494a-bbc3-fd7278bac643",
   "metadata": {},
   "outputs": [
    {
     "name": "stdout",
     "output_type": "stream",
     "text": [
      "True\n",
      "True\n"
     ]
    }
   ],
   "source": [
    "import os\n",
    "import os.path\n",
    "print(os.path.isdir(os.getcwd()))  #retrieves the current directory and checks if the dir exists\n",
    "#print(os.path.isfile('RAG app.ipynb')) #checks if the file exists\n",
    "print(os.path.exists(os.getcwd())) #retrives the current directory and checks if it exists\n",
    "#print(os.path.getsize('RAG app.ipynb')) #retrieves the size of the file without opening it\n"
   ]
  },
  {
   "cell_type": "code",
   "execution_count": 23,
   "id": "e8fb4f5c-fe55-45e5-9289-c92bdad1c733",
   "metadata": {},
   "outputs": [
    {
     "name": "stdout",
     "output_type": "stream",
     "text": [
      "15:21:13.186224\n"
     ]
    }
   ],
   "source": [
    "from datetime import date, time, datetime\n",
    "\n",
    "today = date.today()\n",
    "\n",
    "t_now = datetime.time(datetime.now())\n",
    "\n",
    "print(t_now)"
   ]
  },
  {
   "cell_type": "code",
   "execution_count": 24,
   "id": "238bc97c-2dcd-400b-b230-e493304d985f",
   "metadata": {},
   "outputs": [
    {
     "name": "stdout",
     "output_type": "stream",
     "text": [
      "Today is day number 0\n",
      "And today is:  Monday\n"
     ]
    }
   ],
   "source": [
    "from datetime import date\n",
    "from datetime import time\n",
    "from datetime import datetime\n",
    "\n",
    "def main():\n",
    "    today = datetime.now()\n",
    "\n",
    "    wd = datetime.weekday(today)\n",
    "\n",
    "    days = ['Monday', 'Tuesday', 'Wednesday', 'Thursday', 'Friday', 'Saturday', 'Sunday']\n",
    "    print('Today is day number %d' % wd)\n",
    "\n",
    "    print('And today is: ', days[wd])\n",
    "\n",
    "if __name__ == \"__main__\":\n",
    "    main()"
   ]
  },
  {
   "cell_type": "code",
   "execution_count": 33,
   "id": "5f3bbd00-ba9a-4153-901e-c832f4d96937",
   "metadata": {},
   "outputs": [
    {
     "data": {
      "text/plain": [
       "datetime.datetime(2025, 5, 12, 15, 27, 44, 745954)"
      ]
     },
     "execution_count": 33,
     "metadata": {},
     "output_type": "execute_result"
    }
   ],
   "source": [
    "from datetime import date as dt\n",
    "\n",
    "datetime.now()\n"
   ]
  },
  {
   "cell_type": "code",
   "execution_count": 31,
   "id": "508d4598-8fef-40aa-a597-075d63b578fc",
   "metadata": {},
   "outputs": [
    {
     "data": {
      "text/plain": [
       "<method 'time' of 'datetime.datetime' objects>"
      ]
     },
     "execution_count": 31,
     "metadata": {},
     "output_type": "execute_result"
    }
   ],
   "source": [
    "datetime.time"
   ]
  },
  {
   "cell_type": "code",
   "execution_count": 34,
   "id": "31fc5a8c-c2c5-4989-9f3a-c178dbcb9f61",
   "metadata": {},
   "outputs": [
    {
     "name": "stdout",
     "output_type": "stream",
     "text": [
      "2025-05-12 15:28:12.711351\n",
      "Mon May 12 15:28:12 2025\n"
     ]
    }
   ],
   "source": [
    "# %c = local date and time\n",
    "from datetime import datetime\n",
    "now = datetime.now()\n",
    "print(now)\n",
    "print(now.strftime('%c'))"
   ]
  },
  {
   "cell_type": "code",
   "execution_count": 35,
   "id": "528461a6-a492-4fa3-b173-3a97d217476d",
   "metadata": {},
   "outputs": [
    {
     "name": "stdout",
     "output_type": "stream",
     "text": [
      "05/12/25\n"
     ]
    }
   ],
   "source": [
    "print(now.strftime('%x'))"
   ]
  },
  {
   "cell_type": "code",
   "execution_count": 36,
   "id": "1cda43fa-649e-4bad-a113-7983db6fcbe0",
   "metadata": {},
   "outputs": [
    {
     "name": "stdout",
     "output_type": "stream",
     "text": [
      "15:28:12\n"
     ]
    }
   ],
   "source": [
    "# %X = local time\n",
    "print(now.strftime(\"%X\"))"
   ]
  },
  {
   "cell_type": "code",
   "execution_count": 37,
   "id": "80d85d77-3169-4514-921a-4d15d3ed22c9",
   "metadata": {},
   "outputs": [
    {
     "name": "stdout",
     "output_type": "stream",
     "text": [
      "May\n"
     ]
    }
   ],
   "source": [
    "# %X = local time\n",
    "print(now.strftime(\"%B\"))"
   ]
  },
  {
   "cell_type": "code",
   "execution_count": 38,
   "id": "3db5e2a0-502d-4a05-b43c-b7a7f2877a4a",
   "metadata": {},
   "outputs": [
    {
     "name": "stdout",
     "output_type": "stream",
     "text": [
      "03:28:12:PM\n",
      "15:28\n",
      "03:28\n"
     ]
    }
   ],
   "source": [
    "print(now.strftime('%I:%M:%S:%p'))\n",
    "print(now.strftime('%H:%M'))\n",
    "print(now.strftime('%I:%M'))"
   ]
  },
  {
   "cell_type": "code",
   "execution_count": null,
   "id": "a50208cc-cca7-4655-a9a2-f878b75c7254",
   "metadata": {},
   "outputs": [],
   "source": [
    "import random\n",
    "my_list = ['NASA', 'Hannah', 7786, {'food': 'rice and beans'}]\n",
    "\n",
    "print(random.choice(my_list))\n",
    "print(choice(my_list))"
   ]
  },
  {
   "cell_type": "code",
   "execution_count": 42,
   "id": "1065e1fd-8de3-4ecb-97a2-7e9ee6e7a6d9",
   "metadata": {},
   "outputs": [
    {
     "name": "stdout",
     "output_type": "stream",
     "text": [
      "      May 2029\n",
      "Mo Tu We Th Fr Sa Su\n",
      "    1  2  3  4  5  6\n",
      " 7  8  9 10 11 12 13\n",
      "14 15 16 17 18 19 20\n",
      "21 22 23 24 25 26 27\n",
      "28 29 30 31\n",
      "\n"
     ]
    }
   ],
   "source": [
    "import calendar\n",
    "\n",
    "year = 2029\n",
    "month = 5\n",
    "\n",
    "#displaying the calendar\n",
    "print(calendar.month(year, month))"
   ]
  },
  {
   "cell_type": "code",
   "execution_count": 43,
   "id": "c0b422ff-f971-4bb1-aa37-a29460f8b9c6",
   "metadata": {},
   "outputs": [
    {
     "name": "stdout",
     "output_type": "stream",
     "text": [
      "                                  2030\n",
      "\n",
      "      January                   February                   March\n",
      "Mo Tu We Th Fr Sa Su      Mo Tu We Th Fr Sa Su      Mo Tu We Th Fr Sa Su\n",
      "    1  2  3  4  5  6                   1  2  3                   1  2  3\n",
      " 7  8  9 10 11 12 13       4  5  6  7  8  9 10       4  5  6  7  8  9 10\n",
      "14 15 16 17 18 19 20      11 12 13 14 15 16 17      11 12 13 14 15 16 17\n",
      "21 22 23 24 25 26 27      18 19 20 21 22 23 24      18 19 20 21 22 23 24\n",
      "28 29 30 31               25 26 27 28               25 26 27 28 29 30 31\n",
      "\n",
      "       April                      May                       June\n",
      "Mo Tu We Th Fr Sa Su      Mo Tu We Th Fr Sa Su      Mo Tu We Th Fr Sa Su\n",
      " 1  2  3  4  5  6  7             1  2  3  4  5                      1  2\n",
      " 8  9 10 11 12 13 14       6  7  8  9 10 11 12       3  4  5  6  7  8  9\n",
      "15 16 17 18 19 20 21      13 14 15 16 17 18 19      10 11 12 13 14 15 16\n",
      "22 23 24 25 26 27 28      20 21 22 23 24 25 26      17 18 19 20 21 22 23\n",
      "29 30                     27 28 29 30 31            24 25 26 27 28 29 30\n",
      "\n",
      "        July                     August                  September\n",
      "Mo Tu We Th Fr Sa Su      Mo Tu We Th Fr Sa Su      Mo Tu We Th Fr Sa Su\n",
      " 1  2  3  4  5  6  7                1  2  3  4                         1\n",
      " 8  9 10 11 12 13 14       5  6  7  8  9 10 11       2  3  4  5  6  7  8\n",
      "15 16 17 18 19 20 21      12 13 14 15 16 17 18       9 10 11 12 13 14 15\n",
      "22 23 24 25 26 27 28      19 20 21 22 23 24 25      16 17 18 19 20 21 22\n",
      "29 30 31                  26 27 28 29 30 31         23 24 25 26 27 28 29\n",
      "                                                    30\n",
      "\n",
      "      October                   November                  December\n",
      "Mo Tu We Th Fr Sa Su      Mo Tu We Th Fr Sa Su      Mo Tu We Th Fr Sa Su\n",
      "    1  2  3  4  5  6                   1  2  3                         1\n",
      " 7  8  9 10 11 12 13       4  5  6  7  8  9 10       2  3  4  5  6  7  8\n",
      "14 15 16 17 18 19 20      11 12 13 14 15 16 17       9 10 11 12 13 14 15\n",
      "21 22 23 24 25 26 27      18 19 20 21 22 23 24      16 17 18 19 20 21 22\n",
      "28 29 30 31               25 26 27 28 29 30         23 24 25 26 27 28 29\n",
      "                                                    30 31\n",
      "\n"
     ]
    }
   ],
   "source": [
    "#to display the calendar for the entire year\n",
    "from calendar import *\n",
    "year = 2030\n",
    "\n",
    "print(calendar(year))"
   ]
  },
  {
   "cell_type": "code",
   "execution_count": 44,
   "id": "5a0d91ee-5ed0-415d-a825-336bc3d4b3e1",
   "metadata": {},
   "outputs": [
    {
     "name": "stdin",
     "output_type": "stream",
     "text": [
      " 5\n"
     ]
    },
    {
     "name": "stdout",
     "output_type": "stream",
     "text": [
      "Prime\n"
     ]
    }
   ],
   "source": [
    "#attempt for the prime number\n",
    "user_input = int(input())\n",
    "\n",
    "def is_prime(num):\n",
    "    if num<=1:\n",
    "        return False\n",
    "\n",
    "    #moving on\n",
    "    for i in range(2, int(num**0.5)+1):  #range starts from 2 (inclusive) to the last number(exclusive)\n",
    "        if num%i==0:  #this means it has a divisor\n",
    "            return 'Not prime'\n",
    "        return 'Prime'\n",
    "print(is_prime(user_input))"
   ]
  },
  {
   "cell_type": "code",
   "execution_count": 46,
   "id": "653669d4-73ee-4f03-ae88-3214d2a32c81",
   "metadata": {},
   "outputs": [
    {
     "name": "stdout",
     "output_type": "stream",
     "text": [
      "Enter \"prime\" or \"armstrong\" according to your need.\n"
     ]
    },
    {
     "name": "stdin",
     "output_type": "stream",
     "text": [
      " 53\n"
     ]
    }
   ],
   "source": [
    "print('Enter \"prime\" or \"armstrong\" according to your need.')\n",
    "\n",
    "user_input = str(input())\n",
    "\n",
    "if user_input == 'prime':\n",
    "    number = int(input('Enter a number '))\n",
    "\n",
    "    def is_prime(num):\n",
    "        if num<1:\n",
    "            return('\\nEnter a positive number!')\n",
    "        elif num == 1:\n",
    "            return('\\n1 is not a prime number!')\n",
    "\n",
    "        #moving on\n",
    "        for i in range(2, int(num**0.5)+1):\n",
    "            if num%i==0:\n",
    "                return ('\\n\\nNot prime')\n",
    "            else:\n",
    "                return ('\\n\\nPrime number')\n",
    "    print(is_prime(number))\n",
    "\n",
    "\n",
    "elif user_input == 'armstrong':\n",
    "    number = int(input('\\nEnter a number '))\n",
    "\n",
    "    def is_armstrong(num):\n",
    "        count_digits = int(len(str(num)))\n",
    "\n",
    "        temp = num\n",
    "        sum = 0"
   ]
  },
  {
   "cell_type": "markdown",
   "id": "84f9e509-b082-4d6b-bcb2-978af16a91f4",
   "metadata": {},
   "source": [
    "EXCEPTION HANDLING IN PYTHON: STATISTICAL ERROR, LOGICAL ERROR IS LIKE 2+3 = 5, RUN TIME ERROR"
   ]
  },
  {
   "cell_type": "code",
   "execution_count": null,
   "id": "e8bf6e33-53d1-4980-8ae9-072abfeedbf7",
   "metadata": {},
   "outputs": [],
   "source": [
    " a= 2\n",
    "b=0\n",
    "\n",
    "try:\n",
    "    print(\"resource open\")\n",
    "    print(a/b)\n",
    "    \n",
    "\n",
    "except exception as e:\n",
    "    print(\"Hay, you cannot divide a number by zero\", e)\n",
    "\n",
    "finally:\n",
    "    print(\"resource closed\")"
   ]
  },
  {
   "cell_type": "markdown",
   "id": "64fda0a7-2100-4e70-92f5-c088efb531f2",
   "metadata": {},
   "source": [
    "import re"
   ]
  },
  {
   "cell_type": "code",
   "execution_count": null,
   "id": "dd38da8a-3ea1-4e9a-93e5-7668c2423b95",
   "metadata": {},
   "outputs": [],
   "source": [
    "help(re)"
   ]
  },
  {
   "cell_type": "code",
   "execution_count": null,
   "id": "b6e4f9fa-f373-4bea-b611-c80e650fe438",
   "metadata": {},
   "outputs": [],
   "source": [
    "#asking for input \n",
    "mobile_num = input('Enter your Nigerian mobile number: ')\n",
    "\n",
    "#defining the expression/pattern fpr Nigerian phone numbers\n",
    "regex = r'^(0)[7-9]\\d{9}$'\n",
    "\n",
    "#match the regex with the user entered mobile number\n",
    "match = re.fullmatch(regex, mobile_num)\n",
    "\n",
    "#Check to know if the number entered is valid or not\n",
    "if match:\n",
    "    print('Your number is Valid!')\n",
    "else:\n",
    "    print('Not valid!')"
   ]
  },
  {
   "cell_type": "code",
   "execution_count": null,
   "id": "9830498c-f334-43c2-964f-8c3bb3760e60",
   "metadata": {},
   "outputs": [],
   "source": [
    "#create a list of python keywords\n",
    "keywords = [\"True\", \"False\", \"None\", \"and\", \"or\", \"not\", \"in\", \"is\", \n",
    "            \"if\", \"elif\", \"else\", \"for\", \"while\", \"break\", \"continue\", \n",
    "            \"pass\", \"def\", \"class\", \"with\", \"as\", \"lambda\", \"return\", \n",
    "            \"yield\", \"import\", \"from\", \"try\", \"except\", \"raise\", \"finally\", \"assert\", \"async\", \"await\"]\n",
    "\n",
    "#asking for input \n",
    "my_identifier = input('Enter python identifier: ')\n",
    "\n",
    "#defining the expression/pattern fpr Nigerian phone numbers\n",
    "regex = r\"^[a-zA-Z_][\\w\\_]*\"\n",
    "\n",
    "#match the regex with the user entered mobile number\n",
    "match = re.fullmatch(regex, identifier)\n",
    "\n",
    "#Check to know if the number entered is valid or not\n",
    "if my_identifier in keywords:\n",
    "    print('You have entered a python keyword. Please revise.')\n",
    "elif match:\n",
    "    print('Valid!')\n",
    "else:\n",
    "    print('Not valid!')"
   ]
  },
  {
   "cell_type": "code",
   "execution_count": 5,
   "id": "8ee792a1-f0a9-49f2-8427-2b674a5cc6d4",
   "metadata": {},
   "outputs": [
    {
     "name": "stdout",
     "output_type": "stream",
     "text": [
      "<class 're.Pattern'>\n"
     ]
    }
   ],
   "source": [
    "#compile() ->> converts the pattern into regex object\n",
    "\n",
    "import re\n",
    "pattern = re.compile('Python')\n",
    "\n",
    "print(type(pattern))"
   ]
  },
  {
   "cell_type": "code",
   "execution_count": 6,
   "id": "6e1b86d1-fb66-4650-abd4-fd90e90de5db",
   "metadata": {},
   "outputs": [
    {
     "name": "stdout",
     "output_type": "stream",
     "text": [
      "<class 'callable_iterator'>\n"
     ]
    }
   ],
   "source": [
    "matcher = pattern.finditer('Does Python use Object Oriented Programming? How many Python libraries do you know of? Python and python')\n",
    "\n",
    "print(type(matcher))"
   ]
  },
  {
   "cell_type": "code",
   "execution_count": 7,
   "id": "f460002a-6f41-472b-88d1-3b57ab8b46d1",
   "metadata": {},
   "outputs": [
    {
     "name": "stdout",
     "output_type": "stream",
     "text": [
      "<class 're.Match'>\n",
      "Match is at: 5, End: 11, Pattern found: Python\n",
      "<class 're.Match'>\n",
      "Match is at: 54, End: 60, Pattern found: Python\n",
      "<class 're.Match'>\n",
      "Match is at: 87, End: 93, Pattern found: Python\n",
      "DONE!\n"
     ]
    }
   ],
   "source": [
    "#start() -> starting index of matched string\n",
    "#end() -> end+1 index\n",
    "#group() -> returns matched string\n",
    "\n",
    "for m in matcher:\n",
    "    print(type(m))\n",
    "    print('Match is at: {}, End: {}, Pattern found: {}'.format(m.start(), m.end(), m.group()))\n",
    "print('DONE!')"
   ]
  },
  {
   "cell_type": "markdown",
   "id": "06b113e6-8041-418b-b721-d22cc97ffb10",
   "metadata": {},
   "source": [
    "Python API"
   ]
  },
  {
   "cell_type": "code",
   "execution_count": 2,
   "id": "6df2fa76-85a2-4299-813a-4fd8bb54fd11",
   "metadata": {},
   "outputs": [],
   "source": [
    "import lib"
   ]
  },
  {
   "cell_type": "code",
   "execution_count": 9,
   "id": "8daee357-db77-4775-b354-c20400f311b5",
   "metadata": {},
   "outputs": [],
   "source": [
    "import json"
   ]
  },
  {
   "cell_type": "code",
   "execution_count": 3,
   "id": "fc9d34e8-b856-4e41-95bf-665d143bb246",
   "metadata": {},
   "outputs": [],
   "source": [
    "import requests"
   ]
  },
  {
   "cell_type": "code",
   "execution_count": 4,
   "id": "12c8a000-f15a-4105-b730-71733f1d0921",
   "metadata": {},
   "outputs": [],
   "source": [
    "#How to send a request to open Google home page in python\n",
    "\n",
    "import requests\n",
    "URL = 'https://google.com'\n",
    "response = requests.get(URL)\n",
    "\n",
    "\n",
    "#Alternatively, to send a request to open Google home page,\n",
    "#you simply open your browser, type google.com in the url secton and hit enter"
   ]
  },
  {
   "cell_type": "code",
   "execution_count": 8,
   "id": "fe57cef5-0e25-4fc4-b873-84724d314d58",
   "metadata": {},
   "outputs": [],
   "source": [
    "#make a get request to fetch search results on 'hannah igboke'\n",
    "\n",
    "response = requests.get('https://google.com/search?q=Akerele+Ifedayo')"
   ]
  },
  {
   "cell_type": "code",
   "execution_count": 9,
   "id": "b725beef-b636-4a95-9c2a-7101b5033025",
   "metadata": {},
   "outputs": [
    {
     "name": "stdout",
     "output_type": "stream",
     "text": [
      "{'Content-Type': 'text/html; charset=ISO-8859-1', 'Content-Security-Policy': \"object-src 'none';base-uri 'self';script-src 'nonce-gVLZWWeobDwOOCPrqF9CIQ' 'strict-dynamic' 'report-sample' 'unsafe-eval' 'unsafe-inline' https: http:;report-uri https://csp.withgoogle.com/csp/gws/xsrp\", 'Accept-CH': 'Sec-CH-Prefers-Color-Scheme', 'P3P': 'CP=\"This is not a P3P policy! See g.co/p3phelp for more info.\"', 'Content-Encoding': 'gzip', 'Date': 'Wed, 14 May 2025 13:35:35 GMT', 'Server': 'gws', 'X-XSS-Protection': '0', 'X-Frame-Options': 'SAMEORIGIN', 'Expires': 'Wed, 14 May 2025 13:35:35 GMT', 'Cache-Control': 'private', 'Set-Cookie': 'AEC=AVcja2dY8wrCjY9niXiFx94vR83luD85B7KMt1dcxB60aQG8NcZ7EXDFLA; expires=Mon, 10-Nov-2025 13:35:35 GMT; path=/; domain=.google.com; Secure; HttpOnly; SameSite=lax, NID=524=PKdfd8H9pgTmKk8Eeaoc1x8sQj3HCnrZA6zK55nkvJhX7NoxnYgD0vZocQ1k8-ACHf_2frOBjwxPuYcndfwf6jzYVPj7owfNOuqcWHCu38IhSdq9upvQz7YMwPMPxQhFBfqlp92d1SEDVC9pTf1IMZ9e-K52mTJ6pLStR6RmH_UfcUh9pE9lCTWYR855R3BuXCq3nnuy7OOYwyU; expires=Thu, 13-Nov-2025 13:35:35 GMT; path=/; domain=.google.com; HttpOnly', 'Alt-Svc': 'h3=\":443\"; ma=2592000,h3-29=\":443\"; ma=2592000', 'Transfer-Encoding': 'chunked'}\n"
     ]
    }
   ],
   "source": [
    "#printing response headers\n",
    "\n",
    "print(response.headers)"
   ]
  },
  {
   "cell_type": "code",
   "execution_count": 10,
   "id": "b9b1330c-28ca-4d36-b949-cbb655202090",
   "metadata": {},
   "outputs": [
    {
     "name": "stdout",
     "output_type": "stream",
     "text": [
      "https://www.google.com/search?q=Akerele+Ifedayo\n"
     ]
    }
   ],
   "source": [
    "#checking the response url\n",
    "\n",
    "print(response.url)"
   ]
  },
  {
   "cell_type": "code",
   "execution_count": 11,
   "id": "22d0c234-1d15-41b3-bd2c-968548a98db5",
   "metadata": {},
   "outputs": [
    {
     "name": "stdout",
     "output_type": "stream",
     "text": [
      "200\n"
     ]
    }
   ],
   "source": [
    "#check the status code of the response\n",
    "\n",
    "print(response.status_code)\n",
    "\n",
    "#200 means it was successful"
   ]
  },
  {
   "cell_type": "code",
   "execution_count": 12,
   "id": "b5b71274-e7ff-4084-accb-84e75a118721",
   "metadata": {},
   "outputs": [
    {
     "name": "stdout",
     "output_type": "stream",
     "text": [
      "ISO-8859-1\n"
     ]
    }
   ],
   "source": [
    "#checking response encoding\n",
    "\n",
    "print(response.encoding)"
   ]
  },
  {
   "cell_type": "code",
   "execution_count": 13,
   "id": "a843fc9f-681c-4efd-887d-ba6d1a4793b7",
   "metadata": {},
   "outputs": [
    {
     "name": "stdout",
     "output_type": "stream",
     "text": [
      "text/html; charset=ISO-8859-1\n",
      "private\n"
     ]
    }
   ],
   "source": [
    "#retrieving header properties the response content type\n",
    "\n",
    "print(response.headers['Content-Type'])\n",
    "print(response.headers['Cache-Control'])"
   ]
  },
  {
   "cell_type": "code",
   "execution_count": 14,
   "id": "b5dee269-8356-4298-8bfc-7a2339c072af",
   "metadata": {},
   "outputs": [
    {
     "name": "stdout",
     "output_type": "stream",
     "text": [
      "<!DOCTYPE html><html lang=\"en-NG\"><head><title>Google Search</title><style>body{background-color:#ff\n"
     ]
    }
   ],
   "source": [
    "#text response content\n",
    "#this is useful if the response body contains text data\n",
    "\n",
    "print(response.text[0:100])\n",
    "\n",
    "#you can also try\n",
    "#print(response.text)"
   ]
  },
  {
   "cell_type": "code",
   "execution_count": 15,
   "id": "5540c33c-c9be-4e49-9da1-579431be893f",
   "metadata": {},
   "outputs": [
    {
     "name": "stdout",
     "output_type": "stream",
     "text": [
      "b'<!DOCTYPE html><html lang=\"en-NG\"><head><title>Google Search</title><style>body{background-color:#ff'\n"
     ]
    }
   ],
   "source": [
    "#for cases where the response body contains non-text data\n",
    "# binary response content\n",
    "\n",
    "print(response.content[0:100])"
   ]
  },
  {
   "cell_type": "code",
   "execution_count": 18,
   "id": "9c5f9b1f-845b-4900-9dd5-911cb8bedfcb",
   "metadata": {},
   "outputs": [
    {
     "name": "stdout",
     "output_type": "stream",
     "text": [
      "404\n",
      "200\n"
     ]
    }
   ],
   "source": [
    "#trying an endpoint that does not exist\n",
    "\n",
    "response = requests.get('https://google.com/abcd')\n",
    "print(response.status_code)\n",
    "\n",
    "#an ednpoint that exists\n",
    "response = requests.get('https://google.com/search')\n",
    "print(response.status_code)"
   ]
  },
  {
   "cell_type": "code",
   "execution_count": 19,
   "id": "fb7a056f-4730-4938-838d-c0700c32aa52",
   "metadata": {},
   "outputs": [
    {
     "name": "stdout",
     "output_type": "stream",
     "text": [
      "200\n"
     ]
    }
   ],
   "source": [
    "#request without query parameter\n",
    "\n",
    "import requests\n",
    "response = requests.get('https://google.com/search')\n",
    "print(response.status_code)"
   ]
  },
  {
   "cell_type": "code",
   "execution_count": 28,
   "id": "abc455be-c30f-4586-a49f-bf1ca2531de0",
   "metadata": {},
   "outputs": [
    {
     "name": "stdout",
     "output_type": "stream",
     "text": [
      "200\n"
     ]
    }
   ],
   "source": [
    "#request with query parameter\n",
    "\n",
    "import requests\n",
    "\n",
    "parameters = {'q': 'AKERELE Ifedayo'}\n",
    "response = requests.get('https://google.com/search', params = parameters)\n",
    "print(response.status_code)"
   ]
  },
  {
   "cell_type": "markdown",
   "id": "b580f2c2-8ffc-466a-9743-e4aaf4b0873f",
   "metadata": {},
   "source": [
    "Request and Response from ISS API\n",
    "Using OpenNotify API. It has several API endpoints. Like I mentioned earlier, you can find the other API endpoints in the documentation: http://open-notify.org/Open-Notify-API/.\n",
    "\n",
    "Endpoints:\n",
    "\n",
    "/iss-now.json\n",
    "This api returns the current location of the ISS. It returns the current latitude and longitude of the space station with a unix timestamp for the time the location was valid. This API takes no inputs. Remember that this data is not static and changes rapidly."
   ]
  },
  {
   "cell_type": "code",
   "execution_count": 29,
   "id": "9e02a410-8d06-4c5d-af2c-4e8e1b4655ff",
   "metadata": {},
   "outputs": [
    {
     "name": "stdout",
     "output_type": "stream",
     "text": [
      "{'Server': 'nginx/1.10.3', 'Date': 'Wed, 14 May 2025 13:59:25 GMT', 'Content-Type': 'application/json', 'Content-Length': '115', 'Connection': 'keep-alive', 'access-control-allow-origin': '*'}\n",
      "http://api.open-notify.org/iss-now.json\n",
      "200\n",
      "utf-8\n"
     ]
    }
   ],
   "source": [
    "#making a request to get the latest position of ISS from the opennotify api\n",
    "\n",
    "import requests\n",
    "response = requests.get('http://api.open-notify.org/iss-now.json')\n",
    "print(response.headers)\n",
    "print(response.url)\n",
    "print(response.status_code)\n",
    "print(response.encoding)"
   ]
  },
  {
   "cell_type": "code",
   "execution_count": 30,
   "id": "7ab63875-a9ae-4f35-bf23-d6ad08baf4d9",
   "metadata": {},
   "outputs": [
    {
     "name": "stdout",
     "output_type": "stream",
     "text": [
      "{\"message\": \"success\", \"iss_position\": {\"longitude\": \"-108.1685\", \"latitude\": \"-39.4675\"}, \"timestamp\": 1747231165}\n"
     ]
    }
   ],
   "source": [
    "#printing text content\n",
    "\n",
    "print(response.text)"
   ]
  },
  {
   "cell_type": "code",
   "execution_count": 31,
   "id": "24102385-0b9f-47e3-81dd-72de3795f033",
   "metadata": {},
   "outputs": [
    {
     "name": "stdout",
     "output_type": "stream",
     "text": [
      "b'{\"message\": \"success\", \"iss_position\": {\"longitude\": \"-108.1685\", \"latitude\": \"-39.4675\"}, \"timestamp\": 1747231165}'\n"
     ]
    }
   ],
   "source": [
    "#printing binary content\n",
    "\n",
    "print(response.content)"
   ]
  },
  {
   "cell_type": "code",
   "execution_count": 32,
   "id": "3a236f31-bad6-4007-81a7-c5d4f377d40d",
   "metadata": {},
   "outputs": [
    {
     "name": "stdout",
     "output_type": "stream",
     "text": [
      "{'message': 'success', 'iss_position': {'longitude': '-108.1685', 'latitude': '-39.4675'}, 'timestamp': 1747231165}\n"
     ]
    }
   ],
   "source": [
    "#printing json content\n",
    "\n",
    "print(response.json())"
   ]
  },
  {
   "cell_type": "markdown",
   "id": "231073d8-4a2c-493f-a9c1-90b77f1909fc",
   "metadata": {},
   "source": [
    "This API returns the current number of people in space."
   ]
  },
  {
   "cell_type": "code",
   "execution_count": 33,
   "id": "2d5f0198-9560-499a-ac4b-975674a36a25",
   "metadata": {},
   "outputs": [
    {
     "name": "stdout",
     "output_type": "stream",
     "text": [
      "{'Server': 'nginx/1.10.3', 'Date': 'Wed, 14 May 2025 13:59:44 GMT', 'Content-Type': 'application/json', 'Content-Length': '587', 'Connection': 'keep-alive', 'access-control-allow-origin': '*'}\n"
     ]
    }
   ],
   "source": [
    "import requests\n",
    "\n",
    "response = requests.get('http://api.open-notify.org/astros.json')\n",
    "print(response.headers)"
   ]
  },
  {
   "cell_type": "code",
   "execution_count": 34,
   "id": "707440a8-97a1-4972-8adf-ea8d3df92f32",
   "metadata": {},
   "outputs": [
    {
     "name": "stdout",
     "output_type": "stream",
     "text": [
      "<class 'dict'>\n"
     ]
    }
   ],
   "source": [
    "data = response.json()\n",
    "\n",
    "print(type(data))\n",
    "\n",
    "#to verify that the response data is a dictionary"
   ]
  },
  {
   "cell_type": "code",
   "execution_count": 35,
   "id": "9ae23f37-3249-4ed1-a861-c8a8402bcb97",
   "metadata": {},
   "outputs": [
    {
     "data": {
      "text/plain": [
       "{'people': [{'craft': 'ISS', 'name': 'Oleg Kononenko'},\n",
       "  {'craft': 'ISS', 'name': 'Nikolai Chub'},\n",
       "  {'craft': 'ISS', 'name': 'Tracy Caldwell Dyson'},\n",
       "  {'craft': 'ISS', 'name': 'Matthew Dominick'},\n",
       "  {'craft': 'ISS', 'name': 'Michael Barratt'},\n",
       "  {'craft': 'ISS', 'name': 'Jeanette Epps'},\n",
       "  {'craft': 'ISS', 'name': 'Alexander Grebenkin'},\n",
       "  {'craft': 'ISS', 'name': 'Butch Wilmore'},\n",
       "  {'craft': 'ISS', 'name': 'Sunita Williams'},\n",
       "  {'craft': 'Tiangong', 'name': 'Li Guangsu'},\n",
       "  {'craft': 'Tiangong', 'name': 'Li Cong'},\n",
       "  {'craft': 'Tiangong', 'name': 'Ye Guangfu'}],\n",
       " 'number': 12,\n",
       " 'message': 'success'}"
      ]
     },
     "execution_count": 35,
     "metadata": {},
     "output_type": "execute_result"
    }
   ],
   "source": [
    "data"
   ]
  },
  {
   "cell_type": "markdown",
   "id": "97159cf3-e0c7-4b4a-b242-b85591d88066",
   "metadata": {},
   "source": [
    "Finding the number and names of astronaunts"
   ]
  },
  {
   "cell_type": "code",
   "execution_count": 36,
   "id": "2cb0492f-5950-4119-9cd2-7f747254537f",
   "metadata": {},
   "outputs": [
    {
     "data": {
      "text/plain": [
       "dict_values([[{'craft': 'ISS', 'name': 'Oleg Kononenko'}, {'craft': 'ISS', 'name': 'Nikolai Chub'}, {'craft': 'ISS', 'name': 'Tracy Caldwell Dyson'}, {'craft': 'ISS', 'name': 'Matthew Dominick'}, {'craft': 'ISS', 'name': 'Michael Barratt'}, {'craft': 'ISS', 'name': 'Jeanette Epps'}, {'craft': 'ISS', 'name': 'Alexander Grebenkin'}, {'craft': 'ISS', 'name': 'Butch Wilmore'}, {'craft': 'ISS', 'name': 'Sunita Williams'}, {'craft': 'Tiangong', 'name': 'Li Guangsu'}, {'craft': 'Tiangong', 'name': 'Li Cong'}, {'craft': 'Tiangong', 'name': 'Ye Guangfu'}], 12, 'success'])"
      ]
     },
     "execution_count": 36,
     "metadata": {},
     "output_type": "execute_result"
    }
   ],
   "source": [
    "data.values()"
   ]
  },
  {
   "cell_type": "code",
   "execution_count": 37,
   "id": "2dfaef36-c6c4-4e1f-8245-4eecea47e1a8",
   "metadata": {},
   "outputs": [
    {
     "name": "stdout",
     "output_type": "stream",
     "text": [
      "12\n"
     ]
    }
   ],
   "source": [
    "#how many people are in space?\n",
    "\n",
    "print(data['number'])"
   ]
  },
  {
   "cell_type": "code",
   "execution_count": 39,
   "id": "70ff9d5c-01ef-4456-990a-11f0fdbd1783",
   "metadata": {},
   "outputs": [
    {
     "name": "stdout",
     "output_type": "stream",
     "text": [
      "[{'craft': 'ISS', 'name': 'Oleg Kononenko'}, {'craft': 'ISS', 'name': 'Nikolai Chub'}, {'craft': 'ISS', 'name': 'Tracy Caldwell Dyson'}, {'craft': 'ISS', 'name': 'Matthew Dominick'}, {'craft': 'ISS', 'name': 'Michael Barratt'}, {'craft': 'ISS', 'name': 'Jeanette Epps'}, {'craft': 'ISS', 'name': 'Alexander Grebenkin'}, {'craft': 'ISS', 'name': 'Butch Wilmore'}, {'craft': 'ISS', 'name': 'Sunita Williams'}, {'craft': 'Tiangong', 'name': 'Li Guangsu'}, {'craft': 'Tiangong', 'name': 'Li Cong'}, {'craft': 'Tiangong', 'name': 'Ye Guangfu'}]\n"
     ]
    }
   ],
   "source": [
    "#who are these people\n",
    "\n",
    "print(data['people'])"
   ]
  },
  {
   "cell_type": "code",
   "execution_count": 40,
   "id": "bc812407-a370-4c43-8e4e-b340047860e3",
   "metadata": {},
   "outputs": [
    {
     "name": "stdout",
     "output_type": "stream",
     "text": [
      "Oleg Kononenko\n",
      "Nikolai Chub\n",
      "Tracy Caldwell Dyson\n",
      "Matthew Dominick\n",
      "Michael Barratt\n",
      "Jeanette Epps\n",
      "Alexander Grebenkin\n",
      "Butch Wilmore\n",
      "Sunita Williams\n",
      "Li Guangsu\n",
      "Li Cong\n",
      "Ye Guangfu\n"
     ]
    }
   ],
   "source": [
    "#returning the names of these astronaunts\n",
    "\n",
    "people_in_space = data['people']\n",
    "for ast in people_in_space:\n",
    "    print(ast['name'])"
   ]
  },
  {
   "cell_type": "markdown",
   "id": "03221a31-eef1-4ce2-b3a4-4a1e79ff6841",
   "metadata": {},
   "source": [
    "Converting the JSON data from API to dataframe\n",
    "Many APIs return data in JSON format. We need to convert this JSON file into a dataframe that can be easily analyzed.\n",
    "\n",
    "Steps:\n",
    "\n",
    "Use the request library to make the https requests to the API endpoint and retrieve the data. The API key, if required, needs to be included in the request headers\n",
    "\n",
    "Once you have obtained the data, you can push it in a pandas df to analyze and process it."
   ]
  },
  {
   "cell_type": "markdown",
   "id": "16f116b6-4bd3-4236-9301-2422358235f9",
   "metadata": {},
   "source": [
    "Way 1"
   ]
  },
  {
   "cell_type": "code",
   "execution_count": 41,
   "id": "d77eecb3-c74d-4da8-979f-e930da9f0509",
   "metadata": {},
   "outputs": [
    {
     "data": {
      "text/html": [
       "<div>\n",
       "<style scoped>\n",
       "    .dataframe tbody tr th:only-of-type {\n",
       "        vertical-align: middle;\n",
       "    }\n",
       "\n",
       "    .dataframe tbody tr th {\n",
       "        vertical-align: top;\n",
       "    }\n",
       "\n",
       "    .dataframe thead th {\n",
       "        text-align: right;\n",
       "    }\n",
       "</style>\n",
       "<table border=\"1\" class=\"dataframe\">\n",
       "  <thead>\n",
       "    <tr style=\"text-align: right;\">\n",
       "      <th></th>\n",
       "      <th>people</th>\n",
       "      <th>number</th>\n",
       "      <th>message</th>\n",
       "    </tr>\n",
       "  </thead>\n",
       "  <tbody>\n",
       "    <tr>\n",
       "      <th>0</th>\n",
       "      <td>{'craft': 'ISS', 'name': 'Oleg Kononenko'}</td>\n",
       "      <td>12</td>\n",
       "      <td>success</td>\n",
       "    </tr>\n",
       "    <tr>\n",
       "      <th>1</th>\n",
       "      <td>{'craft': 'ISS', 'name': 'Nikolai Chub'}</td>\n",
       "      <td>12</td>\n",
       "      <td>success</td>\n",
       "    </tr>\n",
       "    <tr>\n",
       "      <th>2</th>\n",
       "      <td>{'craft': 'ISS', 'name': 'Tracy Caldwell Dyson'}</td>\n",
       "      <td>12</td>\n",
       "      <td>success</td>\n",
       "    </tr>\n",
       "    <tr>\n",
       "      <th>3</th>\n",
       "      <td>{'craft': 'ISS', 'name': 'Matthew Dominick'}</td>\n",
       "      <td>12</td>\n",
       "      <td>success</td>\n",
       "    </tr>\n",
       "    <tr>\n",
       "      <th>4</th>\n",
       "      <td>{'craft': 'ISS', 'name': 'Michael Barratt'}</td>\n",
       "      <td>12</td>\n",
       "      <td>success</td>\n",
       "    </tr>\n",
       "    <tr>\n",
       "      <th>5</th>\n",
       "      <td>{'craft': 'ISS', 'name': 'Jeanette Epps'}</td>\n",
       "      <td>12</td>\n",
       "      <td>success</td>\n",
       "    </tr>\n",
       "    <tr>\n",
       "      <th>6</th>\n",
       "      <td>{'craft': 'ISS', 'name': 'Alexander Grebenkin'}</td>\n",
       "      <td>12</td>\n",
       "      <td>success</td>\n",
       "    </tr>\n",
       "    <tr>\n",
       "      <th>7</th>\n",
       "      <td>{'craft': 'ISS', 'name': 'Butch Wilmore'}</td>\n",
       "      <td>12</td>\n",
       "      <td>success</td>\n",
       "    </tr>\n",
       "    <tr>\n",
       "      <th>8</th>\n",
       "      <td>{'craft': 'ISS', 'name': 'Sunita Williams'}</td>\n",
       "      <td>12</td>\n",
       "      <td>success</td>\n",
       "    </tr>\n",
       "    <tr>\n",
       "      <th>9</th>\n",
       "      <td>{'craft': 'Tiangong', 'name': 'Li Guangsu'}</td>\n",
       "      <td>12</td>\n",
       "      <td>success</td>\n",
       "    </tr>\n",
       "    <tr>\n",
       "      <th>10</th>\n",
       "      <td>{'craft': 'Tiangong', 'name': 'Li Cong'}</td>\n",
       "      <td>12</td>\n",
       "      <td>success</td>\n",
       "    </tr>\n",
       "    <tr>\n",
       "      <th>11</th>\n",
       "      <td>{'craft': 'Tiangong', 'name': 'Ye Guangfu'}</td>\n",
       "      <td>12</td>\n",
       "      <td>success</td>\n",
       "    </tr>\n",
       "  </tbody>\n",
       "</table>\n",
       "</div>"
      ],
      "text/plain": [
       "                                              people  number  message\n",
       "0         {'craft': 'ISS', 'name': 'Oleg Kononenko'}      12  success\n",
       "1           {'craft': 'ISS', 'name': 'Nikolai Chub'}      12  success\n",
       "2   {'craft': 'ISS', 'name': 'Tracy Caldwell Dyson'}      12  success\n",
       "3       {'craft': 'ISS', 'name': 'Matthew Dominick'}      12  success\n",
       "4        {'craft': 'ISS', 'name': 'Michael Barratt'}      12  success\n",
       "5          {'craft': 'ISS', 'name': 'Jeanette Epps'}      12  success\n",
       "6    {'craft': 'ISS', 'name': 'Alexander Grebenkin'}      12  success\n",
       "7          {'craft': 'ISS', 'name': 'Butch Wilmore'}      12  success\n",
       "8        {'craft': 'ISS', 'name': 'Sunita Williams'}      12  success\n",
       "9        {'craft': 'Tiangong', 'name': 'Li Guangsu'}      12  success\n",
       "10          {'craft': 'Tiangong', 'name': 'Li Cong'}      12  success\n",
       "11       {'craft': 'Tiangong', 'name': 'Ye Guangfu'}      12  success"
      ]
     },
     "execution_count": 41,
     "metadata": {},
     "output_type": "execute_result"
    }
   ],
   "source": [
    "import requests\n",
    "import pandas as pd\n",
    "\n",
    "response = requests.get('http://api.open-notify.org/astros.json')\n",
    "\n",
    "data = response.json()\n",
    "\n",
    "df = pd.DataFrame(data)\n",
    "\n",
    "df"
   ]
  },
  {
   "cell_type": "code",
   "execution_count": 42,
   "id": "091fe713-13d8-4477-bd26-fe4650f8a689",
   "metadata": {},
   "outputs": [
    {
     "data": {
      "text/html": [
       "<div>\n",
       "<style scoped>\n",
       "    .dataframe tbody tr th:only-of-type {\n",
       "        vertical-align: middle;\n",
       "    }\n",
       "\n",
       "    .dataframe tbody tr th {\n",
       "        vertical-align: top;\n",
       "    }\n",
       "\n",
       "    .dataframe thead th {\n",
       "        text-align: right;\n",
       "    }\n",
       "</style>\n",
       "<table border=\"1\" class=\"dataframe\">\n",
       "  <thead>\n",
       "    <tr style=\"text-align: right;\">\n",
       "      <th></th>\n",
       "      <th>craft</th>\n",
       "      <th>name</th>\n",
       "    </tr>\n",
       "  </thead>\n",
       "  <tbody>\n",
       "    <tr>\n",
       "      <th>0</th>\n",
       "      <td>ISS</td>\n",
       "      <td>Oleg Kononenko</td>\n",
       "    </tr>\n",
       "    <tr>\n",
       "      <th>1</th>\n",
       "      <td>ISS</td>\n",
       "      <td>Nikolai Chub</td>\n",
       "    </tr>\n",
       "    <tr>\n",
       "      <th>2</th>\n",
       "      <td>ISS</td>\n",
       "      <td>Tracy Caldwell Dyson</td>\n",
       "    </tr>\n",
       "    <tr>\n",
       "      <th>3</th>\n",
       "      <td>ISS</td>\n",
       "      <td>Matthew Dominick</td>\n",
       "    </tr>\n",
       "    <tr>\n",
       "      <th>4</th>\n",
       "      <td>ISS</td>\n",
       "      <td>Michael Barratt</td>\n",
       "    </tr>\n",
       "    <tr>\n",
       "      <th>5</th>\n",
       "      <td>ISS</td>\n",
       "      <td>Jeanette Epps</td>\n",
       "    </tr>\n",
       "    <tr>\n",
       "      <th>6</th>\n",
       "      <td>ISS</td>\n",
       "      <td>Alexander Grebenkin</td>\n",
       "    </tr>\n",
       "    <tr>\n",
       "      <th>7</th>\n",
       "      <td>ISS</td>\n",
       "      <td>Butch Wilmore</td>\n",
       "    </tr>\n",
       "    <tr>\n",
       "      <th>8</th>\n",
       "      <td>ISS</td>\n",
       "      <td>Sunita Williams</td>\n",
       "    </tr>\n",
       "    <tr>\n",
       "      <th>9</th>\n",
       "      <td>Tiangong</td>\n",
       "      <td>Li Guangsu</td>\n",
       "    </tr>\n",
       "    <tr>\n",
       "      <th>10</th>\n",
       "      <td>Tiangong</td>\n",
       "      <td>Li Cong</td>\n",
       "    </tr>\n",
       "    <tr>\n",
       "      <th>11</th>\n",
       "      <td>Tiangong</td>\n",
       "      <td>Ye Guangfu</td>\n",
       "    </tr>\n",
       "  </tbody>\n",
       "</table>\n",
       "</div>"
      ],
      "text/plain": [
       "       craft                  name\n",
       "0        ISS        Oleg Kononenko\n",
       "1        ISS          Nikolai Chub\n",
       "2        ISS  Tracy Caldwell Dyson\n",
       "3        ISS      Matthew Dominick\n",
       "4        ISS       Michael Barratt\n",
       "5        ISS         Jeanette Epps\n",
       "6        ISS   Alexander Grebenkin\n",
       "7        ISS         Butch Wilmore\n",
       "8        ISS       Sunita Williams\n",
       "9   Tiangong            Li Guangsu\n",
       "10  Tiangong               Li Cong\n",
       "11  Tiangong            Ye Guangfu"
      ]
     },
     "execution_count": 42,
     "metadata": {},
     "output_type": "execute_result"
    }
   ],
   "source": [
    "#To remove the message and number columns\n",
    "\n",
    "astronauts = pd.DataFrame(data['people'])\n",
    "astronauts"
   ]
  },
  {
   "cell_type": "markdown",
   "id": "53b585e0-9e9c-408c-958d-5874cc8cb6e4",
   "metadata": {},
   "source": [
    "Using pd.json_normalize(). The json_normalize function in pandas is used to normalize semi-structures JSON data into a flat table."
   ]
  },
  {
   "cell_type": "code",
   "execution_count": 44,
   "id": "60d5ba10-d1fb-4b6a-b6d7-9318f9a6d727",
   "metadata": {},
   "outputs": [
    {
     "data": {
      "text/html": [
       "<div>\n",
       "<style scoped>\n",
       "    .dataframe tbody tr th:only-of-type {\n",
       "        vertical-align: middle;\n",
       "    }\n",
       "\n",
       "    .dataframe tbody tr th {\n",
       "        vertical-align: top;\n",
       "    }\n",
       "\n",
       "    .dataframe thead th {\n",
       "        text-align: right;\n",
       "    }\n",
       "</style>\n",
       "<table border=\"1\" class=\"dataframe\">\n",
       "  <thead>\n",
       "    <tr style=\"text-align: right;\">\n",
       "      <th></th>\n",
       "      <th>craft</th>\n",
       "      <th>name</th>\n",
       "    </tr>\n",
       "  </thead>\n",
       "  <tbody>\n",
       "    <tr>\n",
       "      <th>0</th>\n",
       "      <td>ISS</td>\n",
       "      <td>Oleg Kononenko</td>\n",
       "    </tr>\n",
       "    <tr>\n",
       "      <th>1</th>\n",
       "      <td>ISS</td>\n",
       "      <td>Nikolai Chub</td>\n",
       "    </tr>\n",
       "    <tr>\n",
       "      <th>2</th>\n",
       "      <td>ISS</td>\n",
       "      <td>Tracy Caldwell Dyson</td>\n",
       "    </tr>\n",
       "    <tr>\n",
       "      <th>3</th>\n",
       "      <td>ISS</td>\n",
       "      <td>Matthew Dominick</td>\n",
       "    </tr>\n",
       "    <tr>\n",
       "      <th>4</th>\n",
       "      <td>ISS</td>\n",
       "      <td>Michael Barratt</td>\n",
       "    </tr>\n",
       "    <tr>\n",
       "      <th>5</th>\n",
       "      <td>ISS</td>\n",
       "      <td>Jeanette Epps</td>\n",
       "    </tr>\n",
       "    <tr>\n",
       "      <th>6</th>\n",
       "      <td>ISS</td>\n",
       "      <td>Alexander Grebenkin</td>\n",
       "    </tr>\n",
       "    <tr>\n",
       "      <th>7</th>\n",
       "      <td>ISS</td>\n",
       "      <td>Butch Wilmore</td>\n",
       "    </tr>\n",
       "    <tr>\n",
       "      <th>8</th>\n",
       "      <td>ISS</td>\n",
       "      <td>Sunita Williams</td>\n",
       "    </tr>\n",
       "    <tr>\n",
       "      <th>9</th>\n",
       "      <td>Tiangong</td>\n",
       "      <td>Li Guangsu</td>\n",
       "    </tr>\n",
       "    <tr>\n",
       "      <th>10</th>\n",
       "      <td>Tiangong</td>\n",
       "      <td>Li Cong</td>\n",
       "    </tr>\n",
       "    <tr>\n",
       "      <th>11</th>\n",
       "      <td>Tiangong</td>\n",
       "      <td>Ye Guangfu</td>\n",
       "    </tr>\n",
       "  </tbody>\n",
       "</table>\n",
       "</div>"
      ],
      "text/plain": [
       "       craft                  name\n",
       "0        ISS        Oleg Kononenko\n",
       "1        ISS          Nikolai Chub\n",
       "2        ISS  Tracy Caldwell Dyson\n",
       "3        ISS      Matthew Dominick\n",
       "4        ISS       Michael Barratt\n",
       "5        ISS         Jeanette Epps\n",
       "6        ISS   Alexander Grebenkin\n",
       "7        ISS         Butch Wilmore\n",
       "8        ISS       Sunita Williams\n",
       "9   Tiangong            Li Guangsu\n",
       "10  Tiangong               Li Cong\n",
       "11  Tiangong            Ye Guangfu"
      ]
     },
     "execution_count": 44,
     "metadata": {},
     "output_type": "execute_result"
    }
   ],
   "source": [
    "#It didn't come out as expected. We want the results to be like that of way 1\n",
    "\n",
    "response = requests.get('http://api.open-notify.org/astros.json')\n",
    "\n",
    "data = response.json()\n",
    "\n",
    "df = pd.json_normalize(data, record_path=['people'])\n",
    "df"
   ]
  },
  {
   "cell_type": "code",
   "execution_count": 45,
   "id": "7c7a3bfe-1305-441e-8c39-34bfbc9ef8c8",
   "metadata": {},
   "outputs": [
    {
     "data": {
      "text/html": [
       "<div>\n",
       "<style scoped>\n",
       "    .dataframe tbody tr th:only-of-type {\n",
       "        vertical-align: middle;\n",
       "    }\n",
       "\n",
       "    .dataframe tbody tr th {\n",
       "        vertical-align: top;\n",
       "    }\n",
       "\n",
       "    .dataframe thead th {\n",
       "        text-align: right;\n",
       "    }\n",
       "</style>\n",
       "<table border=\"1\" class=\"dataframe\">\n",
       "  <thead>\n",
       "    <tr style=\"text-align: right;\">\n",
       "      <th></th>\n",
       "      <th>people</th>\n",
       "      <th>number</th>\n",
       "      <th>message</th>\n",
       "    </tr>\n",
       "  </thead>\n",
       "  <tbody>\n",
       "    <tr>\n",
       "      <th>0</th>\n",
       "      <td>{'craft': 'ISS', 'name': 'Oleg Kononenko'}</td>\n",
       "      <td>12</td>\n",
       "      <td>success</td>\n",
       "    </tr>\n",
       "    <tr>\n",
       "      <th>1</th>\n",
       "      <td>{'craft': 'ISS', 'name': 'Nikolai Chub'}</td>\n",
       "      <td>12</td>\n",
       "      <td>success</td>\n",
       "    </tr>\n",
       "    <tr>\n",
       "      <th>2</th>\n",
       "      <td>{'craft': 'ISS', 'name': 'Tracy Caldwell Dyson'}</td>\n",
       "      <td>12</td>\n",
       "      <td>success</td>\n",
       "    </tr>\n",
       "    <tr>\n",
       "      <th>3</th>\n",
       "      <td>{'craft': 'ISS', 'name': 'Matthew Dominick'}</td>\n",
       "      <td>12</td>\n",
       "      <td>success</td>\n",
       "    </tr>\n",
       "    <tr>\n",
       "      <th>4</th>\n",
       "      <td>{'craft': 'ISS', 'name': 'Michael Barratt'}</td>\n",
       "      <td>12</td>\n",
       "      <td>success</td>\n",
       "    </tr>\n",
       "    <tr>\n",
       "      <th>5</th>\n",
       "      <td>{'craft': 'ISS', 'name': 'Jeanette Epps'}</td>\n",
       "      <td>12</td>\n",
       "      <td>success</td>\n",
       "    </tr>\n",
       "    <tr>\n",
       "      <th>6</th>\n",
       "      <td>{'craft': 'ISS', 'name': 'Alexander Grebenkin'}</td>\n",
       "      <td>12</td>\n",
       "      <td>success</td>\n",
       "    </tr>\n",
       "    <tr>\n",
       "      <th>7</th>\n",
       "      <td>{'craft': 'ISS', 'name': 'Butch Wilmore'}</td>\n",
       "      <td>12</td>\n",
       "      <td>success</td>\n",
       "    </tr>\n",
       "    <tr>\n",
       "      <th>8</th>\n",
       "      <td>{'craft': 'ISS', 'name': 'Sunita Williams'}</td>\n",
       "      <td>12</td>\n",
       "      <td>success</td>\n",
       "    </tr>\n",
       "    <tr>\n",
       "      <th>9</th>\n",
       "      <td>{'craft': 'Tiangong', 'name': 'Li Guangsu'}</td>\n",
       "      <td>12</td>\n",
       "      <td>success</td>\n",
       "    </tr>\n",
       "    <tr>\n",
       "      <th>10</th>\n",
       "      <td>{'craft': 'Tiangong', 'name': 'Li Cong'}</td>\n",
       "      <td>12</td>\n",
       "      <td>success</td>\n",
       "    </tr>\n",
       "    <tr>\n",
       "      <th>11</th>\n",
       "      <td>{'craft': 'Tiangong', 'name': 'Ye Guangfu'}</td>\n",
       "      <td>12</td>\n",
       "      <td>success</td>\n",
       "    </tr>\n",
       "  </tbody>\n",
       "</table>\n",
       "</div>"
      ],
      "text/plain": [
       "                                              people  number  message\n",
       "0         {'craft': 'ISS', 'name': 'Oleg Kononenko'}      12  success\n",
       "1           {'craft': 'ISS', 'name': 'Nikolai Chub'}      12  success\n",
       "2   {'craft': 'ISS', 'name': 'Tracy Caldwell Dyson'}      12  success\n",
       "3       {'craft': 'ISS', 'name': 'Matthew Dominick'}      12  success\n",
       "4        {'craft': 'ISS', 'name': 'Michael Barratt'}      12  success\n",
       "5          {'craft': 'ISS', 'name': 'Jeanette Epps'}      12  success\n",
       "6    {'craft': 'ISS', 'name': 'Alexander Grebenkin'}      12  success\n",
       "7          {'craft': 'ISS', 'name': 'Butch Wilmore'}      12  success\n",
       "8        {'craft': 'ISS', 'name': 'Sunita Williams'}      12  success\n",
       "9        {'craft': 'Tiangong', 'name': 'Li Guangsu'}      12  success\n",
       "10          {'craft': 'Tiangong', 'name': 'Li Cong'}      12  success\n",
       "11       {'craft': 'Tiangong', 'name': 'Ye Guangfu'}      12  success"
      ]
     },
     "execution_count": 45,
     "metadata": {},
     "output_type": "execute_result"
    }
   ],
   "source": [
    "df = pd.read_json('http://api.open-notify.org/astros.json')\n",
    "df"
   ]
  },
  {
   "cell_type": "markdown",
   "id": "7bb794b0-a67c-43f8-9692-5b8a0ad999e2",
   "metadata": {},
   "source": [
    "Way 3"
   ]
  },
  {
   "cell_type": "code",
   "execution_count": 46,
   "id": "2f4046ec-8b16-4dea-a26c-2c2e2f1622db",
   "metadata": {},
   "outputs": [
    {
     "data": {
      "text/html": [
       "<div>\n",
       "<style scoped>\n",
       "    .dataframe tbody tr th:only-of-type {\n",
       "        vertical-align: middle;\n",
       "    }\n",
       "\n",
       "    .dataframe tbody tr th {\n",
       "        vertical-align: top;\n",
       "    }\n",
       "\n",
       "    .dataframe thead th {\n",
       "        text-align: right;\n",
       "    }\n",
       "</style>\n",
       "<table border=\"1\" class=\"dataframe\">\n",
       "  <thead>\n",
       "    <tr style=\"text-align: right;\">\n",
       "      <th></th>\n",
       "      <th>craft</th>\n",
       "      <th>name</th>\n",
       "    </tr>\n",
       "  </thead>\n",
       "  <tbody>\n",
       "    <tr>\n",
       "      <th>0</th>\n",
       "      <td>ISS</td>\n",
       "      <td>Oleg Kononenko</td>\n",
       "    </tr>\n",
       "    <tr>\n",
       "      <th>1</th>\n",
       "      <td>ISS</td>\n",
       "      <td>Nikolai Chub</td>\n",
       "    </tr>\n",
       "    <tr>\n",
       "      <th>2</th>\n",
       "      <td>ISS</td>\n",
       "      <td>Tracy Caldwell Dyson</td>\n",
       "    </tr>\n",
       "    <tr>\n",
       "      <th>3</th>\n",
       "      <td>ISS</td>\n",
       "      <td>Matthew Dominick</td>\n",
       "    </tr>\n",
       "    <tr>\n",
       "      <th>4</th>\n",
       "      <td>ISS</td>\n",
       "      <td>Michael Barratt</td>\n",
       "    </tr>\n",
       "    <tr>\n",
       "      <th>5</th>\n",
       "      <td>ISS</td>\n",
       "      <td>Jeanette Epps</td>\n",
       "    </tr>\n",
       "    <tr>\n",
       "      <th>6</th>\n",
       "      <td>ISS</td>\n",
       "      <td>Alexander Grebenkin</td>\n",
       "    </tr>\n",
       "    <tr>\n",
       "      <th>7</th>\n",
       "      <td>ISS</td>\n",
       "      <td>Butch Wilmore</td>\n",
       "    </tr>\n",
       "    <tr>\n",
       "      <th>8</th>\n",
       "      <td>ISS</td>\n",
       "      <td>Sunita Williams</td>\n",
       "    </tr>\n",
       "    <tr>\n",
       "      <th>9</th>\n",
       "      <td>Tiangong</td>\n",
       "      <td>Li Guangsu</td>\n",
       "    </tr>\n",
       "    <tr>\n",
       "      <th>10</th>\n",
       "      <td>Tiangong</td>\n",
       "      <td>Li Cong</td>\n",
       "    </tr>\n",
       "    <tr>\n",
       "      <th>11</th>\n",
       "      <td>Tiangong</td>\n",
       "      <td>Ye Guangfu</td>\n",
       "    </tr>\n",
       "  </tbody>\n",
       "</table>\n",
       "</div>"
      ],
      "text/plain": [
       "       craft                  name\n",
       "0        ISS        Oleg Kononenko\n",
       "1        ISS          Nikolai Chub\n",
       "2        ISS  Tracy Caldwell Dyson\n",
       "3        ISS      Matthew Dominick\n",
       "4        ISS       Michael Barratt\n",
       "5        ISS         Jeanette Epps\n",
       "6        ISS   Alexander Grebenkin\n",
       "7        ISS         Butch Wilmore\n",
       "8        ISS       Sunita Williams\n",
       "9   Tiangong            Li Guangsu\n",
       "10  Tiangong               Li Cong\n",
       "11  Tiangong            Ye Guangfu"
      ]
     },
     "execution_count": 46,
     "metadata": {},
     "output_type": "execute_result"
    }
   ],
   "source": [
    "#Again we are only intrested in the people column\n",
    "\n",
    "\n",
    "astronauts = pd.json_normalize(df['people'])\n",
    "astronauts"
   ]
  },
  {
   "cell_type": "markdown",
   "id": "75711ff4-6d99-4caf-8b9d-add4e3b80647",
   "metadata": {},
   "source": [
    "WORKING WITH JSON\n",
    "Convertng python objects to json and vice versa using dumps() and loads()\n",
    "Saving the data to json files and vice versa using dump() and load()\n",
    "Python objects and json\n",
    "dumps() and loads()\n",
    "We can convert lists, tuples, and dictionaries (python objects) to JSON strings and convert JSON strings to lists and dictionaries.\n",
    "\n",
    "json.dumps(python_object): converts python objects to json strings\n",
    "\n",
    "json.loads(json_string): converts json string to python object"
   ]
  },
  {
   "cell_type": "code",
   "execution_count": 47,
   "id": "9ef31013-825e-4ee8-8345-d85b47f876bc",
   "metadata": {},
   "outputs": [
    {
     "name": "stdout",
     "output_type": "stream",
     "text": [
      "<class 'list'>\n"
     ]
    }
   ],
   "source": [
    "#first import the json file\n",
    "\n",
    "import json\n",
    "\n",
    "char = ['Black widow', 'Hawkeye', 'Katiness', 'Iron man']\n",
    "\n",
    "print(type(char))"
   ]
  },
  {
   "cell_type": "code",
   "execution_count": 48,
   "id": "3be7a41d-02cb-4b76-85d8-0f64dcc13cb2",
   "metadata": {},
   "outputs": [
    {
     "name": "stdout",
     "output_type": "stream",
     "text": [
      "<class 'str'>\n"
     ]
    }
   ],
   "source": [
    "#converting python object to json string\n",
    "\n",
    "char_string = json.dumps(char)\n",
    "print(type(char_string))"
   ]
  },
  {
   "cell_type": "code",
   "execution_count": 49,
   "id": "63d41832-1c67-4263-be8d-c3a60a9cff4b",
   "metadata": {},
   "outputs": [
    {
     "name": "stdout",
     "output_type": "stream",
     "text": [
      "<class 'list'>\n"
     ]
    }
   ],
   "source": [
    "#converting json string to python objects\n",
    "char_object = json.loads(char_string)\n",
    "\n",
    "print(type(char_object))"
   ]
  },
  {
   "cell_type": "markdown",
   "id": "07d72a92-1fd3-4598-9043-bb932bbce517",
   "metadata": {},
   "source": [
    "This same concept applies also to dictionaries and tuples."
   ]
  },
  {
   "cell_type": "markdown",
   "id": "92f3624c-65c4-4175-8b4c-0e0cdac83bdc",
   "metadata": {},
   "source": [
    "Creating, and reading JSON files\n",
    "dump() and load()\n",
    "The json module has two main methods for doing this\n",
    "\n",
    "json.dump(data, file_object): writes data into a json file format\n",
    "json.load(file_object): for reading a json file"
   ]
  },
  {
   "cell_type": "code",
   "execution_count": 50,
   "id": "f66d251a-4329-4dce-839f-13ea7d3b65ca",
   "metadata": {},
   "outputs": [
    {
     "name": "stdout",
     "output_type": "stream",
     "text": [
      "<class 'dict'>\n"
     ]
    }
   ],
   "source": [
    "#making a dictionary\n",
    "\n",
    "fast_food_franchise = {\n",
    "    'Subway': 24722,\n",
    "    'McDonalds': 14098,\n",
    "    'Starbucks': 10821,\n",
    "    'Pizza Hut': 34599\n",
    "}\n",
    "\n",
    "print(type(fast_food_franchise))"
   ]
  },
  {
   "cell_type": "code",
   "execution_count": 51,
   "id": "64493f9e-d2ca-4a70-99a5-5295cdbcb478",
   "metadata": {},
   "outputs": [
    {
     "name": "stdout",
     "output_type": "stream",
     "text": [
      "{\"Subway\": 24722, \"McDonalds\": 14098, \"Starbucks\": 10821, \"Pizza Hut\": 34599}\n",
      "<class 'str'>\n"
     ]
    }
   ],
   "source": [
    "#writing the data in  the dictionary to a file\n",
    "\n",
    "import json\n",
    "\n",
    "file_name = 'my_fast_food.json'\n",
    "\n",
    "with open(file_name, 'w') as f:\n",
    "    json.dump(fast_food_franchise, f)\n",
    "\n",
    "f = open('my_fast_food.json', 'r')\n",
    "data = f.read()\n",
    "\n",
    "print(data)\n",
    "print(type(data))\n",
    "f.close()"
   ]
  },
  {
   "cell_type": "code",
   "execution_count": 52,
   "id": "1543676d-c32a-4acc-811a-4e209d8d1211",
   "metadata": {},
   "outputs": [
    {
     "name": "stdout",
     "output_type": "stream",
     "text": [
      "{'Subway': 24722, 'McDonalds': 14098, 'Starbucks': 10821, 'Pizza Hut': 34599}\n",
      "<class 'dict'>\n"
     ]
    }
   ],
   "source": [
    "#reading the data from the json file\n",
    "\n",
    "file = 'my_fast_food.json'\n",
    "\n",
    "with open(file, 'r') as f:\n",
    "    data = json.load(f)\n",
    "\n",
    "print(data)\n",
    "print(type(data))"
   ]
  },
  {
   "cell_type": "markdown",
   "id": "933ce4d6-fa1a-4a73-b9fc-207ba35f35b7",
   "metadata": {},
   "source": [
    "Extracting crypto data using Coingecko API\n",
    "Root_url = \"https://api.coingecko.com/api/v3\"\n",
    "\n",
    "This is the link to the public API documentation.\n",
    "\n",
    "Coingecko was founded in 2014 in order to democratize the access of crypto data and empower users with actionable insights.\n",
    "\n",
    "API End points:\n",
    "\n",
    "Ping: /ping\n",
    "Coin list: /coin/list\n",
    "Coin market: /coins/markets\n",
    "Coin history: /coins/{id}/history\n",
    "Coin market chart: coins/{id}/market_chart\n"
   ]
  },
  {
   "cell_type": "markdown",
   "id": "85a45343-3423-40d7-9f75-e611847119e5",
   "metadata": {},
   "source": [
    "Endpoint Ping"
   ]
  },
  {
   "cell_type": "code",
   "execution_count": 53,
   "id": "a3c83031-8c64-4df6-ad06-745092cd9f87",
   "metadata": {},
   "outputs": [
    {
     "data": {
      "text/plain": [
       "200"
      ]
     },
     "execution_count": 53,
     "metadata": {},
     "output_type": "execute_result"
    }
   ],
   "source": [
    "import requests\n",
    "\n",
    "root_url = \"https://api.coingecko.com/api/v3\"\n",
    "endpoint = \"/ping\"\n",
    "\n",
    "response =requests.get(root_url+endpoint)\n",
    "\n",
    "response.status_code"
   ]
  },
  {
   "cell_type": "code",
   "execution_count": 54,
   "id": "02241d8f-d777-4351-b7ec-a845c178ea96",
   "metadata": {},
   "outputs": [
    {
     "data": {
      "text/plain": [
       "{'Date': 'Wed, 14 May 2025 14:25:31 GMT', 'Content-Type': 'application/json; charset=utf-8', 'Transfer-Encoding': 'chunked', 'Connection': 'keep-alive', 'x-frame-options': 'SAMEORIGIN', 'x-xss-protection': '0', 'x-content-type-options': 'nosniff', 'x-download-options': 'noopen', 'x-permitted-cross-domain-policies': 'none', 'referrer-policy': 'strict-origin-when-cross-origin', 'access-control-allow-origin': '*', 'access-control-allow-methods': 'POST, PUT, DELETE, GET, OPTIONS', 'access-control-request-method': '*', 'access-control-allow-headers': 'Origin, X-Requested-With, Content-Type, Accept, Authorization', 'access-control-expose-headers': 'link, per-page, total', 'vary': 'Accept-Encoding, Origin', 'Content-Encoding': 'gzip', 'etag': 'W/\"bbfd3bcdacef06cd8cfc3c78bb4aac73\"', 'Cache-Control': 'max-age=0, private, must-revalidate', 'x-request-id': '91c41ccb-062d-4dd1-b5fe-2afb5dcb4a8d', 'x-runtime': '0.002668', 'alternate-protocol': '443:npn-spdy/2', 'strict-transport-security': 'max-age=15724800; includeSubdomains', 'CF-Cache-Status': 'BYPASS', 'Server': 'cloudflare', 'CF-RAY': '93fb10bcec01beb6-LHR', 'alt-svc': 'h3=\":443\"; ma=86400'}"
      ]
     },
     "execution_count": 54,
     "metadata": {},
     "output_type": "execute_result"
    }
   ],
   "source": [
    "response.headers"
   ]
  },
  {
   "cell_type": "code",
   "execution_count": 55,
   "id": "6faae666-204f-4b12-9ec1-ded8ad83ec51",
   "metadata": {},
   "outputs": [
    {
     "name": "stdout",
     "output_type": "stream",
     "text": [
      "application/json; charset=utf-8\n",
      "max-age=0, private, must-revalidate\n"
     ]
    }
   ],
   "source": [
    "#retrieving header properties the response content type\n",
    "\n",
    "print(response.headers['Content-Type'])\n",
    "print(response.headers['Cache-Control'])"
   ]
  },
  {
   "cell_type": "code",
   "execution_count": 56,
   "id": "f483292b-e499-4f84-8580-b706b4f8cd8d",
   "metadata": {},
   "outputs": [
    {
     "name": "stdout",
     "output_type": "stream",
     "text": [
      "{\"gecko_says\":\"(V3) To the Moon!\"}\n"
     ]
    }
   ],
   "source": [
    "print(response.text)"
   ]
  },
  {
   "cell_type": "markdown",
   "id": "ed4b8bc2-3743-43c2-a0d6-a38ef8374ee7",
   "metadata": {},
   "source": [
    "Endpoint coin list\n",
    "Use this to obtain all the coins id in order to make API calls"
   ]
  },
  {
   "cell_type": "code",
   "execution_count": 57,
   "id": "31cb8a15-3ea1-4ac8-80df-ea2099b08682",
   "metadata": {},
   "outputs": [
    {
     "data": {
      "text/plain": [
       "<Response [200]>"
      ]
     },
     "execution_count": 57,
     "metadata": {},
     "output_type": "execute_result"
    }
   ],
   "source": [
    "import requests\n",
    "\n",
    "endpoint = '/coins/list'\n",
    "\n",
    "response = requests.get(root_url+endpoint)\n",
    "\n",
    "response"
   ]
  },
  {
   "cell_type": "code",
   "execution_count": 58,
   "id": "c6a0d400-bd21-4a04-8d09-ee981afa1aec",
   "metadata": {},
   "outputs": [
    {
     "data": {
      "text/plain": [
       "[{'id': '_', 'symbol': 'gib', 'name': '༼ つ ◕_◕ ༽つ'},\n",
       " {'id': '000-capital', 'symbol': '000', 'name': '000 Capital'},\n",
       " {'id': '01coin', 'symbol': 'zoc', 'name': '01coin'},\n",
       " {'id': '0chain', 'symbol': 'zcn', 'name': 'Zus'},\n",
       " {'id': '0dog', 'symbol': '0dog', 'name': 'Bitcoin Dogs'},\n",
       " {'id': '0-knowledge-network', 'symbol': '0kn', 'name': '0 Knowledge Network'},\n",
       " {'id': '0-mee', 'symbol': 'ome', 'name': 'O-MEE'},\n",
       " {'id': '0vix-protocol', 'symbol': 'vix', 'name': '0VIX Protocol'},\n",
       " {'id': '0x', 'symbol': 'zrx', 'name': '0x Protocol'},\n",
       " {'id': '0x0-ai-ai-smart-contract',\n",
       "  'symbol': '0x0',\n",
       "  'name': '0x0.ai: AI Smart Contract'}]"
      ]
     },
     "execution_count": 58,
     "metadata": {},
     "output_type": "execute_result"
    }
   ],
   "source": [
    "#to retrieve the coins list\n",
    "\n",
    "response.json()[:10]"
   ]
  },
  {
   "cell_type": "code",
   "execution_count": 63,
   "id": "43767006-8666-48df-9c7f-c5946a4911ba",
   "metadata": {},
   "outputs": [
    {
     "data": {
      "text/html": [
       "<div>\n",
       "<style scoped>\n",
       "    .dataframe tbody tr th:only-of-type {\n",
       "        vertical-align: middle;\n",
       "    }\n",
       "\n",
       "    .dataframe tbody tr th {\n",
       "        vertical-align: top;\n",
       "    }\n",
       "\n",
       "    .dataframe thead th {\n",
       "        text-align: right;\n",
       "    }\n",
       "</style>\n",
       "<table border=\"1\" class=\"dataframe\">\n",
       "  <thead>\n",
       "    <tr style=\"text-align: right;\">\n",
       "      <th></th>\n",
       "      <th>id</th>\n",
       "      <th>symbol</th>\n",
       "      <th>name</th>\n",
       "    </tr>\n",
       "  </thead>\n",
       "  <tbody>\n",
       "    <tr>\n",
       "      <th>0</th>\n",
       "      <td>_</td>\n",
       "      <td>gib</td>\n",
       "      <td>༼ つ ◕_◕ ༽つ</td>\n",
       "    </tr>\n",
       "    <tr>\n",
       "      <th>1</th>\n",
       "      <td>000-capital</td>\n",
       "      <td>000</td>\n",
       "      <td>000 Capital</td>\n",
       "    </tr>\n",
       "    <tr>\n",
       "      <th>2</th>\n",
       "      <td>01coin</td>\n",
       "      <td>zoc</td>\n",
       "      <td>01coin</td>\n",
       "    </tr>\n",
       "    <tr>\n",
       "      <th>3</th>\n",
       "      <td>0chain</td>\n",
       "      <td>zcn</td>\n",
       "      <td>Zus</td>\n",
       "    </tr>\n",
       "    <tr>\n",
       "      <th>4</th>\n",
       "      <td>0dog</td>\n",
       "      <td>0dog</td>\n",
       "      <td>Bitcoin Dogs</td>\n",
       "    </tr>\n",
       "  </tbody>\n",
       "</table>\n",
       "</div>"
      ],
      "text/plain": [
       "            id symbol          name\n",
       "0            _    gib    ༼ つ ◕_◕ ༽つ\n",
       "1  000-capital    000   000 Capital\n",
       "2       01coin    zoc        01coin\n",
       "3       0chain    zcn           Zus\n",
       "4         0dog   0dog  Bitcoin Dogs"
      ]
     },
     "execution_count": 63,
     "metadata": {},
     "output_type": "execute_result"
    }
   ],
   "source": [
    "#converting to dataframe\n",
    "\n",
    "import pandas as pd\n",
    "\n",
    "coin = response.json()\n",
    "\n",
    "df = pd.DataFrame(coin)\n",
    "df.head()"
   ]
  },
  {
   "cell_type": "code",
   "execution_count": 64,
   "id": "d1e4e952-dd40-4ffa-8441-5c297c711991",
   "metadata": {},
   "outputs": [
    {
     "data": {
      "text/html": [
       "<div>\n",
       "<style scoped>\n",
       "    .dataframe tbody tr th:only-of-type {\n",
       "        vertical-align: middle;\n",
       "    }\n",
       "\n",
       "    .dataframe tbody tr th {\n",
       "        vertical-align: top;\n",
       "    }\n",
       "\n",
       "    .dataframe thead th {\n",
       "        text-align: right;\n",
       "    }\n",
       "</style>\n",
       "<table border=\"1\" class=\"dataframe\">\n",
       "  <thead>\n",
       "    <tr style=\"text-align: right;\">\n",
       "      <th></th>\n",
       "      <th>id</th>\n",
       "      <th>symbol</th>\n",
       "      <th>name</th>\n",
       "    </tr>\n",
       "  </thead>\n",
       "  <tbody>\n",
       "    <tr>\n",
       "      <th>0</th>\n",
       "      <td>_</td>\n",
       "      <td>gib</td>\n",
       "      <td>༼ つ ◕_◕ ༽つ</td>\n",
       "    </tr>\n",
       "    <tr>\n",
       "      <th>1</th>\n",
       "      <td>000-capital</td>\n",
       "      <td>000</td>\n",
       "      <td>000 Capital</td>\n",
       "    </tr>\n",
       "    <tr>\n",
       "      <th>2</th>\n",
       "      <td>01coin</td>\n",
       "      <td>zoc</td>\n",
       "      <td>01coin</td>\n",
       "    </tr>\n",
       "    <tr>\n",
       "      <th>3</th>\n",
       "      <td>0chain</td>\n",
       "      <td>zcn</td>\n",
       "      <td>Zus</td>\n",
       "    </tr>\n",
       "    <tr>\n",
       "      <th>4</th>\n",
       "      <td>0dog</td>\n",
       "      <td>0dog</td>\n",
       "      <td>Bitcoin Dogs</td>\n",
       "    </tr>\n",
       "    <tr>\n",
       "      <th>5</th>\n",
       "      <td>0-knowledge-network</td>\n",
       "      <td>0kn</td>\n",
       "      <td>0 Knowledge Network</td>\n",
       "    </tr>\n",
       "    <tr>\n",
       "      <th>6</th>\n",
       "      <td>0-mee</td>\n",
       "      <td>ome</td>\n",
       "      <td>O-MEE</td>\n",
       "    </tr>\n",
       "    <tr>\n",
       "      <th>7</th>\n",
       "      <td>0vix-protocol</td>\n",
       "      <td>vix</td>\n",
       "      <td>0VIX Protocol</td>\n",
       "    </tr>\n",
       "    <tr>\n",
       "      <th>8</th>\n",
       "      <td>0x</td>\n",
       "      <td>zrx</td>\n",
       "      <td>0x Protocol</td>\n",
       "    </tr>\n",
       "    <tr>\n",
       "      <th>9</th>\n",
       "      <td>0x0-ai-ai-smart-contract</td>\n",
       "      <td>0x0</td>\n",
       "      <td>0x0.ai: AI Smart Contract</td>\n",
       "    </tr>\n",
       "    <tr>\n",
       "      <th>10</th>\n",
       "      <td>0x678-landwolf-1933</td>\n",
       "      <td>wolf</td>\n",
       "      <td>Landwolf</td>\n",
       "    </tr>\n",
       "    <tr>\n",
       "      <th>11</th>\n",
       "      <td>0xcoco</td>\n",
       "      <td>coco</td>\n",
       "      <td>0xCoco</td>\n",
       "    </tr>\n",
       "    <tr>\n",
       "      <th>12</th>\n",
       "      <td>0xgasless-2</td>\n",
       "      <td>0xgas</td>\n",
       "      <td>0xGasless</td>\n",
       "    </tr>\n",
       "    <tr>\n",
       "      <th>13</th>\n",
       "      <td>0xgen</td>\n",
       "      <td>xgn</td>\n",
       "      <td>0xGen</td>\n",
       "    </tr>\n",
       "    <tr>\n",
       "      <th>14</th>\n",
       "      <td>0x-leverage</td>\n",
       "      <td>oxl</td>\n",
       "      <td>0x Leverage</td>\n",
       "    </tr>\n",
       "    <tr>\n",
       "      <th>15</th>\n",
       "      <td>0xlp</td>\n",
       "      <td>openli</td>\n",
       "      <td>OpenLiquidity</td>\n",
       "    </tr>\n",
       "    <tr>\n",
       "      <th>16</th>\n",
       "      <td>0xlsd</td>\n",
       "      <td>0xlsd</td>\n",
       "      <td>0xLSD</td>\n",
       "    </tr>\n",
       "    <tr>\n",
       "      <th>17</th>\n",
       "      <td>0xmonk</td>\n",
       "      <td>monk</td>\n",
       "      <td>0xMonk by Virtuals</td>\n",
       "    </tr>\n",
       "    <tr>\n",
       "      <th>18</th>\n",
       "      <td>0xnumber</td>\n",
       "      <td>oxn</td>\n",
       "      <td>0xNumber</td>\n",
       "    </tr>\n",
       "    <tr>\n",
       "      <th>19</th>\n",
       "      <td>0xprivacy</td>\n",
       "      <td>0xp</td>\n",
       "      <td>0xPrivacy</td>\n",
       "    </tr>\n",
       "  </tbody>\n",
       "</table>\n",
       "</div>"
      ],
      "text/plain": [
       "                          id  symbol                       name\n",
       "0                          _     gib                 ༼ つ ◕_◕ ༽つ\n",
       "1                000-capital     000                000 Capital\n",
       "2                     01coin     zoc                     01coin\n",
       "3                     0chain     zcn                        Zus\n",
       "4                       0dog    0dog               Bitcoin Dogs\n",
       "5        0-knowledge-network     0kn        0 Knowledge Network\n",
       "6                      0-mee     ome                      O-MEE\n",
       "7              0vix-protocol     vix              0VIX Protocol\n",
       "8                         0x     zrx                0x Protocol\n",
       "9   0x0-ai-ai-smart-contract     0x0  0x0.ai: AI Smart Contract\n",
       "10       0x678-landwolf-1933    wolf                   Landwolf\n",
       "11                    0xcoco    coco                     0xCoco\n",
       "12               0xgasless-2   0xgas                  0xGasless\n",
       "13                     0xgen     xgn                      0xGen\n",
       "14               0x-leverage     oxl                0x Leverage\n",
       "15                      0xlp  openli              OpenLiquidity\n",
       "16                     0xlsd   0xlsd                      0xLSD\n",
       "17                    0xmonk    monk         0xMonk by Virtuals\n",
       "18                  0xnumber     oxn                   0xNumber\n",
       "19                 0xprivacy     0xp                  0xPrivacy"
      ]
     },
     "execution_count": 64,
     "metadata": {},
     "output_type": "execute_result"
    }
   ],
   "source": [
    "df.head(20)"
   ]
  },
  {
   "cell_type": "code",
   "execution_count": 68,
   "id": "c375949e-9442-491a-8e35-7c7ea645225a",
   "metadata": {},
   "outputs": [
    {
     "data": {
      "text/plain": [
       "id        16933\n",
       "symbol    16933\n",
       "name      16933\n",
       "dtype: int64"
      ]
     },
     "execution_count": 68,
     "metadata": {},
     "output_type": "execute_result"
    }
   ],
   "source": [
    "df.count()"
   ]
  },
  {
   "cell_type": "code",
   "execution_count": 69,
   "id": "863e8845-d64d-4dee-bdf0-3a348b3e03dc",
   "metadata": {},
   "outputs": [
    {
     "data": {
      "text/html": [
       "<div>\n",
       "<style scoped>\n",
       "    .dataframe tbody tr th:only-of-type {\n",
       "        vertical-align: middle;\n",
       "    }\n",
       "\n",
       "    .dataframe tbody tr th {\n",
       "        vertical-align: top;\n",
       "    }\n",
       "\n",
       "    .dataframe thead th {\n",
       "        text-align: right;\n",
       "    }\n",
       "</style>\n",
       "<table border=\"1\" class=\"dataframe\">\n",
       "  <thead>\n",
       "    <tr style=\"text-align: right;\">\n",
       "      <th></th>\n",
       "      <th>id</th>\n",
       "      <th>symbol</th>\n",
       "      <th>name</th>\n",
       "    </tr>\n",
       "  </thead>\n",
       "  <tbody>\n",
       "    <tr>\n",
       "      <th>16928</th>\n",
       "      <td>zyncoin-2</td>\n",
       "      <td>zyn</td>\n",
       "      <td>ZynCoin</td>\n",
       "    </tr>\n",
       "    <tr>\n",
       "      <th>16929</th>\n",
       "      <td>zynecoin</td>\n",
       "      <td>zyn</td>\n",
       "      <td>Zynecoin</td>\n",
       "    </tr>\n",
       "    <tr>\n",
       "      <th>16930</th>\n",
       "      <td>zyro-2</td>\n",
       "      <td>zyro</td>\n",
       "      <td>ZYRO</td>\n",
       "    </tr>\n",
       "    <tr>\n",
       "      <th>16931</th>\n",
       "      <td>zzz</td>\n",
       "      <td>zzz</td>\n",
       "      <td>GoSleep ZZZ</td>\n",
       "    </tr>\n",
       "    <tr>\n",
       "      <th>16932</th>\n",
       "      <td>z-z-z-z-z-fehu-z-z-z-z-z</td>\n",
       "      <td>ᚠ</td>\n",
       "      <td>Z•Z•Z•Z•Z•FEHU•Z•Z•Z•Z•Z</td>\n",
       "    </tr>\n",
       "  </tbody>\n",
       "</table>\n",
       "</div>"
      ],
      "text/plain": [
       "                             id symbol                      name\n",
       "16928                 zyncoin-2    zyn                   ZynCoin\n",
       "16929                  zynecoin    zyn                  Zynecoin\n",
       "16930                    zyro-2   zyro                      ZYRO\n",
       "16931                       zzz    zzz               GoSleep ZZZ\n",
       "16932  z-z-z-z-z-fehu-z-z-z-z-z      ᚠ  Z•Z•Z•Z•Z•FEHU•Z•Z•Z•Z•Z"
      ]
     },
     "execution_count": 69,
     "metadata": {},
     "output_type": "execute_result"
    }
   ],
   "source": [
    "df.tail()"
   ]
  },
  {
   "cell_type": "code",
   "execution_count": 70,
   "id": "2767c308-9554-4e21-85db-1c781b430fc6",
   "metadata": {},
   "outputs": [
    {
     "data": {
      "text/plain": [
       "(16933, 3)"
      ]
     },
     "execution_count": 70,
     "metadata": {},
     "output_type": "execute_result"
    }
   ],
   "source": [
    "df.shape"
   ]
  },
  {
   "cell_type": "code",
   "execution_count": 71,
   "id": "471cc0a2-a27d-42e4-acdb-519ebb0026e5",
   "metadata": {},
   "outputs": [
    {
     "data": {
      "text/plain": [
       "50799"
      ]
     },
     "execution_count": 71,
     "metadata": {},
     "output_type": "execute_result"
    }
   ],
   "source": [
    "df.size"
   ]
  },
  {
   "cell_type": "code",
   "execution_count": 73,
   "id": "c08ec466-8003-4c23-9d08-da12c8e0ebbf",
   "metadata": {},
   "outputs": [
    {
     "data": {
      "text/html": [
       "<div>\n",
       "<style scoped>\n",
       "    .dataframe tbody tr th:only-of-type {\n",
       "        vertical-align: middle;\n",
       "    }\n",
       "\n",
       "    .dataframe tbody tr th {\n",
       "        vertical-align: top;\n",
       "    }\n",
       "\n",
       "    .dataframe thead th {\n",
       "        text-align: right;\n",
       "    }\n",
       "</style>\n",
       "<table border=\"1\" class=\"dataframe\">\n",
       "  <thead>\n",
       "    <tr style=\"text-align: right;\">\n",
       "      <th></th>\n",
       "      <th>id</th>\n",
       "      <th>symbol</th>\n",
       "      <th>name</th>\n",
       "    </tr>\n",
       "  </thead>\n",
       "  <tbody>\n",
       "    <tr>\n",
       "      <th>1633</th>\n",
       "      <td>batcat</td>\n",
       "      <td>btc</td>\n",
       "      <td>batcat</td>\n",
       "    </tr>\n",
       "    <tr>\n",
       "      <th>1832</th>\n",
       "      <td>bifrost-bridged-eth-bifrost</td>\n",
       "      <td>eth</td>\n",
       "      <td>Bifrost Bridged ETH (Bifrost)</td>\n",
       "    </tr>\n",
       "    <tr>\n",
       "      <th>1887</th>\n",
       "      <td>binance-peg-dogecoin</td>\n",
       "      <td>doge</td>\n",
       "      <td>Binance-Peg Dogecoin</td>\n",
       "    </tr>\n",
       "    <tr>\n",
       "      <th>1972</th>\n",
       "      <td>bitcoin</td>\n",
       "      <td>btc</td>\n",
       "      <td>Bitcoin</td>\n",
       "    </tr>\n",
       "    <tr>\n",
       "      <th>2101</th>\n",
       "      <td>blackrocktradingcurrency</td>\n",
       "      <td>btc</td>\n",
       "      <td>BlackrockTradingCurrency</td>\n",
       "    </tr>\n",
       "    <tr>\n",
       "      <th>2495</th>\n",
       "      <td>bridged-binance-peg-ethereum-opbnb</td>\n",
       "      <td>eth</td>\n",
       "      <td>Bridged Binance-Peg Ethereum (opBNB)</td>\n",
       "    </tr>\n",
       "    <tr>\n",
       "      <th>2562</th>\n",
       "      <td>bridged-wrapped-ether-eclipse</td>\n",
       "      <td>eth</td>\n",
       "      <td>Bridged Wrapped Ether (Eclipse)</td>\n",
       "    </tr>\n",
       "    <tr>\n",
       "      <th>2571</th>\n",
       "      <td>bridged-wrapped-ether-starkgate</td>\n",
       "      <td>eth</td>\n",
       "      <td>Bridged Ether (StarkGate)</td>\n",
       "    </tr>\n",
       "    <tr>\n",
       "      <th>4222</th>\n",
       "      <td>department-of-gov-efficiency</td>\n",
       "      <td>doge</td>\n",
       "      <td>Department of Gov Efficiency</td>\n",
       "    </tr>\n",
       "    <tr>\n",
       "      <th>4223</th>\n",
       "      <td>department-of-government-efficiency</td>\n",
       "      <td>doge</td>\n",
       "      <td>Department Of Government Efficiency</td>\n",
       "    </tr>\n",
       "    <tr>\n",
       "      <th>4224</th>\n",
       "      <td>department-of-government-efficiency-2</td>\n",
       "      <td>doge</td>\n",
       "      <td>Department Of Government Efficiency</td>\n",
       "    </tr>\n",
       "    <tr>\n",
       "      <th>4226</th>\n",
       "      <td>department-of-government-efficiency-4</td>\n",
       "      <td>doge</td>\n",
       "      <td>Department Of Government Efficiency</td>\n",
       "    </tr>\n",
       "    <tr>\n",
       "      <th>4546</th>\n",
       "      <td>dogecoin</td>\n",
       "      <td>doge</td>\n",
       "      <td>Dogecoin</td>\n",
       "    </tr>\n",
       "    <tr>\n",
       "      <th>4578</th>\n",
       "      <td>doge-on-pulsechain</td>\n",
       "      <td>doge</td>\n",
       "      <td>Doge on Pulsechain</td>\n",
       "    </tr>\n",
       "    <tr>\n",
       "      <th>5263</th>\n",
       "      <td>ethereum</td>\n",
       "      <td>eth</td>\n",
       "      <td>Ethereum</td>\n",
       "    </tr>\n",
       "    <tr>\n",
       "      <th>5278</th>\n",
       "      <td>ethereum-wormhole</td>\n",
       "      <td>eth</td>\n",
       "      <td>Ethereum (Wormhole)</td>\n",
       "    </tr>\n",
       "    <tr>\n",
       "      <th>7254</th>\n",
       "      <td>immutable-zkevm-bridged-eth</td>\n",
       "      <td>eth</td>\n",
       "      <td>Immutable zkEVM Bridged ETH</td>\n",
       "    </tr>\n",
       "    <tr>\n",
       "      <th>8185</th>\n",
       "      <td>laika-bridged-eth-laika</td>\n",
       "      <td>eth</td>\n",
       "      <td>Laika Bridged ETH (Laika)</td>\n",
       "    </tr>\n",
       "    <tr>\n",
       "      <th>10415</th>\n",
       "      <td>nova-eth</td>\n",
       "      <td>eth</td>\n",
       "      <td>Nova Merged ETH (zkLink)</td>\n",
       "    </tr>\n",
       "    <tr>\n",
       "      <th>10845</th>\n",
       "      <td>osmosis-allbtc</td>\n",
       "      <td>btc</td>\n",
       "      <td>Osmosis allBTC</td>\n",
       "    </tr>\n",
       "    <tr>\n",
       "      <th>10846</th>\n",
       "      <td>osmosis-alleth</td>\n",
       "      <td>eth</td>\n",
       "      <td>Osmosis allETH</td>\n",
       "    </tr>\n",
       "    <tr>\n",
       "      <th>14570</th>\n",
       "      <td>the-infinite-garden</td>\n",
       "      <td>eth</td>\n",
       "      <td>The Infinite Garden</td>\n",
       "    </tr>\n",
       "    <tr>\n",
       "      <th>14643</th>\n",
       "      <td>the-ticker-is-eth</td>\n",
       "      <td>eth</td>\n",
       "      <td>The Ticker Is ETH</td>\n",
       "    </tr>\n",
       "  </tbody>\n",
       "</table>\n",
       "</div>"
      ],
      "text/plain": [
       "                                          id symbol  \\\n",
       "1633                                  batcat    btc   \n",
       "1832             bifrost-bridged-eth-bifrost    eth   \n",
       "1887                    binance-peg-dogecoin   doge   \n",
       "1972                                 bitcoin    btc   \n",
       "2101                blackrocktradingcurrency    btc   \n",
       "2495      bridged-binance-peg-ethereum-opbnb    eth   \n",
       "2562           bridged-wrapped-ether-eclipse    eth   \n",
       "2571         bridged-wrapped-ether-starkgate    eth   \n",
       "4222            department-of-gov-efficiency   doge   \n",
       "4223     department-of-government-efficiency   doge   \n",
       "4224   department-of-government-efficiency-2   doge   \n",
       "4226   department-of-government-efficiency-4   doge   \n",
       "4546                                dogecoin   doge   \n",
       "4578                      doge-on-pulsechain   doge   \n",
       "5263                                ethereum    eth   \n",
       "5278                       ethereum-wormhole    eth   \n",
       "7254             immutable-zkevm-bridged-eth    eth   \n",
       "8185                 laika-bridged-eth-laika    eth   \n",
       "10415                               nova-eth    eth   \n",
       "10845                         osmosis-allbtc    btc   \n",
       "10846                         osmosis-alleth    eth   \n",
       "14570                    the-infinite-garden    eth   \n",
       "14643                      the-ticker-is-eth    eth   \n",
       "\n",
       "                                       name  \n",
       "1633                                 batcat  \n",
       "1832          Bifrost Bridged ETH (Bifrost)  \n",
       "1887                   Binance-Peg Dogecoin  \n",
       "1972                                Bitcoin  \n",
       "2101               BlackrockTradingCurrency  \n",
       "2495   Bridged Binance-Peg Ethereum (opBNB)  \n",
       "2562        Bridged Wrapped Ether (Eclipse)  \n",
       "2571              Bridged Ether (StarkGate)  \n",
       "4222           Department of Gov Efficiency  \n",
       "4223    Department Of Government Efficiency  \n",
       "4224    Department Of Government Efficiency  \n",
       "4226    Department Of Government Efficiency  \n",
       "4546                               Dogecoin  \n",
       "4578                     Doge on Pulsechain  \n",
       "5263                               Ethereum  \n",
       "5278                    Ethereum (Wormhole)  \n",
       "7254            Immutable zkEVM Bridged ETH  \n",
       "8185              Laika Bridged ETH (Laika)  \n",
       "10415              Nova Merged ETH (zkLink)  \n",
       "10845                        Osmosis allBTC  \n",
       "10846                        Osmosis allETH  \n",
       "14570                   The Infinite Garden  \n",
       "14643                     The Ticker Is ETH  "
      ]
     },
     "execution_count": 73,
     "metadata": {},
     "output_type": "execute_result"
    }
   ],
   "source": [
    "df.loc[(df.symbol==\"btc\") | (df.symbol==\"doge\") | (df.symbol==\"eth\") | (df.symbol==\"0 chains\")]"
   ]
  },
  {
   "cell_type": "code",
   "execution_count": 75,
   "id": "ddee13f4-8c4c-44b1-849c-923e36804230",
   "metadata": {},
   "outputs": [
    {
     "data": {
      "text/plain": [
       "<Response [200]>"
      ]
     },
     "execution_count": 75,
     "metadata": {},
     "output_type": "execute_result"
    }
   ],
   "source": [
    "#Endpoint coin markets\n",
    "#Use this to obtain all the coins market data (price, market cap, volume)\n",
    "\n",
    "import requests\n",
    "\n",
    "endpoint = '/coins/markets'\n",
    "\n",
    "parameters = {'vs_currency': 'usd', 'ids':'bitcoin, dogecoin, ethereum'}\n",
    "\n",
    "response = requests.get(root_url+endpoint, params=parameters)\n",
    "response"
   ]
  },
  {
   "cell_type": "code",
   "execution_count": 76,
   "id": "e7db7dc6-b56d-4b79-b39e-a112add9e13d",
   "metadata": {},
   "outputs": [
    {
     "data": {
      "text/plain": [
       "[{'id': 'bitcoin',\n",
       "  'symbol': 'btc',\n",
       "  'name': 'Bitcoin',\n",
       "  'image': 'https://coin-images.coingecko.com/coins/images/1/large/bitcoin.png?1696501400',\n",
       "  'current_price': 103322,\n",
       "  'market_cap': 2051659285538,\n",
       "  'market_cap_rank': 1,\n",
       "  'fully_diluted_valuation': 2051659285538,\n",
       "  'total_volume': 31492263227,\n",
       "  'high_24h': 104836,\n",
       "  'low_24h': 103122,\n",
       "  'price_change_24h': 199.67,\n",
       "  'price_change_percentage_24h': 0.19363,\n",
       "  'market_cap_change_24h': 3623787500,\n",
       "  'market_cap_change_percentage_24h': 0.17694,\n",
       "  'circulating_supply': 19864562.0,\n",
       "  'total_supply': 19864562.0,\n",
       "  'max_supply': 21000000.0,\n",
       "  'ath': 108786,\n",
       "  'ath_change_percentage': -5.10031,\n",
       "  'ath_date': '2025-01-20T09:11:54.494Z',\n",
       "  'atl': 67.81,\n",
       "  'atl_change_percentage': 152146.94101,\n",
       "  'atl_date': '2013-07-06T00:00:00.000Z',\n",
       "  'roi': None,\n",
       "  'last_updated': '2025-05-14T14:56:28.526Z'},\n",
       " {'id': 'ethereum',\n",
       "  'symbol': 'eth',\n",
       "  'name': 'Ethereum',\n",
       "  'image': 'https://coin-images.coingecko.com/coins/images/279/large/ethereum.png?1696501628',\n",
       "  'current_price': 2579.45,\n",
       "  'market_cap': 311240511797,\n",
       "  'market_cap_rank': 2,\n",
       "  'fully_diluted_valuation': 311240511797,\n",
       "  'total_volume': 37594747937,\n",
       "  'high_24h': 2708.81,\n",
       "  'low_24h': 2542.1,\n",
       "  'price_change_24h': 37.35,\n",
       "  'price_change_percentage_24h': 1.46941,\n",
       "  'market_cap_change_24h': 4153125978,\n",
       "  'market_cap_change_percentage_24h': 1.35242,\n",
       "  'circulating_supply': 120728560.3911534,\n",
       "  'total_supply': 120728560.3911534,\n",
       "  'max_supply': None,\n",
       "  'ath': 4878.26,\n",
       "  'ath_change_percentage': -47.21001,\n",
       "  'ath_date': '2021-11-10T14:24:19.604Z',\n",
       "  'atl': 0.432979,\n",
       "  'atl_change_percentage': 594671.07129,\n",
       "  'atl_date': '2015-10-20T00:00:00.000Z',\n",
       "  'roi': {'times': 32.34944395807134,\n",
       "   'currency': 'btc',\n",
       "   'percentage': 3234.9443958071342},\n",
       "  'last_updated': '2025-05-14T14:56:34.122Z'},\n",
       " {'id': 'dogecoin',\n",
       "  'symbol': 'doge',\n",
       "  'name': 'Dogecoin',\n",
       "  'image': 'https://coin-images.coingecko.com/coins/images/5/large/dogecoin.png?1696501409',\n",
       "  'current_price': 0.232309,\n",
       "  'market_cap': 34654512531,\n",
       "  'market_cap_rank': 8,\n",
       "  'fully_diluted_valuation': 34669747630,\n",
       "  'total_volume': 2989009803,\n",
       "  'high_24h': 0.245545,\n",
       "  'low_24h': 0.225813,\n",
       "  'price_change_24h': 0.00649612,\n",
       "  'price_change_percentage_24h': 2.87676,\n",
       "  'market_cap_change_24h': 965077017,\n",
       "  'market_cap_change_percentage_24h': 2.86463,\n",
       "  'circulating_supply': 149194276383.7052,\n",
       "  'total_supply': 149259866383.7052,\n",
       "  'max_supply': None,\n",
       "  'ath': 0.731578,\n",
       "  'ath_change_percentage': -68.30407,\n",
       "  'ath_date': '2021-05-08T05:08:23.458Z',\n",
       "  'atl': 8.69e-05,\n",
       "  'atl_change_percentage': 266724.48922,\n",
       "  'atl_date': '2015-05-06T00:00:00.000Z',\n",
       "  'roi': None,\n",
       "  'last_updated': '2025-05-14T14:56:33.171Z'}]"
      ]
     },
     "execution_count": 76,
     "metadata": {},
     "output_type": "execute_result"
    }
   ],
   "source": [
    "response.json()"
   ]
  },
  {
   "cell_type": "code",
   "execution_count": 77,
   "id": "aaacf9bb-2699-4c14-bb36-f94ec69525b8",
   "metadata": {},
   "outputs": [
    {
     "data": {
      "text/html": [
       "<div>\n",
       "<style scoped>\n",
       "    .dataframe tbody tr th:only-of-type {\n",
       "        vertical-align: middle;\n",
       "    }\n",
       "\n",
       "    .dataframe tbody tr th {\n",
       "        vertical-align: top;\n",
       "    }\n",
       "\n",
       "    .dataframe thead th {\n",
       "        text-align: right;\n",
       "    }\n",
       "</style>\n",
       "<table border=\"1\" class=\"dataframe\">\n",
       "  <thead>\n",
       "    <tr style=\"text-align: right;\">\n",
       "      <th></th>\n",
       "      <th>id</th>\n",
       "      <th>symbol</th>\n",
       "      <th>name</th>\n",
       "      <th>image</th>\n",
       "      <th>current_price</th>\n",
       "      <th>market_cap</th>\n",
       "      <th>market_cap_rank</th>\n",
       "      <th>fully_diluted_valuation</th>\n",
       "      <th>total_volume</th>\n",
       "      <th>high_24h</th>\n",
       "      <th>...</th>\n",
       "      <th>ath_change_percentage</th>\n",
       "      <th>ath_date</th>\n",
       "      <th>atl</th>\n",
       "      <th>atl_change_percentage</th>\n",
       "      <th>atl_date</th>\n",
       "      <th>roi</th>\n",
       "      <th>last_updated</th>\n",
       "      <th>roi.times</th>\n",
       "      <th>roi.currency</th>\n",
       "      <th>roi.percentage</th>\n",
       "    </tr>\n",
       "  </thead>\n",
       "  <tbody>\n",
       "    <tr>\n",
       "      <th>0</th>\n",
       "      <td>bitcoin</td>\n",
       "      <td>btc</td>\n",
       "      <td>Bitcoin</td>\n",
       "      <td>https://coin-images.coingecko.com/coins/images...</td>\n",
       "      <td>103322.000000</td>\n",
       "      <td>2051659285538</td>\n",
       "      <td>1</td>\n",
       "      <td>2051659285538</td>\n",
       "      <td>31492263227</td>\n",
       "      <td>104836.000000</td>\n",
       "      <td>...</td>\n",
       "      <td>-5.10031</td>\n",
       "      <td>2025-01-20T09:11:54.494Z</td>\n",
       "      <td>67.810000</td>\n",
       "      <td>152146.94101</td>\n",
       "      <td>2013-07-06T00:00:00.000Z</td>\n",
       "      <td>NaN</td>\n",
       "      <td>2025-05-14T14:56:28.526Z</td>\n",
       "      <td>NaN</td>\n",
       "      <td>NaN</td>\n",
       "      <td>NaN</td>\n",
       "    </tr>\n",
       "    <tr>\n",
       "      <th>1</th>\n",
       "      <td>ethereum</td>\n",
       "      <td>eth</td>\n",
       "      <td>Ethereum</td>\n",
       "      <td>https://coin-images.coingecko.com/coins/images...</td>\n",
       "      <td>2579.450000</td>\n",
       "      <td>311240511797</td>\n",
       "      <td>2</td>\n",
       "      <td>311240511797</td>\n",
       "      <td>37594747937</td>\n",
       "      <td>2708.810000</td>\n",
       "      <td>...</td>\n",
       "      <td>-47.21001</td>\n",
       "      <td>2021-11-10T14:24:19.604Z</td>\n",
       "      <td>0.432979</td>\n",
       "      <td>594671.07129</td>\n",
       "      <td>2015-10-20T00:00:00.000Z</td>\n",
       "      <td>NaN</td>\n",
       "      <td>2025-05-14T14:56:34.122Z</td>\n",
       "      <td>32.349444</td>\n",
       "      <td>btc</td>\n",
       "      <td>3234.944396</td>\n",
       "    </tr>\n",
       "    <tr>\n",
       "      <th>2</th>\n",
       "      <td>dogecoin</td>\n",
       "      <td>doge</td>\n",
       "      <td>Dogecoin</td>\n",
       "      <td>https://coin-images.coingecko.com/coins/images...</td>\n",
       "      <td>0.232309</td>\n",
       "      <td>34654512531</td>\n",
       "      <td>8</td>\n",
       "      <td>34669747630</td>\n",
       "      <td>2989009803</td>\n",
       "      <td>0.245545</td>\n",
       "      <td>...</td>\n",
       "      <td>-68.30407</td>\n",
       "      <td>2021-05-08T05:08:23.458Z</td>\n",
       "      <td>0.000087</td>\n",
       "      <td>266724.48922</td>\n",
       "      <td>2015-05-06T00:00:00.000Z</td>\n",
       "      <td>NaN</td>\n",
       "      <td>2025-05-14T14:56:33.171Z</td>\n",
       "      <td>NaN</td>\n",
       "      <td>NaN</td>\n",
       "      <td>NaN</td>\n",
       "    </tr>\n",
       "  </tbody>\n",
       "</table>\n",
       "<p>3 rows × 29 columns</p>\n",
       "</div>"
      ],
      "text/plain": [
       "         id symbol      name  \\\n",
       "0   bitcoin    btc   Bitcoin   \n",
       "1  ethereum    eth  Ethereum   \n",
       "2  dogecoin   doge  Dogecoin   \n",
       "\n",
       "                                               image  current_price  \\\n",
       "0  https://coin-images.coingecko.com/coins/images...  103322.000000   \n",
       "1  https://coin-images.coingecko.com/coins/images...    2579.450000   \n",
       "2  https://coin-images.coingecko.com/coins/images...       0.232309   \n",
       "\n",
       "      market_cap  market_cap_rank  fully_diluted_valuation  total_volume  \\\n",
       "0  2051659285538                1            2051659285538   31492263227   \n",
       "1   311240511797                2             311240511797   37594747937   \n",
       "2    34654512531                8              34669747630    2989009803   \n",
       "\n",
       "        high_24h  ...  ath_change_percentage                  ath_date  \\\n",
       "0  104836.000000  ...               -5.10031  2025-01-20T09:11:54.494Z   \n",
       "1    2708.810000  ...              -47.21001  2021-11-10T14:24:19.604Z   \n",
       "2       0.245545  ...              -68.30407  2021-05-08T05:08:23.458Z   \n",
       "\n",
       "         atl  atl_change_percentage                  atl_date  roi  \\\n",
       "0  67.810000           152146.94101  2013-07-06T00:00:00.000Z  NaN   \n",
       "1   0.432979           594671.07129  2015-10-20T00:00:00.000Z  NaN   \n",
       "2   0.000087           266724.48922  2015-05-06T00:00:00.000Z  NaN   \n",
       "\n",
       "               last_updated  roi.times  roi.currency  roi.percentage  \n",
       "0  2025-05-14T14:56:28.526Z        NaN           NaN             NaN  \n",
       "1  2025-05-14T14:56:34.122Z  32.349444           btc     3234.944396  \n",
       "2  2025-05-14T14:56:33.171Z        NaN           NaN             NaN  \n",
       "\n",
       "[3 rows x 29 columns]"
      ]
     },
     "execution_count": 77,
     "metadata": {},
     "output_type": "execute_result"
    }
   ],
   "source": [
    "#converting to a dataframe\n",
    "\n",
    "df = pd.json_normalize(response.json())\n",
    "df.head()"
   ]
  },
  {
   "cell_type": "code",
   "execution_count": 78,
   "id": "4e8b60ce-a016-4173-a8a1-e25847d63130",
   "metadata": {},
   "outputs": [
    {
     "name": "stdout",
     "output_type": "stream",
     "text": [
      "Today:  14-05-2025\n"
     ]
    }
   ],
   "source": [
    "#Endpoint coins history\n",
    "#Get historical data (name, price, market, stats) at a given date for a coin\n",
    "\n",
    "#retrieve today's date\n",
    "from datetime import date\n",
    "\n",
    "today = date.today().strftime('%d-%m-%Y')\n",
    "\n",
    "print('Today: ', today)\n"
   ]
  },
  {
   "cell_type": "code",
   "execution_count": 79,
   "id": "a59327b8-ec20-4427-9e20-b4a71203fd4b",
   "metadata": {},
   "outputs": [
    {
     "data": {
      "text/plain": [
       "<Response [200]>"
      ]
     },
     "execution_count": 79,
     "metadata": {},
     "output_type": "execute_result"
    }
   ],
   "source": [
    "import requests\n",
    "\n",
    "uid = 'bitcoin'\n",
    "\n",
    "root_url = 'https://api.coingecko.com/api/v3'\n",
    "endpoint = f'/coins/{uid}/history' #don't forget the 'f' string, it is crucial for the {uid} value to be collected\n",
    "parameter = {'date': today}\n",
    "\n",
    "response = requests.get(root_url+endpoint, params = parameter)\n",
    "\n",
    "response"
   ]
  },
  {
   "cell_type": "code",
   "execution_count": 80,
   "id": "dd3da705-f3bb-424e-9572-68a7ce6b570d",
   "metadata": {},
   "outputs": [
    {
     "data": {
      "text/plain": [
       "{'id': 'bitcoin',\n",
       " 'symbol': 'btc',\n",
       " 'name': 'Bitcoin',\n",
       " 'localization': {'en': 'Bitcoin',\n",
       "  'de': 'Bitcoin',\n",
       "  'es': 'Bitcoin',\n",
       "  'fr': 'Bitcoin',\n",
       "  'it': 'Bitcoin',\n",
       "  'pl': 'Bitcoin',\n",
       "  'ro': 'Bitcoin',\n",
       "  'hu': 'Bitcoin',\n",
       "  'nl': 'Bitcoin',\n",
       "  'pt': 'Bitcoin',\n",
       "  'sv': 'Bitcoin',\n",
       "  'vi': 'Bitcoin',\n",
       "  'tr': 'Bitcoin',\n",
       "  'ru': 'Биткоин',\n",
       "  'ja': 'ビットコイン',\n",
       "  'zh': '比特币',\n",
       "  'zh-tw': '比特幣',\n",
       "  'ko': '비트코인',\n",
       "  'ar': 'بيتكوين',\n",
       "  'th': 'บิตคอยน์',\n",
       "  'id': 'Bitcoin',\n",
       "  'cs': 'Bitcoin',\n",
       "  'da': 'Bitcoin',\n",
       "  'el': 'Bitcoin',\n",
       "  'hi': 'Bitcoin',\n",
       "  'no': 'Bitcoin',\n",
       "  'sk': 'Bitcoin',\n",
       "  'uk': 'Bitcoin',\n",
       "  'he': 'Bitcoin',\n",
       "  'fi': 'Bitcoin',\n",
       "  'bg': 'Bitcoin',\n",
       "  'hr': 'Bitcoin',\n",
       "  'lt': 'Bitcoin',\n",
       "  'sl': 'Bitcoin'},\n",
       " 'image': {'thumb': 'https://coin-images.coingecko.com/coins/images/1/thumb/bitcoin.png?1696501400',\n",
       "  'small': 'https://coin-images.coingecko.com/coins/images/1/small/bitcoin.png?1696501400'},\n",
       " 'market_data': {'current_price': {'aed': 382674.84243693406,\n",
       "   'ars': 117207030.76934387,\n",
       "   'aud': 160902.7353314782,\n",
       "   'bch': 253.5962052603704,\n",
       "   'bdt': 12633997.03022469,\n",
       "   'bhd': 39272.55202251186,\n",
       "   'bmd': 104184.49039270742,\n",
       "   'bnb': 156.4160514851795,\n",
       "   'brl': 584490.3062231767,\n",
       "   'btc': 1.0,\n",
       "   'cad': 145144.10186814837,\n",
       "   'chf': 87462.25457773556,\n",
       "   'clp': 97978220.30001388,\n",
       "   'cny': 750472.1396457895,\n",
       "   'czk': 2319230.207918472,\n",
       "   'dkk': 694722.2895452189,\n",
       "   'dot': 20033.26178400685,\n",
       "   'eos': 117570.24152711382,\n",
       "   'eth': 38.938812685054295,\n",
       "   'eur': 93135.41263308965,\n",
       "   'gbp': 78307.14666896677,\n",
       "   'gel': 285986.426127982,\n",
       "   'hkd': 812297.29993463,\n",
       "   'huf': 37657238.697969235,\n",
       "   'idr': 1730484680.6976492,\n",
       "   'ils': 371062.54332225333,\n",
       "   'inr': 8860925.91388854,\n",
       "   'jpy': 15367681.163131109,\n",
       "   'krw': 147629595.41598248,\n",
       "   'kwd': 32019.019432390774,\n",
       "   'lkr': 31079074.982273538,\n",
       "   'ltc': 1007.190909227516,\n",
       "   'mmk': 218579060.84390017,\n",
       "   'mxn': 2022333.7903255469,\n",
       "   'myr': 452004.4115687613,\n",
       "   'ngn': 166663929.28121412,\n",
       "   'nok': 1079890.1626527596,\n",
       "   'nzd': 175453.14125972363,\n",
       "   'php': 5809900.615732489,\n",
       "   'pkr': 29272855.768671647,\n",
       "   'pln': 394849.321061774,\n",
       "   'rub': 8318950.068475426,\n",
       "   'sar': 390753.62037545576,\n",
       "   'sek': 1012967.6719869656,\n",
       "   'sgd': 135549.33540992244,\n",
       "   'sol': 566.2407183964872,\n",
       "   'thb': 3461008.770845741,\n",
       "   'try': 4040993.514597395,\n",
       "   'twd': 3171803.043964625,\n",
       "   'uah': 4319751.933335402,\n",
       "   'usd': 104184.49039270742,\n",
       "   'vef': 10431.993023021789,\n",
       "   'vnd': 2704316817.123507,\n",
       "   'xag': 3162.1368069459886,\n",
       "   'xau': 32.013810207871146,\n",
       "   'xdr': 75031.37792203926,\n",
       "   'xlm': 331057.5980830115,\n",
       "   'xrp': 40258.60982417389,\n",
       "   'yfi': 16.43459675079066,\n",
       "   'zar': 1906968.9497153263,\n",
       "   'bits': 999390.1795961806,\n",
       "   'link': 5980.130344371688,\n",
       "   'sats': 99939017.95961806},\n",
       "  'market_cap': {'aed': 7600848320715.157,\n",
       "   'ars': 2327963190053953.5,\n",
       "   'aud': 3195892824227.624,\n",
       "   'bch': 5036332333.530975,\n",
       "   'bdt': 250941751225596.75,\n",
       "   'bhd': 780047910099.2959,\n",
       "   'bmd': 2069356072124.024,\n",
       "   'bnb': 3106262077.3343143,\n",
       "   'brl': 11609391759958.393,\n",
       "   'btc': 19864318.0,\n",
       "   'cad': 2882892371538.504,\n",
       "   'chf': 1736671904476.8633,\n",
       "   'clp': 1946084530907598.2,\n",
       "   'cny': 14906192594331.002,\n",
       "   'czk': 46062003745015.914,\n",
       "   'dkk': 13795693351786.363,\n",
       "   'dot': 397905819849.1015,\n",
       "   'eos': 2335931624225.752,\n",
       "   'eth': 773514181.0659335,\n",
       "   'eur': 1849331787755.4395,\n",
       "   'gbp': 1555133504337.639,\n",
       "   'gel': 5680382417980.452,\n",
       "   'hkd': 16134266440825.512,\n",
       "   'huf': 747803203783459.2,\n",
       "   'idr': 34371612974458080,\n",
       "   'ils': 7370199962272.282,\n",
       "   'inr': 175999429237788.7,\n",
       "   'jpy': 305172078668274.4,\n",
       "   'krw': 2932280981053399,\n",
       "   'kwd': 635975201645.877,\n",
       "   'lkr': 617305630503591.6,\n",
       "   'ltc': 19993747866.8757,\n",
       "   'mmk': 4341509039316205,\n",
       "   'mxn': 40168684587213.89,\n",
       "   'myr': 8977901318910.09,\n",
       "   'ngn': 3310348908576803,\n",
       "   'nok': 21450485646589.65,\n",
       "   'nzd': 3483616092495.7495,\n",
       "   'php': 115398684317456.7,\n",
       "   'pkr': 581429746452468.1,\n",
       "   'pln': 7841164710726.99,\n",
       "   'rub': 165234477540825.9,\n",
       "   'sar': 7761312398615.868,\n",
       "   'sek': 20117809989361.387,\n",
       "   'sgd': 2692337786993.033,\n",
       "   'sol': 11246753155.611979,\n",
       "   'thb': 68868170080287.6,\n",
       "   'try': 80263369001288.64,\n",
       "   'twd': 62999683195351.05,\n",
       "   'uah': 85800725804988.19,\n",
       "   'usd': 2069356072124.024,\n",
       "   'vef': 207204623501.7786,\n",
       "   'vnd': 53714275564123350,\n",
       "   'xag': 62807688338.97939,\n",
       "   'xau': 635871733.8422709,\n",
       "   'xdr': 1490304717310.1372,\n",
       "   'xlm': 6576356984697.345,\n",
       "   'xrp': 799321911146.0918,\n",
       "   'yfi': 326359005.34334683,\n",
       "   'zar': 37877017592261.586,\n",
       "   'bits': 19849169231300.97,\n",
       "   'link': 118721172311.78073,\n",
       "   'sats': 1984916923130096.5},\n",
       "  'total_volume': {'aed': 124374734715.77971,\n",
       "   'ars': 38093942277284.15,\n",
       "   'aud': 52295664105.99356,\n",
       "   'bch': 82422352.49469014,\n",
       "   'bdt': 4106227676289.1924,\n",
       "   'bhd': 12764134711.093668,\n",
       "   'bmd': 33861432519.50822,\n",
       "   'bnb': 50837428.41539172,\n",
       "   'brl': 189967614065.0216,\n",
       "   'btc': 324815.9394886671,\n",
       "   'cad': 47173885407.39028,\n",
       "   'chf': 28426469431.532043,\n",
       "   'clp': 31844306984321.133,\n",
       "   'cny': 243914056867.77365,\n",
       "   'czk': 753782610891.7013,\n",
       "   'dkk': 225794567296.55713,\n",
       "   'dot': 6511093344.96753,\n",
       "   'eos': 38211990909.26601,\n",
       "   'eth': 12655664.707431627,\n",
       "   'eur': 30270326016.516827,\n",
       "   'gbp': 25450929910.31278,\n",
       "   'gel': 92949632266.05011,\n",
       "   'hkd': 264008108153.5002,\n",
       "   'huf': 12239135040502.668,\n",
       "   'idr': 562431989834715.06,\n",
       "   'ils': 120600573308.58786,\n",
       "   'inr': 2879926213225.5015,\n",
       "   'jpy': 4994713673073.8,\n",
       "   'krw': 47981705954675.4,\n",
       "   'kwd': 10406634056.220463,\n",
       "   'lkr': 10101138819359.766,\n",
       "   'ltc': 327351286.9191603,\n",
       "   'mmk': 71041285425928.25,\n",
       "   'mxn': 657287077135.0734,\n",
       "   'myr': 146907824985.88647,\n",
       "   'ngn': 54168133601457.33,\n",
       "   'nok': 350979572231.09595,\n",
       "   'nzd': 57024751771.66805,\n",
       "   'php': 1888299850612.3667,\n",
       "   'pkr': 9514092035464.371,\n",
       "   'pln': 128331612412.84686,\n",
       "   'rub': 2703776400067.283,\n",
       "   'sar': 127000451777.63994,\n",
       "   'sek': 329228816497.92,\n",
       "   'sgd': 44055450640.93871,\n",
       "   'sol': 184036239.97687286,\n",
       "   'thb': 1124876788298.0635,\n",
       "   'try': 1313380030852.3464,\n",
       "   'twd': 1030880837767.1606,\n",
       "   'uah': 1403980458514.4905,\n",
       "   'usd': 33861432519.50822,\n",
       "   'vef': 3390545238.1783566,\n",
       "   'vnd': 878941203908875.1,\n",
       "   'xag': 1027739174.0580004,\n",
       "   'xau': 10404940.98459449,\n",
       "   'xdr': 24386258749.0344,\n",
       "   'xlm': 107598400446.20537,\n",
       "   'xrp': 13084617439.237343,\n",
       "   'yfi': 5341476.324974953,\n",
       "   'zar': 619791872707.599,\n",
       "   'bits': 324815939488.6671,\n",
       "   'link': 1943626919.424654,\n",
       "   'sats': 32481593948866.71}},\n",
       " 'community_data': {'facebook_likes': None,\n",
       "  'twitter_followers': None,\n",
       "  'reddit_average_posts_48h': 0.0,\n",
       "  'reddit_average_comments_48h': 0.0,\n",
       "  'reddit_subscribers': None,\n",
       "  'reddit_accounts_active_48h': 0.0},\n",
       " 'developer_data': {'forks': None,\n",
       "  'stars': None,\n",
       "  'subscribers': None,\n",
       "  'total_issues': None,\n",
       "  'closed_issues': None,\n",
       "  'pull_requests_merged': None,\n",
       "  'pull_request_contributors': None,\n",
       "  'code_additions_deletions_4_weeks': {'additions': None, 'deletions': None},\n",
       "  'commit_count_4_weeks': None},\n",
       " 'public_interest_stats': {'alexa_rank': None, 'bing_matches': None}}"
      ]
     },
     "execution_count": 80,
     "metadata": {},
     "output_type": "execute_result"
    }
   ],
   "source": [
    "coin = response.json()\n",
    "coin"
   ]
  },
  {
   "cell_type": "code",
   "execution_count": 82,
   "id": "4b5f5d87-7e62-4554-864e-0c871fbb68d6",
   "metadata": {},
   "outputs": [],
   "source": [
    "#The output is not as expected wheen we compare this dataframe with the dictioanry form output in the code block above. Let's fix this.\n",
    "\n",
    "#saving the data in a json file\n",
    "file_name = f'bitcoin_history_{today}.json'\n",
    "\n",
    "with open(file_name, 'w') as f:\n",
    "    json.dump(coin, f)"
   ]
  },
  {
   "cell_type": "code",
   "execution_count": 83,
   "id": "3ffa9c6d-b482-42ce-b0c8-3c4ab07d2e43",
   "metadata": {},
   "outputs": [
    {
     "data": {
      "text/plain": [
       "dict_keys(['id', 'symbol', 'name', 'localization', 'image', 'market_data', 'community_data', 'developer_data', 'public_interest_stats'])"
      ]
     },
     "execution_count": 83,
     "metadata": {},
     "output_type": "execute_result"
    }
   ],
   "source": [
    "coin.keys()"
   ]
  },
  {
   "cell_type": "code",
   "execution_count": 84,
   "id": "d1270900-9ad3-4765-ab33-d5d3bd9845da",
   "metadata": {},
   "outputs": [],
   "source": [
    "market_data = coin[\"market_data\"]"
   ]
  },
  {
   "cell_type": "code",
   "execution_count": 86,
   "id": "ec913785-d6f2-444f-801a-7a3a453ff73c",
   "metadata": {},
   "outputs": [],
   "source": [
    "df = pd.DataFrame(market_data)"
   ]
  },
  {
   "cell_type": "code",
   "execution_count": 87,
   "id": "5b10184e-d921-4621-90d1-1604b814e664",
   "metadata": {},
   "outputs": [
    {
     "data": {
      "text/html": [
       "<div>\n",
       "<style scoped>\n",
       "    .dataframe tbody tr th:only-of-type {\n",
       "        vertical-align: middle;\n",
       "    }\n",
       "\n",
       "    .dataframe tbody tr th {\n",
       "        vertical-align: top;\n",
       "    }\n",
       "\n",
       "    .dataframe thead th {\n",
       "        text-align: right;\n",
       "    }\n",
       "</style>\n",
       "<table border=\"1\" class=\"dataframe\">\n",
       "  <thead>\n",
       "    <tr style=\"text-align: right;\">\n",
       "      <th></th>\n",
       "      <th>current_price</th>\n",
       "      <th>market_cap</th>\n",
       "      <th>total_volume</th>\n",
       "    </tr>\n",
       "  </thead>\n",
       "  <tbody>\n",
       "    <tr>\n",
       "      <th>aed</th>\n",
       "      <td>3.826748e+05</td>\n",
       "      <td>7.600848e+12</td>\n",
       "      <td>1.243747e+11</td>\n",
       "    </tr>\n",
       "    <tr>\n",
       "      <th>ars</th>\n",
       "      <td>1.172070e+08</td>\n",
       "      <td>2.327963e+15</td>\n",
       "      <td>3.809394e+13</td>\n",
       "    </tr>\n",
       "    <tr>\n",
       "      <th>aud</th>\n",
       "      <td>1.609027e+05</td>\n",
       "      <td>3.195893e+12</td>\n",
       "      <td>5.229566e+10</td>\n",
       "    </tr>\n",
       "    <tr>\n",
       "      <th>bch</th>\n",
       "      <td>2.535962e+02</td>\n",
       "      <td>5.036332e+09</td>\n",
       "      <td>8.242235e+07</td>\n",
       "    </tr>\n",
       "    <tr>\n",
       "      <th>bdt</th>\n",
       "      <td>1.263400e+07</td>\n",
       "      <td>2.509418e+14</td>\n",
       "      <td>4.106228e+12</td>\n",
       "    </tr>\n",
       "  </tbody>\n",
       "</table>\n",
       "</div>"
      ],
      "text/plain": [
       "     current_price    market_cap  total_volume\n",
       "aed   3.826748e+05  7.600848e+12  1.243747e+11\n",
       "ars   1.172070e+08  2.327963e+15  3.809394e+13\n",
       "aud   1.609027e+05  3.195893e+12  5.229566e+10\n",
       "bch   2.535962e+02  5.036332e+09  8.242235e+07\n",
       "bdt   1.263400e+07  2.509418e+14  4.106228e+12"
      ]
     },
     "execution_count": 87,
     "metadata": {},
     "output_type": "execute_result"
    }
   ],
   "source": [
    "df.head()"
   ]
  },
  {
   "cell_type": "code",
   "execution_count": 88,
   "id": "fa9c0f34-52cc-48c5-8b1b-8d862f6135aa",
   "metadata": {},
   "outputs": [
    {
     "data": {
      "text/html": [
       "<div>\n",
       "<style scoped>\n",
       "    .dataframe tbody tr th:only-of-type {\n",
       "        vertical-align: middle;\n",
       "    }\n",
       "\n",
       "    .dataframe tbody tr th {\n",
       "        vertical-align: top;\n",
       "    }\n",
       "\n",
       "    .dataframe thead th {\n",
       "        text-align: right;\n",
       "    }\n",
       "</style>\n",
       "<table border=\"1\" class=\"dataframe\">\n",
       "  <thead>\n",
       "    <tr style=\"text-align: right;\">\n",
       "      <th></th>\n",
       "      <th>index</th>\n",
       "      <th>current_price</th>\n",
       "      <th>market_cap</th>\n",
       "      <th>total_volume</th>\n",
       "    </tr>\n",
       "  </thead>\n",
       "  <tbody>\n",
       "    <tr>\n",
       "      <th>0</th>\n",
       "      <td>aed</td>\n",
       "      <td>3.826748e+05</td>\n",
       "      <td>7.600848e+12</td>\n",
       "      <td>1.243747e+11</td>\n",
       "    </tr>\n",
       "    <tr>\n",
       "      <th>1</th>\n",
       "      <td>ars</td>\n",
       "      <td>1.172070e+08</td>\n",
       "      <td>2.327963e+15</td>\n",
       "      <td>3.809394e+13</td>\n",
       "    </tr>\n",
       "    <tr>\n",
       "      <th>2</th>\n",
       "      <td>aud</td>\n",
       "      <td>1.609027e+05</td>\n",
       "      <td>3.195893e+12</td>\n",
       "      <td>5.229566e+10</td>\n",
       "    </tr>\n",
       "    <tr>\n",
       "      <th>3</th>\n",
       "      <td>bch</td>\n",
       "      <td>2.535962e+02</td>\n",
       "      <td>5.036332e+09</td>\n",
       "      <td>8.242235e+07</td>\n",
       "    </tr>\n",
       "    <tr>\n",
       "      <th>4</th>\n",
       "      <td>bdt</td>\n",
       "      <td>1.263400e+07</td>\n",
       "      <td>2.509418e+14</td>\n",
       "      <td>4.106228e+12</td>\n",
       "    </tr>\n",
       "  </tbody>\n",
       "</table>\n",
       "</div>"
      ],
      "text/plain": [
       "  index  current_price    market_cap  total_volume\n",
       "0   aed   3.826748e+05  7.600848e+12  1.243747e+11\n",
       "1   ars   1.172070e+08  2.327963e+15  3.809394e+13\n",
       "2   aud   1.609027e+05  3.195893e+12  5.229566e+10\n",
       "3   bch   2.535962e+02  5.036332e+09  8.242235e+07\n",
       "4   bdt   1.263400e+07  2.509418e+14  4.106228e+12"
      ]
     },
     "execution_count": 88,
     "metadata": {},
     "output_type": "execute_result"
    }
   ],
   "source": [
    "#to change the indexing of the data\n",
    "\n",
    "df = df.reset_index()\n",
    "df.head()"
   ]
  },
  {
   "cell_type": "code",
   "execution_count": 89,
   "id": "c626a570-e06b-442f-b425-129e78988962",
   "metadata": {},
   "outputs": [
    {
     "data": {
      "text/html": [
       "<div>\n",
       "<style scoped>\n",
       "    .dataframe tbody tr th:only-of-type {\n",
       "        vertical-align: middle;\n",
       "    }\n",
       "\n",
       "    .dataframe tbody tr th {\n",
       "        vertical-align: top;\n",
       "    }\n",
       "\n",
       "    .dataframe thead th {\n",
       "        text-align: right;\n",
       "    }\n",
       "</style>\n",
       "<table border=\"1\" class=\"dataframe\">\n",
       "  <thead>\n",
       "    <tr style=\"text-align: right;\">\n",
       "      <th></th>\n",
       "      <th>symbol</th>\n",
       "      <th>current_price</th>\n",
       "      <th>market_cap</th>\n",
       "      <th>total_volume</th>\n",
       "    </tr>\n",
       "  </thead>\n",
       "  <tbody>\n",
       "    <tr>\n",
       "      <th>0</th>\n",
       "      <td>aed</td>\n",
       "      <td>3.826748e+05</td>\n",
       "      <td>7.600848e+12</td>\n",
       "      <td>1.243747e+11</td>\n",
       "    </tr>\n",
       "    <tr>\n",
       "      <th>1</th>\n",
       "      <td>ars</td>\n",
       "      <td>1.172070e+08</td>\n",
       "      <td>2.327963e+15</td>\n",
       "      <td>3.809394e+13</td>\n",
       "    </tr>\n",
       "    <tr>\n",
       "      <th>2</th>\n",
       "      <td>aud</td>\n",
       "      <td>1.609027e+05</td>\n",
       "      <td>3.195893e+12</td>\n",
       "      <td>5.229566e+10</td>\n",
       "    </tr>\n",
       "    <tr>\n",
       "      <th>3</th>\n",
       "      <td>bch</td>\n",
       "      <td>2.535962e+02</td>\n",
       "      <td>5.036332e+09</td>\n",
       "      <td>8.242235e+07</td>\n",
       "    </tr>\n",
       "    <tr>\n",
       "      <th>4</th>\n",
       "      <td>bdt</td>\n",
       "      <td>1.263400e+07</td>\n",
       "      <td>2.509418e+14</td>\n",
       "      <td>4.106228e+12</td>\n",
       "    </tr>\n",
       "  </tbody>\n",
       "</table>\n",
       "</div>"
      ],
      "text/plain": [
       "  symbol  current_price    market_cap  total_volume\n",
       "0    aed   3.826748e+05  7.600848e+12  1.243747e+11\n",
       "1    ars   1.172070e+08  2.327963e+15  3.809394e+13\n",
       "2    aud   1.609027e+05  3.195893e+12  5.229566e+10\n",
       "3    bch   2.535962e+02  5.036332e+09  8.242235e+07\n",
       "4    bdt   1.263400e+07  2.509418e+14  4.106228e+12"
      ]
     },
     "execution_count": 89,
     "metadata": {},
     "output_type": "execute_result"
    }
   ],
   "source": [
    "#renaming the index column\n",
    "df = df.rename(columns={'index': 'symbol'})\n",
    "df.head()"
   ]
  },
  {
   "cell_type": "markdown",
   "id": "0b9fbded-d2db-48af-960e-43460331f7de",
   "metadata": {},
   "source": [
    "Endpoint coins/{id}/market_chart\n",
    "Gets historical market data including price, market cap, and 24hour volume(granularity auto)\n",
    "\n",
    "Data granularity is automatic (and cannot be adjusted)\n",
    "1 day from current time = 5 minute interval data\n",
    "1-90 days from current time = hourly data\n",
    "Above 90 days from current time = dail data (00:00 UTC)\n",
    "\n",
    "[ ]\n"
   ]
  },
  {
   "cell_type": "code",
   "execution_count": 90,
   "id": "d322cec5-fd71-4a12-9596-0c31dc225146",
   "metadata": {},
   "outputs": [
    {
     "data": {
      "text/plain": [
       "200"
      ]
     },
     "execution_count": 90,
     "metadata": {},
     "output_type": "execute_result"
    }
   ],
   "source": [
    "import requests\n",
    "\n",
    "uid = 'bitcoin'\n",
    "\n",
    "root_url = 'https://api.coingecko.com/api/v3'\n",
    "endpoint = f'/coins/{uid}/market_chart'\n",
    "parameters = {'vs_currency': 'usd', 'days': '1'}\n",
    "\n",
    "response = requests.get(root_url+endpoint, params =parameters)\n",
    "response.status_code"
   ]
  },
  {
   "cell_type": "code",
   "execution_count": 91,
   "id": "60601c2c-7f5f-4cd4-baa3-ed0844e5f59b",
   "metadata": {},
   "outputs": [
    {
     "data": {
      "text/plain": [
       "{'prices': [[1747149383569, 103489.80402012373],\n",
       "  [1747149655001, 103576.04183850522],\n",
       "  [1747149988534, 103599.06732275485],\n",
       "  [1747150244350, 103661.3024307318],\n",
       "  [1747150549269, 103614.10773058854],\n",
       "  [1747150849118, 103660.82321614298],\n",
       "  [1747151147164, 103634.98779228391],\n",
       "  [1747151555518, 103573.22741164168],\n",
       "  [1747151738642, 103587.60919578708],\n",
       "  [1747152104610, 103635.82838474064],\n",
       "  [1747152354703, 103602.17096565048],\n",
       "  [1747152692679, 103718.51533438434],\n",
       "  [1747152944496, 103919.2935672897],\n",
       "  [1747153322994, 104072.25951945153],\n",
       "  [1747153521547, 104098.52915205178],\n",
       "  [1747153918804, 104108.35439546403],\n",
       "  [1747154157985, 104147.24972711594],\n",
       "  [1747154454711, 104131.18307692946],\n",
       "  [1747154735223, 104085.59530339281],\n",
       "  [1747155012456, 104014.6179628177],\n",
       "  [1747155357742, 103940.60851820957],\n",
       "  [1747155693101, 103860.8913290485],\n",
       "  [1747155963184, 103882.08328357531],\n",
       "  [1747156339501, 103889.29876381089],\n",
       "  [1747156537828, 103904.0961768913],\n",
       "  [1747156863744, 103891.34103222503],\n",
       "  [1747157124326, 103911.11997573548],\n",
       "  [1747157478175, 103901.07771041057],\n",
       "  [1747157722486, 103888.23247637352],\n",
       "  [1747158053409, 103898.01110818092],\n",
       "  [1747158353709, 103993.89543710068],\n",
       "  [1747158652379, 104092.30739318371],\n",
       "  [1747159015167, 104134.67969743923],\n",
       "  [1747159226008, 104193.24996458978],\n",
       "  [1747159544996, 104234.1211307841],\n",
       "  [1747159878818, 104294.7570616645],\n",
       "  [1747160190450, 104366.39508388782],\n",
       "  [1747160429215, 104349.7042498955],\n",
       "  [1747160763649, 104359.53375533188],\n",
       "  [1747161090829, 104375.53364227401],\n",
       "  [1747161349790, 104343.82339431187],\n",
       "  [1747161704285, 104281.13929050445],\n",
       "  [1747161960965, 104260.10852428908],\n",
       "  [1747162304643, 104263.93899359096],\n",
       "  [1747162558073, 104300.18887060284],\n",
       "  [1747162862998, 104303.9664067448],\n",
       "  [1747163186548, 104294.50214659558],\n",
       "  [1747163434116, 104259.8343040024],\n",
       "  [1747163723540, 104282.20592724434],\n",
       "  [1747164106218, 104295.188605192],\n",
       "  [1747164375387, 104304.72585156253],\n",
       "  [1747164738192, 104442.03360557552],\n",
       "  [1747164936883, 104490.08828998933],\n",
       "  [1747165261572, 104552.08793761578],\n",
       "  [1747165536678, 104611.46994291304],\n",
       "  [1747165895248, 104836.23655489563],\n",
       "  [1747166150962, 104749.87357798622],\n",
       "  [1747166453718, 104778.26218485396],\n",
       "  [1747166802447, 104748.21111324744],\n",
       "  [1747167078754, 104683.97137781754],\n",
       "  [1747167375931, 104689.9005836081],\n",
       "  [1747167623837, 104646.196812168],\n",
       "  [1747167931090, 104617.0359565332],\n",
       "  [1747168367352, 104603.76149916499],\n",
       "  [1747168555505, 104639.04383591081],\n",
       "  [1747168823135, 104597.47101982226],\n",
       "  [1747169126792, 104550.69839877197],\n",
       "  [1747169475393, 104598.65287053704],\n",
       "  [1747169746964, 104595.44088503523],\n",
       "  [1747170332992, 104577.54310751968],\n",
       "  [1747170452797, 104556.01675791084],\n",
       "  [1747170623002, 104517.26341638836],\n",
       "  [1747170952850, 104453.51403832245],\n",
       "  [1747171279259, 104463.89719888815],\n",
       "  [1747171547796, 104422.59304404818],\n",
       "  [1747171937260, 104480.61209099322],\n",
       "  [1747172191453, 104529.25656199995],\n",
       "  [1747172463110, 104501.67308602347],\n",
       "  [1747172734482, 104443.00793705236],\n",
       "  [1747173098124, 104416.9118797506],\n",
       "  [1747173384572, 104423.80487914452],\n",
       "  [1747173714873, 104382.77835628152],\n",
       "  [1747173965283, 104328.02983968919],\n",
       "  [1747174303052, 104274.65477224508],\n",
       "  [1747174562409, 104279.43281557491],\n",
       "  [1747174890613, 104261.55501766491],\n",
       "  [1747175134556, 104248.39743104915],\n",
       "  [1747175485057, 104212.12127318264],\n",
       "  [1747175758536, 104199.1817990157],\n",
       "  [1747176035005, 104258.40226392228],\n",
       "  [1747176352353, 104266.68706703445],\n",
       "  [1747176644872, 104237.15524141474],\n",
       "  [1747176986342, 104235.96595683586],\n",
       "  [1747177654651, 104150.98193005985],\n",
       "  [1747177876410, 104117.6412926541],\n",
       "  [1747178124901, 104121.69871904801],\n",
       "  [1747178461855, 104136.00549980634],\n",
       "  [1747178786132, 104123.01489228252],\n",
       "  [1747179102923, 104078.38248286943],\n",
       "  [1747179337105, 104080.0916742867],\n",
       "  [1747179722707, 104113.12475482623],\n",
       "  [1747179985082, 104132.40312082027],\n",
       "  [1747180302969, 104174.53406273626],\n",
       "  [1747180532511, 104184.49039270742],\n",
       "  [1747181315341, 104068.676689409],\n",
       "  [1747181456784, 104048.22679514563],\n",
       "  [1747181757233, 104023.95842329547],\n",
       "  [1747182046218, 104028.71899343342],\n",
       "  [1747182362165, 104003.93555805445],\n",
       "  [1747182692980, 103969.11984094635],\n",
       "  [1747182998453, 103984.43877108415],\n",
       "  [1747183310668, 103965.1849503086],\n",
       "  [1747183565593, 103940.31805946933],\n",
       "  [1747183893632, 103915.92930233045],\n",
       "  [1747184127554, 103917.7359966492],\n",
       "  [1747184761698, 103933.08045885488],\n",
       "  [1747185046394, 103973.0145530784],\n",
       "  [1747185396028, 104004.3312994662],\n",
       "  [1747185624577, 103998.89968505906],\n",
       "  [1747186002502, 103973.59130493048],\n",
       "  [1747186264105, 103932.04816825561],\n",
       "  [1747186554221, 103969.07730320166],\n",
       "  [1747186888165, 103968.99796493619],\n",
       "  [1747187196523, 103982.44043563565],\n",
       "  [1747187435355, 103959.5902121218],\n",
       "  [1747187743389, 103880.00670984211],\n",
       "  [1747188077230, 103858.60396107004],\n",
       "  [1747188383586, 103792.16610230919],\n",
       "  [1747188644826, 103689.90010930138],\n",
       "  [1747188961613, 103655.20259429429],\n",
       "  [1747189286719, 103681.55648780047],\n",
       "  [1747189564279, 103678.49789543274],\n",
       "  [1747189855414, 103635.25895275378],\n",
       "  [1747190162779, 103634.63274740521],\n",
       "  [1747190538534, 103671.55689894316],\n",
       "  [1747190725641, 103683.42780638153],\n",
       "  [1747191062469, 103677.89104169083],\n",
       "  [1747191374663, 103662.04175393449],\n",
       "  [1747191775359, 103700.05269875677],\n",
       "  [1747191941992, 103695.6485230419],\n",
       "  [1747192300066, 103675.56259769977],\n",
       "  [1747192537175, 103654.64707281718],\n",
       "  [1747192865185, 103604.99198931782],\n",
       "  [1747193189979, 103573.7737716779],\n",
       "  [1747193494949, 103566.62848130293],\n",
       "  [1747193775176, 103535.5310235818],\n",
       "  [1747194103606, 103528.2245373913],\n",
       "  [1747194328398, 103558.51650817398],\n",
       "  [1747194635093, 103560.65001473174],\n",
       "  [1747194992812, 103551.07667656832],\n",
       "  [1747195317746, 103561.277143834],\n",
       "  [1747195534697, 103556.45885636128],\n",
       "  [1747195843576, 103532.82686054526],\n",
       "  [1747196174220, 103536.33397664368],\n",
       "  [1747196433098, 103538.08094371496],\n",
       "  [1747196762460, 103571.46984061817],\n",
       "  [1747197076822, 103592.79595761985],\n",
       "  [1747197347402, 103587.89502910785],\n",
       "  [1747197688026, 103641.67990736401],\n",
       "  [1747197923883, 103679.05634326537],\n",
       "  [1747198284766, 103690.47365959719],\n",
       "  [1747198532319, 103695.45964720579],\n",
       "  [1747198845440, 103700.90096775675],\n",
       "  [1747199190912, 103730.19389628399],\n",
       "  [1747199505970, 103715.36407114138],\n",
       "  [1747199731883, 103740.24418991132],\n",
       "  [1747200025336, 103763.5515806018],\n",
       "  [1747200375173, 103773.80463105997],\n",
       "  [1747200708410, 103759.14981698563],\n",
       "  [1747201191359, 103761.17199981728],\n",
       "  [1747201762801, 103805.12132035315],\n",
       "  [1747202076832, 103850.52538248377],\n",
       "  [1747202200566, 103873.7375912812],\n",
       "  [1747202455175, 103878.53354621866],\n",
       "  [1747202787408, 103893.55329074585],\n",
       "  [1747203046854, 103868.75491460724],\n",
       "  [1747203404396, 103862.40895137214],\n",
       "  [1747203663380, 103844.82425914763],\n",
       "  [1747204007361, 103780.58500920219],\n",
       "  [1747204274919, 103783.21996515455],\n",
       "  [1747204533101, 103751.86196422207],\n",
       "  [1747204867540, 103734.195087273],\n",
       "  [1747205194299, 103730.01300788288],\n",
       "  [1747205440402, 103726.1282415881],\n",
       "  [1747205762776, 103750.13889113342],\n",
       "  [1747206062280, 103752.54320754271],\n",
       "  [1747206342422, 103717.46530373387],\n",
       "  [1747206639595, 103702.56094530778],\n",
       "  [1747206928985, 103694.52407705384],\n",
       "  [1747207274290, 103656.07788128298],\n",
       "  [1747207539264, 103581.97946201955],\n",
       "  [1747207871940, 103555.11698390018],\n",
       "  [1747208143701, 103541.08215295507],\n",
       "  [1747208435235, 103540.81027682377],\n",
       "  [1747208752152, 103563.21441941736],\n",
       "  [1747209084792, 103600.91808588376],\n",
       "  [1747209362065, 103637.23675803398],\n",
       "  [1747209635454, 103663.5497768388],\n",
       "  [1747209961603, 103651.43843557718],\n",
       "  [1747210258427, 103632.568645758],\n",
       "  [1747210533540, 103594.41820931685],\n",
       "  [1747210873182, 103597.00787041965],\n",
       "  [1747211184881, 103622.2124558549],\n",
       "  [1747211492309, 103619.51021808259],\n",
       "  [1747211742711, 103574.2851416611],\n",
       "  [1747212064444, 103599.29566821852],\n",
       "  [1747212340016, 103629.31209234936],\n",
       "  [1747212685074, 103608.43174990144],\n",
       "  [1747213006088, 103565.7526164244],\n",
       "  [1747213300835, 103468.82472880279],\n",
       "  [1747213525874, 103366.18229235474],\n",
       "  [1747213839746, 103206.8464606783],\n",
       "  [1747214146265, 103165.94013364844],\n",
       "  [1747214444432, 103176.91879494778],\n",
       "  [1747214770007, 103194.80058709152],\n",
       "  [1747215027612, 103219.06619537398],\n",
       "  [1747215350463, 103241.38213656489],\n",
       "  [1747215647464, 103218.65461728112],\n",
       "  [1747215993889, 103233.67823922084],\n",
       "  [1747216244848, 103274.70638241022],\n",
       "  [1747216582473, 103293.13171967196],\n",
       "  [1747217121339, 103404.47656291013],\n",
       "  [1747217511220, 103505.70642764526],\n",
       "  [1747217754940, 103525.69237614369],\n",
       "  [1747218113431, 103565.12116856882],\n",
       "  [1747218329468, 103624.32073475356],\n",
       "  [1747218651555, 103690.42695326009],\n",
       "  [1747218939391, 103725.53028147348],\n",
       "  [1747219223585, 103725.00872439156],\n",
       "  [1747219574615, 103773.16749329692],\n",
       "  [1747219895975, 103762.1097102834],\n",
       "  [1747220166620, 103741.8905595315],\n",
       "  [1747220509933, 103746.51631775557],\n",
       "  [1747220727148, 103800.96614298347],\n",
       "  [1747221069216, 103822.61954693816],\n",
       "  [1747221317508, 103845.2590923517],\n",
       "  [1747221671427, 103877.35890523193],\n",
       "  [1747222000748, 103916.66752292823],\n",
       "  [1747222242646, 103924.41230482188],\n",
       "  [1747222575836, 103930.15285685519],\n",
       "  [1747222824032, 103957.21882509746],\n",
       "  [1747223189705, 103999.46871230418],\n",
       "  [1747223420075, 103988.87997999109],\n",
       "  [1747223750524, 103975.65513221931],\n",
       "  [1747224172075, 103935.5722480985],\n",
       "  [1747224471820, 103975.28155532911],\n",
       "  [1747224633225, 103993.91776915385],\n",
       "  [1747224937286, 104018.07770346045],\n",
       "  [1747225235828, 104072.06365492876],\n",
       "  [1747225558780, 104105.4802029313],\n",
       "  [1747225887198, 104071.59471231978],\n",
       "  [1747226137136, 104073.86962031202],\n",
       "  [1747226485803, 104045.0984598923],\n",
       "  [1747226726591, 104088.41515984265],\n",
       "  [1747227059657, 104109.65448861716],\n",
       "  [1747227330186, 104129.23681507706],\n",
       "  [1747227965741, 104015.87143284468],\n",
       "  [1747228399727, 104014.82438871585],\n",
       "  [1747228607245, 104032.4682475781],\n",
       "  [1747228835674, 104018.17810922531],\n",
       "  [1747229188901, 104062.46159997914],\n",
       "  [1747229511097, 104068.10903798189],\n",
       "  [1747229758148, 104144.50726011836],\n",
       "  [1747230105538, 104156.30634687927],\n",
       "  [1747230381419, 104034.69221838425],\n",
       "  [1747230813908, 103934.44566527665],\n",
       "  [1747231031009, 103934.07278848825],\n",
       "  [1747231289497, 103949.55688600815],\n",
       "  [1747231745012, 103840.17819889382],\n",
       "  [1747231848052, 103834.00107422698],\n",
       "  [1747232208779, 103627.87884767189],\n",
       "  [1747232549804, 103517.1186734255],\n",
       "  [1747232872070, 103453.18979102418],\n",
       "  [1747233388028, 103259.23501606093],\n",
       "  [1747234293356, 103256.86831481717],\n",
       "  [1747234533857, 103330.12430858755],\n",
       "  [1747234860123, 103302.66941515023],\n",
       "  [1747235193067, 103248.37661562298],\n",
       "  [1747235591000, 103219.17734288675]],\n",
       " 'market_caps': [[1747149383569, 2052650667289.1338],\n",
       "  [1747149655001, 2056256249607.4531],\n",
       "  [1747149988534, 2057797676437.0977],\n",
       "  [1747150244350, 2059277790041.3035],\n",
       "  [1747150549269, 2059083065192.4585],\n",
       "  [1747150849118, 2058596956783.574],\n",
       "  [1747151147164, 2058765440495.3567],\n",
       "  [1747151555518, 2057560708171.9382],\n",
       "  [1747151738642, 2057560708171.9382],\n",
       "  [1747152104610, 2057680477386.3855],\n",
       "  [1747152354703, 2058491871546.8833],\n",
       "  [1747152692679, 2058807612786.3555],\n",
       "  [1747152944496, 2060470918285.922],\n",
       "  [1747153322994, 2067401597060.7021],\n",
       "  [1747153521547, 2067896590091.352],\n",
       "  [1747153918804, 2068052420387.3564],\n",
       "  [1747154157985, 2068807377532.8394],\n",
       "  [1747154454711, 2068342697645.7673],\n",
       "  [1747154735223, 2067582151614.1003],\n",
       "  [1747155012456, 2066235246383.1597],\n",
       "  [1747155357742, 2064912867089.7788],\n",
       "  [1747155693101, 2063609259062.4329],\n",
       "  [1747155963184, 2063509252080.531],\n",
       "  [1747156339501, 2063581164649.929],\n",
       "  [1747156537828, 2063581164649.929],\n",
       "  [1747156863744, 2063679981504.1843],\n",
       "  [1747157124326, 2063679981504.1843],\n",
       "  [1747157478175, 2063955722422.9932],\n",
       "  [1747157722486, 2063860911163.5857],\n",
       "  [1747158053409, 2063252515847.4346],\n",
       "  [1747158353709, 2064220280948.674],\n",
       "  [1747158652379, 2067704384661.6877],\n",
       "  [1747159015167, 2068433182620.1646],\n",
       "  [1747159226008, 2069707754560.2139],\n",
       "  [1747159544996, 2069707754560.2139],\n",
       "  [1747159878818, 2069707754560.2139],\n",
       "  [1747160190450, 2073022016950.844],\n",
       "  [1747160429215, 2072918305071.2698],\n",
       "  [1747160763649, 2072948431007.89],\n",
       "  [1747161090829, 2073249085338.1726],\n",
       "  [1747161349790, 2073132543575.983],\n",
       "  [1747161704285, 2072134824316.003],\n",
       "  [1747161960965, 2071359370308.0708],\n",
       "  [1747162304643, 2071036063590.254],\n",
       "  [1747162558073, 2071848572979.2932],\n",
       "  [1747162862998, 2071883093670.2334],\n",
       "  [1747163186548, 2072074310560.7031],\n",
       "  [1747163434116, 2071552072360.4941],\n",
       "  [1747163723540, 2071305481873.2454],\n",
       "  [1747164106218, 2071270521239.9941],\n",
       "  [1747164375387, 2071816026941.864],\n",
       "  [1747164738192, 2073224155386.855],\n",
       "  [1747164936883, 2075035330313.3665],\n",
       "  [1747165261572, 2077052910853.8535],\n",
       "  [1747165536678, 2077228824955.9724],\n",
       "  [1747165895248, 2081243270510.604],\n",
       "  [1747166150962, 2081377103077.296],\n",
       "  [1747166453718, 2080432018797.7026],\n",
       "  [1747166802447, 2081529886313.641],\n",
       "  [1747167078754, 2080261261188.9272],\n",
       "  [1747167375931, 2079716040693.0117],\n",
       "  [1747167623837, 2078881129550.47],\n",
       "  [1747167931090, 2078397461720.4263],\n",
       "  [1747168367352, 2077638542769.0518],\n",
       "  [1747168555505, 2078141662751.966],\n",
       "  [1747168823135, 2077627151660.9714],\n",
       "  [1747169126792, 2077342943617.9814],\n",
       "  [1747169475393, 2076750394713.0657],\n",
       "  [1747169746964, 2077566522503.4956],\n",
       "  [1747170332992, 2077827454116.6233],\n",
       "  [1747170452797, 2077827454116.6233],\n",
       "  [1747170623002, 2076825165599.6445],\n",
       "  [1747170952850, 2075424153907.362],\n",
       "  [1747171279259, 2075193321024.643],\n",
       "  [1747171547796, 2074891878158.5898],\n",
       "  [1747171937260, 2074853147788.1086],\n",
       "  [1747172191453, 2075868726732.5854],\n",
       "  [1747172463110, 2076338242698.3918],\n",
       "  [1747172734482, 2075461395165.819],\n",
       "  [1747173098124, 2073921729957.8872],\n",
       "  [1747173384572, 2074258858644.4048],\n",
       "  [1747173714873, 2073904304240.6648],\n",
       "  [1747173965283, 2073330115888.642],\n",
       "  [1747174303052, 2071806799384.548],\n",
       "  [1747174562409, 2071720096997.4402],\n",
       "  [1747174890613, 2071409747576.112],\n",
       "  [1747175134556, 2071056766720.3376],\n",
       "  [1747175485057, 2070099781728.802],\n",
       "  [1747175758536, 2069879909380.339],\n",
       "  [1747176035005, 2070404079654.6035],\n",
       "  [1747176352353, 2071250694294.29],\n",
       "  [1747176644872, 2070935996824.6936],\n",
       "  [1747176986342, 2070992700150.078],\n",
       "  [1747177654651, 2069567976113.8613],\n",
       "  [1747177876410, 2068231661932.9683],\n",
       "  [1747178124901, 2068254785485.9863],\n",
       "  [1747178461855, 2068424676218.8826],\n",
       "  [1747178786132, 2068380996497.7559],\n",
       "  [1747179102923, 2067488371071.1165],\n",
       "  [1747179337105, 2067488371071.1165],\n",
       "  [1747179722707, 2067877328762.6133],\n",
       "  [1747179985082, 2068347263025.3127],\n",
       "  [1747180302969, 2068805501138.1768],\n",
       "  [1747180532511, 2069356072124.024],\n",
       "  [1747181315341, 2067527214968.4673],\n",
       "  [1747181456784, 2067527214968.4673],\n",
       "  [1747181757233, 2067527214968.4673],\n",
       "  [1747182046218, 2065817675135.7883],\n",
       "  [1747182362165, 2066736262642.3801],\n",
       "  [1747182692980, 2065461856869.8445],\n",
       "  [1747182998453, 2064823957924.5955],\n",
       "  [1747183310668, 2065565528690.0254],\n",
       "  [1747183565593, 2064852170058.0417],\n",
       "  [1747183893632, 2064480647501.5737],\n",
       "  [1747184127554, 2064281641270.5454],\n",
       "  [1747184761698, 2064655396821.3848],\n",
       "  [1747185046394, 2064690773609.5469],\n",
       "  [1747185396028, 2065409578054.706],\n",
       "  [1747185624577, 2066035579803.0112],\n",
       "  [1747186002502, 2065415961962.117],\n",
       "  [1747186264105, 2064527887945.483],\n",
       "  [1747186554221, 2065174112979.6443],\n",
       "  [1747186888165, 2065170957188.1104],\n",
       "  [1747187196523, 2065528733199.9521],\n",
       "  [1747187435355, 2065481830549.0059],\n",
       "  [1747187743389, 2063514940207.0479],\n",
       "  [1747188077230, 2063275117870.4255],\n",
       "  [1747188383586, 2062360267336.403],\n",
       "  [1747188644826, 2060992137565.822],\n",
       "  [1747188961613, 2059052539846.5913],\n",
       "  [1747189286719, 2059350640802.9324],\n",
       "  [1747189564279, 2059644984153.1052],\n",
       "  [1747189855414, 2058893072768.786],\n",
       "  [1747190162779, 2058289704865.7334],\n",
       "  [1747190538534, 2058710408614.324],\n",
       "  [1747190725641, 2059400684852.542],\n",
       "  [1747191062469, 2059436696821.3398],\n",
       "  [1747191374663, 2059345780034.1504],\n",
       "  [1747191775359, 2059738437378.8765],\n",
       "  [1747191941992, 2059738437378.8765],\n",
       "  [1747192300066, 2059454671444.0862],\n",
       "  [1747192537175, 2059038514955.2776],\n",
       "  [1747192865185, 2058490687589.6333],\n",
       "  [1747193189979, 2057605636676.3896],\n",
       "  [1747193494949, 2057369667312.0906],\n",
       "  [1747193775176, 2056934690760.0315],\n",
       "  [1747194103606, 2056459287743.059],\n",
       "  [1747194328398, 2056807597462.7185],\n",
       "  [1747194635093, 2057102968355.1726],\n",
       "  [1747194992812, 2056980285648.2527],\n",
       "  [1747195317746, 2057237752126.6929],\n",
       "  [1747195534697, 2057237752126.6929],\n",
       "  [1747195843576, 2057089554364.5166],\n",
       "  [1747196174220, 2056699644730.9363],\n",
       "  [1747196433098, 2056699644730.9363],\n",
       "  [1747196762460, 2056753303439.6567],\n",
       "  [1747197076822, 2057815803162.5303],\n",
       "  [1747197347402, 2057707218866.0354],\n",
       "  [1747197688026, 2058529495583.4717],\n",
       "  [1747197923883, 2058977229924.264],\n",
       "  [1747198284766, 2059783374600.5403],\n",
       "  [1747198532319, 2059766322440.083],\n",
       "  [1747198845440, 2059825679681.2734],\n",
       "  [1747199190912, 2059976088612.9216],\n",
       "  [1747199505970, 2060278719745.4885],\n",
       "  [1747199731883, 2060133503893.7224],\n",
       "  [1747200025336, 2060841921391.3982],\n",
       "  [1747200375173, 2061173571718.7957],\n",
       "  [1747200708410, 2061348301632.6619],\n",
       "  [1747201191359, 2060830273427.6594],\n",
       "  [1747201762801, 2060830273427.6594],\n",
       "  [1747202076832, 2062488523409.6985],\n",
       "  [1747202200566, 2062488523409.6985],\n",
       "  [1747202455175, 2063398315314.0898],\n",
       "  [1747202787408, 2063694023467.6807],\n",
       "  [1747203046854, 2063694023467.6807],\n",
       "  [1747203404396, 2063185053070.2368],\n",
       "  [1747203663380, 2063185053070.2368],\n",
       "  [1747204007361, 2061677926816.6042],\n",
       "  [1747204274919, 2061615277693.257],\n",
       "  [1747204533101, 2061276544666.4443],\n",
       "  [1747204867540, 2060817127139.2114],\n",
       "  [1747205194299, 2060503353660.9585],\n",
       "  [1747205440402, 2060274762849.5647],\n",
       "  [1747205762776, 2060810778905.9092],\n",
       "  [1747206062280, 2060983904105.8445],\n",
       "  [1747206342422, 2060793854103.718],\n",
       "  [1747206639595, 2060024733092.835],\n",
       "  [1747206928985, 2060003825481.9167],\n",
       "  [1747207274290, 2059268700656.6084],\n",
       "  [1747207539264, 2058952864875.989],\n",
       "  [1747207871940, 2056971356173.0723],\n",
       "  [1747208143701, 2056823779129.7114],\n",
       "  [1747208435235, 2056905718401.8887],\n",
       "  [1747208752152, 2056922499361.2715],\n",
       "  [1747209084792, 2058033256617.187],\n",
       "  [1747209362065, 2058567568702.6892],\n",
       "  [1747209635454, 2059039428875.0735],\n",
       "  [1747209961603, 2059484876195.4756],\n",
       "  [1747210258427, 2058688599370.2415],\n",
       "  [1747210533540, 2057781327382.4343],\n",
       "  [1747210873182, 2057617557337.2454],\n",
       "  [1747211184881, 2058399812551.8938],\n",
       "  [1747211492309, 2058360982568.331],\n",
       "  [1747211742711, 2057763390676.3777],\n",
       "  [1747212064444, 2057658896611.2517],\n",
       "  [1747212340016, 2058248877149.8323],\n",
       "  [1747212685074, 2058396465832.8286],\n",
       "  [1747213006088, 2057896196944.3394],\n",
       "  [1747213300835, 2055356054950.0022],\n",
       "  [1747213525874, 2055356054950.0022],\n",
       "  [1747213839746, 2050151988690.7583],\n",
       "  [1747214146265, 2049477343068.0562],\n",
       "  [1747214444432, 2049427903159.4287],\n",
       "  [1747214770007, 2049629071965.9705],\n",
       "  [1747215027612, 2049820075544.3645],\n",
       "  [1747215350463, 2050602333141.7988],\n",
       "  [1747215647464, 2050361117000.7798],\n",
       "  [1747215993889, 2050171358298.0264],\n",
       "  [1747216244848, 2051474645561.3154],\n",
       "  [1747216582473, 2051771777126.6267],\n",
       "  [1747217121339, 2053574974396.933],\n",
       "  [1747217511220, 2056124730266.9106],\n",
       "  [1747217754940, 2056482906429.2212],\n",
       "  [1747218113431, 2057630281922.143],\n",
       "  [1747218329468, 2057788143606.7827],\n",
       "  [1747218651555, 2059107829932.7617],\n",
       "  [1747218939391, 2059837241666.3474],\n",
       "  [1747219223585, 2060703959361.1294],\n",
       "  [1747219574615, 2060922355891.081],\n",
       "  [1747219895975, 2061182013291.4858],\n",
       "  [1747220166620, 2060672732890.2341],\n",
       "  [1747220509933, 2060729257190.2773],\n",
       "  [1747220727148, 2061449117194.352],\n",
       "  [1747221069216, 2062156727978.09],\n",
       "  [1747221317508, 2062384010699.6736],\n",
       "  [1747221671427, 2063482012793.9817],\n",
       "  [1747222000748, 2063742873502.6157],\n",
       "  [1747222242646, 2064287035562.5369],\n",
       "  [1747222575836, 2064456684764.222],\n",
       "  [1747222824032, 2064608740810.2585],\n",
       "  [1747223189705, 2065623413745.2793],\n",
       "  [1747223420075, 2065906231192.3047],\n",
       "  [1747223750524, 2065499817665.6792],\n",
       "  [1747224172075, 2064432500331.128],\n",
       "  [1747224471820, 2064432500331.128],\n",
       "  [1747224633225, 2064432500331.128],\n",
       "  [1747224937286, 2065843942724.0046],\n",
       "  [1747225235828, 2066365971569.8406],\n",
       "  [1747225558780, 2067997411550.881],\n",
       "  [1747225887198, 2067458699646.9902],\n",
       "  [1747226137136, 2067223347186.2278],\n",
       "  [1747226485803, 2067101220833.5078],\n",
       "  [1747226726591, 2067009320349.647],\n",
       "  [1747227059657, 2068097211879.7395],\n",
       "  [1747227330186, 2068692088718.4143],\n",
       "  [1747227965741, 2067123995979.6199],\n",
       "  [1747228399727, 2065727305897.0208],\n",
       "  [1747228607245, 2066503708640.7925],\n",
       "  [1747228835674, 2066503708640.7925],\n",
       "  [1747229188901, 2067167648580.5503],\n",
       "  [1747229511097, 2066930703117.8188],\n",
       "  [1747229758148, 2067496392821.8547],\n",
       "  [1747230105538, 2069044562087.3188],\n",
       "  [1747230381419, 2069044562087.3188],\n",
       "  [1747230813908, 2065566551457.457],\n",
       "  [1747231031009, 2064713125944.7812],\n",
       "  [1747231289497, 2064713125944.7812],\n",
       "  [1747231745012, 2062745309107.4197],\n",
       "  [1747231848052, 2062745309107.4197],\n",
       "  [1747232208779, 2058695677578.1667],\n",
       "  [1747232549804, 2058695677578.1667],\n",
       "  [1747232872070, 2056147805660.4893],\n",
       "  [1747233388028, 2052948288194.2441],\n",
       "  [1747234293356, 2050703318183.1375],\n",
       "  [1747234533857, 2051659285537.504],\n",
       "  [1747234860123, 2052074075099.7195],\n",
       "  [1747235193067, 2051158538993.1033],\n",
       "  [1747235591000, 2050327359358.7112]],\n",
       " 'total_volumes': [[1747149383569, 37521906754.28753],\n",
       "  [1747149655001, 36759587745.33394],\n",
       "  [1747149988534, 36647090180.05723],\n",
       "  [1747150244350, 33272815019.816353],\n",
       "  [1747150549269, 34786148415.61599],\n",
       "  [1747150849118, 36228305840.969345],\n",
       "  [1747151147164, 34806795193.18002],\n",
       "  [1747151555518, 34581158663.52652],\n",
       "  [1747151738642, 36065353286.609436],\n",
       "  [1747152104610, 35876350847.604576],\n",
       "  [1747152354703, 34252740383.69741],\n",
       "  [1747152692679, 34225977381.824112],\n",
       "  [1747152944496, 34427927582.89589],\n",
       "  [1747153322994, 34618145083.38297],\n",
       "  [1747153521547, 36032832839.10166],\n",
       "  [1747153918804, 35999281306.31105],\n",
       "  [1747154157985, 35700441114.153625],\n",
       "  [1747154454711, 35727212455.993324],\n",
       "  [1747154735223, 35747897373.0945],\n",
       "  [1747155012456, 35747110242.67745],\n",
       "  [1747155357742, 35982791973.081665],\n",
       "  [1747155693101, 35718853366.357635],\n",
       "  [1747155963184, 35700887769.22937],\n",
       "  [1747156339501, 35731949072.76741],\n",
       "  [1747156537828, 35724678358.1981],\n",
       "  [1747156863744, 35677311847.95896],\n",
       "  [1747157124326, 35660849959.97902],\n",
       "  [1747157478175, 35712098623.154335],\n",
       "  [1747157722486, 35709220759.61463],\n",
       "  [1747158053409, 35741427792.48311],\n",
       "  [1747158353709, 35864676079.73448],\n",
       "  [1747158652379, 36182642876.63682],\n",
       "  [1747159015167, 36230484246.992775],\n",
       "  [1747159226008, 36027991629.76168],\n",
       "  [1747159544996, 35789039327.7845],\n",
       "  [1747159878818, 35492674532.9549],\n",
       "  [1747160190450, 35258790536.856606],\n",
       "  [1747160429215, 35117241346.596085],\n",
       "  [1747160763649, 34886475179.562195],\n",
       "  [1747161090829, 34680333000.90358],\n",
       "  [1747161349790, 34573371102.96411],\n",
       "  [1747161704285, 34293134781.598953],\n",
       "  [1747161960965, 34031961208.427307],\n",
       "  [1747162304643, 34066929535.934834],\n",
       "  [1747162558073, 33742008306.344204],\n",
       "  [1747162862998, 33210150361.47256],\n",
       "  [1747163186548, 33396751464.246223],\n",
       "  [1747163434116, 32901024251.59502],\n",
       "  [1747163723540, 32738770173.6362],\n",
       "  [1747164106218, 31214402677.864944],\n",
       "  [1747164375387, 32550937294.959324],\n",
       "  [1747164738192, 33117325950.301517],\n",
       "  [1747164936883, 33171224182.347588],\n",
       "  [1747165261572, 33270900494.06491],\n",
       "  [1747165536678, 33327911341.12622],\n",
       "  [1747165895248, 33641993814.703056],\n",
       "  [1747166150962, 33848574795.723972],\n",
       "  [1747166453718, 33806911761.300877],\n",
       "  [1747166802447, 33981375174.9384],\n",
       "  [1747167078754, 34406899758.44418],\n",
       "  [1747167375931, 34316474251.173386],\n",
       "  [1747167623837, 34438281220.70046],\n",
       "  [1747167931090, 34676616885.30926],\n",
       "  [1747168367352, 34382852596.93644],\n",
       "  [1747168555505, 34371517192.93199],\n",
       "  [1747168823135, 32985130904.846058],\n",
       "  [1747169126792, 32909899345.328953],\n",
       "  [1747169475393, 32912393579.426247],\n",
       "  [1747169746964, 32891263313.961887],\n",
       "  [1747170332992, 32572877237.73233],\n",
       "  [1747170452797, 32553214922.35057],\n",
       "  [1747170623002, 32581512924.96154],\n",
       "  [1747170952850, 32591743867.90438],\n",
       "  [1747171279259, 32372924156.831535],\n",
       "  [1747171547796, 32319547811.707348],\n",
       "  [1747171937260, 32396794918.44805],\n",
       "  [1747172191453, 32562832036.339066],\n",
       "  [1747172463110, 32565809354.166588],\n",
       "  [1747172734482, 32562922225.035038],\n",
       "  [1747173098124, 32574282370.682255],\n",
       "  [1747173384572, 32590461313.74792],\n",
       "  [1747173714873, 33797660331.04575],\n",
       "  [1747173965283, 33809729073.727356],\n",
       "  [1747174303052, 33800155598.13375],\n",
       "  [1747174562409, 33809869224.478096],\n",
       "  [1747174890613, 34005857710.96683],\n",
       "  [1747175134556, 34086938823.692383],\n",
       "  [1747175485057, 34122201493.251804],\n",
       "  [1747175758536, 34140060288.27583],\n",
       "  [1747176035005, 34142979646.553253],\n",
       "  [1747176352353, 33847780761.823936],\n",
       "  [1747176644872, 33840098292.66054],\n",
       "  [1747176986342, 33871184306.729725],\n",
       "  [1747177654651, 33979101063.99554],\n",
       "  [1747177876410, 34173436955.58225],\n",
       "  [1747178124901, 34173841044.86442],\n",
       "  [1747178461855, 33917509287.12843],\n",
       "  [1747178786132, 32484204122.08754],\n",
       "  [1747179102923, 32615832064.99606],\n",
       "  [1747179337105, 33873477081.288017],\n",
       "  [1747179722707, 33827269302.948708],\n",
       "  [1747179985082, 33818463600.604614],\n",
       "  [1747180302969, 33826515050.67092],\n",
       "  [1747180532511, 33861432519.50822],\n",
       "  [1747181315341, 34079114317.968536],\n",
       "  [1747181456784, 34288910646.203655],\n",
       "  [1747181757233, 34364352964.57643],\n",
       "  [1747182046218, 34448881485.63476],\n",
       "  [1747182362165, 34462990628.79262],\n",
       "  [1747182692980, 34448024853.89529],\n",
       "  [1747182998453, 34257431542.82707],\n",
       "  [1747183310668, 34361061997.57542],\n",
       "  [1747183565593, 34354718899.566708],\n",
       "  [1747183893632, 34008348355.024235],\n",
       "  [1747184127554, 34301541838.10015],\n",
       "  [1747184761698, 33927419405.769855],\n",
       "  [1747185046394, 33924169183.573975],\n",
       "  [1747185396028, 33972622053.50477],\n",
       "  [1747185624577, 33955044062.490265],\n",
       "  [1747186002502, 33893085398.769135],\n",
       "  [1747186264105, 34195434016.795696],\n",
       "  [1747186554221, 34209689362.28128],\n",
       "  [1747186888165, 34019538413.30959],\n",
       "  [1747187196523, 34142428016.10584],\n",
       "  [1747187435355, 34171487924.268566],\n",
       "  [1747187743389, 34404087440.391685],\n",
       "  [1747188077230, 34502912936.27979],\n",
       "  [1747188383586, 34435167320.9493],\n",
       "  [1747188644826, 34120150520.348576],\n",
       "  [1747188961613, 34112354253.14829],\n",
       "  [1747189286719, 34245407178.392822],\n",
       "  [1747189564279, 34207259138.72178],\n",
       "  [1747189855414, 34198084923.938503],\n",
       "  [1747190162779, 34123747182.206985],\n",
       "  [1747190538534, 34091838374.333256],\n",
       "  [1747190725641, 34071812277.571457],\n",
       "  [1747191062469, 33968271821.693085],\n",
       "  [1747191374663, 34038724570.176586],\n",
       "  [1747191775359, 33847636855.454952],\n",
       "  [1747191941992, 33781644515.495453],\n",
       "  [1747192300066, 33846540922.75189],\n",
       "  [1747192537175, 33773478111.993362],\n",
       "  [1747192865185, 33716132039.069252],\n",
       "  [1747193189979, 33668795261.4112],\n",
       "  [1747193494949, 33425876400.78207],\n",
       "  [1747193775176, 33304278436.565964],\n",
       "  [1747194103606, 32927080126.81486],\n",
       "  [1747194328398, 32894056820.25382],\n",
       "  [1747194635093, 32783747307.08299],\n",
       "  [1747194992812, 32688734454.872704],\n",
       "  [1747195317746, 32669908366.60018],\n",
       "  [1747195534697, 32633522049.057213],\n",
       "  [1747195843576, 32560930564.55997],\n",
       "  [1747196174220, 32448000621.07817],\n",
       "  [1747196433098, 32468232712.516582],\n",
       "  [1747196762460, 32431413550.349133],\n",
       "  [1747197076822, 32592237438.162586],\n",
       "  [1747197347402, 32466894457.99614],\n",
       "  [1747197688026, 32611628827.74364],\n",
       "  [1747197923883, 32550233308.96748],\n",
       "  [1747198284766, 32512266370.339046],\n",
       "  [1747198532319, 32473651052.213173],\n",
       "  [1747198845440, 32421732439.275295],\n",
       "  [1747199190912, 32462535111.06581],\n",
       "  [1747199505970, 32800597718.871056],\n",
       "  [1747199731883, 32333910158.08171],\n",
       "  [1747200025336, 32232647857.950153],\n",
       "  [1747200375173, 31667848996.610603],\n",
       "  [1747200708410, 31614176789.936485],\n",
       "  [1747201191359, 31653686829.13005],\n",
       "  [1747201762801, 31787338295.547604],\n",
       "  [1747202076832, 31845863195.39461],\n",
       "  [1747202200566, 31829714696.412975],\n",
       "  [1747202455175, 31772507843.0242],\n",
       "  [1747202787408, 31748901095.992638],\n",
       "  [1747203046854, 31724325228.54684],\n",
       "  [1747203404396, 31651469653.353294],\n",
       "  [1747203663380, 31420445718.564106],\n",
       "  [1747204007361, 31394863500.491924],\n",
       "  [1747204274919, 31358436295.15635],\n",
       "  [1747204533101, 31328550382.71716],\n",
       "  [1747204867540, 31294367518.550167],\n",
       "  [1747205194299, 31293144553.12315],\n",
       "  [1747205440402, 31277429852.83835],\n",
       "  [1747205762776, 31284769781.521954],\n",
       "  [1747206062280, 31277896325.42691],\n",
       "  [1747206342422, 31330207475.176704],\n",
       "  [1747206639595, 31179989023.38638],\n",
       "  [1747206928985, 31161924726.6075],\n",
       "  [1747207274290, 31360010322.012367],\n",
       "  [1747207539264, 31351668177.161495],\n",
       "  [1747207871940, 31560242933.600075],\n",
       "  [1747208143701, 31810781514.14233],\n",
       "  [1747208435235, 31723162384.64649],\n",
       "  [1747208752152, 31670209140.80603],\n",
       "  [1747209084792, 31648277335.24073],\n",
       "  [1747209362065, 31670167665.699257],\n",
       "  [1747209635454, 31919926791.642162],\n",
       "  [1747209961603, 31861909370.18493],\n",
       "  [1747210258427, 31959851450.244312],\n",
       "  [1747210533540, 31861778950.383217],\n",
       "  [1747210873182, 31793993665.306095],\n",
       "  [1747211184881, 31768625683.234463],\n",
       "  [1747211492309, 31769732620.47576],\n",
       "  [1747211742711, 31930506769.695015],\n",
       "  [1747212064444, 31793371471.593548],\n",
       "  [1747212340016, 32072823317.68119],\n",
       "  [1747212685074, 32047114221.565353],\n",
       "  [1747213006088, 32127438805.41266],\n",
       "  [1747213300835, 32443787599.24216],\n",
       "  [1747213525874, 32610571556.25226],\n",
       "  [1747213839746, 33156598332.549847],\n",
       "  [1747214146265, 33347410735.06363],\n",
       "  [1747214444432, 32858804246.434887],\n",
       "  [1747214770007, 32795909170.723774],\n",
       "  [1747215027612, 32965269161.24678],\n",
       "  [1747215350463, 31877445385.04617],\n",
       "  [1747215647464, 31723128314.26263],\n",
       "  [1747215993889, 31657762425.754066],\n",
       "  [1747216244848, 31817811482.198483],\n",
       "  [1747216582473, 31706865626.6365],\n",
       "  [1747217121339, 32805816921.34787],\n",
       "  [1747217511220, 32916756611.60804],\n",
       "  [1747217754940, 32914248884.960625],\n",
       "  [1747218113431, 32916064873.559254],\n",
       "  [1747218329468, 32913787817.612297],\n",
       "  [1747218651555, 32998132136.779648],\n",
       "  [1747218939391, 32986772391.142548],\n",
       "  [1747219223585, 32987140457.126865],\n",
       "  [1747219574615, 32989597911.310616],\n",
       "  [1747219895975, 32999886091.45848],\n",
       "  [1747220166620, 33029470071.956604],\n",
       "  [1747220509933, 32992730362.615257],\n",
       "  [1747220727148, 33050354376.24302],\n",
       "  [1747221069216, 33095742553.440098],\n",
       "  [1747221317508, 33103694200.972855],\n",
       "  [1747221671427, 31725158180.797947],\n",
       "  [1747222000748, 31583770252.65979],\n",
       "  [1747222242646, 31603778416.821537],\n",
       "  [1747222575836, 31572453059.979237],\n",
       "  [1747222824032, 31612407433.16054],\n",
       "  [1747223189705, 31702539303.148594],\n",
       "  [1747223420075, 31857236164.84559],\n",
       "  [1747223750524, 31851690990.43003],\n",
       "  [1747224172075, 33180450008.954502],\n",
       "  [1747224471820, 31689517288.68001],\n",
       "  [1747224633225, 31668553792.108944],\n",
       "  [1747224937286, 30281687815.42452],\n",
       "  [1747225235828, 31655789733.74092],\n",
       "  [1747225558780, 31632660082.17731],\n",
       "  [1747225887198, 30253366720.47814],\n",
       "  [1747226137136, 30041444884.53742],\n",
       "  [1747226485803, 29882136578.997242],\n",
       "  [1747226726591, 29733159230.15147],\n",
       "  [1747227059657, 29568414143.515427],\n",
       "  [1747227330186, 30744968542.691357],\n",
       "  [1747227965741, 32010630338.54583],\n",
       "  [1747228399727, 32011956872.59962],\n",
       "  [1747228607245, 32036327910.862648],\n",
       "  [1747228835674, 32009103915.975636],\n",
       "  [1747229188901, 30575661347.22421],\n",
       "  [1747229511097, 30285665483.565105],\n",
       "  [1747229758148, 30548435720.484463],\n",
       "  [1747230105538, 30616384494.54621],\n",
       "  [1747230381419, 30748002257.12559],\n",
       "  [1747230813908, 32309786038.036022],\n",
       "  [1747231031009, 32314817381.669292],\n",
       "  [1747231289497, 32427584268.62117],\n",
       "  [1747231745012, 32454919603.17162],\n",
       "  [1747231848052, 32521191788.1776],\n",
       "  [1747232208779, 32854116649.148174],\n",
       "  [1747232549804, 32863125362.442142],\n",
       "  [1747232872070, 33324641907.023483],\n",
       "  [1747233388028, 33456007899.532757],\n",
       "  [1747234293356, 31535282598.716606],\n",
       "  [1747234533857, 31843175057.39348],\n",
       "  [1747234860123, 31513483467.339405],\n",
       "  [1747235193067, 31522368664.0574],\n",
       "  [1747235591000, 31567039338.380016]]}"
      ]
     },
     "execution_count": 91,
     "metadata": {},
     "output_type": "execute_result"
    }
   ],
   "source": [
    "response.json()"
   ]
  },
  {
   "cell_type": "code",
   "execution_count": 92,
   "id": "411d45ce-a544-491e-9ea0-f57e5e533f98",
   "metadata": {},
   "outputs": [
    {
     "data": {
      "text/plain": [
       "dict_keys(['prices', 'market_caps', 'total_volumes'])"
      ]
     },
     "execution_count": 92,
     "metadata": {},
     "output_type": "execute_result"
    }
   ],
   "source": [
    "data = response.json()\n",
    "data.keys()"
   ]
  },
  {
   "cell_type": "code",
   "execution_count": 93,
   "id": "93245763-113c-4513-9677-328a1bb0febb",
   "metadata": {},
   "outputs": [
    {
     "data": {
      "text/plain": [
       "[[1747149383569, 103489.80402012373],\n",
       " [1747149655001, 103576.04183850522],\n",
       " [1747149988534, 103599.06732275485],\n",
       " [1747150244350, 103661.3024307318],\n",
       " [1747150549269, 103614.10773058854]]"
      ]
     },
     "execution_count": 93,
     "metadata": {},
     "output_type": "execute_result"
    }
   ],
   "source": [
    "#retrieves the first 5 prices from the data\n",
    "data['prices'][:5]"
   ]
  },
  {
   "cell_type": "code",
   "execution_count": 94,
   "id": "b30a8b44-5e10-41d0-a0d8-bf87dd73f8f4",
   "metadata": {},
   "outputs": [
    {
     "data": {
      "text/plain": [
       "[[1747149383569, 2052650667289.1338],\n",
       " [1747149655001, 2056256249607.4531],\n",
       " [1747149988534, 2057797676437.0977],\n",
       " [1747150244350, 2059277790041.3035],\n",
       " [1747150549269, 2059083065192.4585]]"
      ]
     },
     "execution_count": 94,
     "metadata": {},
     "output_type": "execute_result"
    }
   ],
   "source": [
    "#retrieves the first 5 market caps\n",
    "data['market_caps'][:5]"
   ]
  },
  {
   "cell_type": "code",
   "execution_count": 95,
   "id": "b6b652e8-931b-498f-bec8-90296da7de63",
   "metadata": {},
   "outputs": [
    {
     "data": {
      "text/html": [
       "<div>\n",
       "<style scoped>\n",
       "    .dataframe tbody tr th:only-of-type {\n",
       "        vertical-align: middle;\n",
       "    }\n",
       "\n",
       "    .dataframe tbody tr th {\n",
       "        vertical-align: top;\n",
       "    }\n",
       "\n",
       "    .dataframe thead th {\n",
       "        text-align: right;\n",
       "    }\n",
       "</style>\n",
       "<table border=\"1\" class=\"dataframe\">\n",
       "  <thead>\n",
       "    <tr style=\"text-align: right;\">\n",
       "      <th></th>\n",
       "      <th>prices</th>\n",
       "      <th>market_caps</th>\n",
       "      <th>total_volumes</th>\n",
       "    </tr>\n",
       "  </thead>\n",
       "  <tbody>\n",
       "    <tr>\n",
       "      <th>0</th>\n",
       "      <td>[1747149383569, 103489.80402012373]</td>\n",
       "      <td>[1747149383569, 2052650667289.1338]</td>\n",
       "      <td>[1747149383569, 37521906754.28753]</td>\n",
       "    </tr>\n",
       "    <tr>\n",
       "      <th>1</th>\n",
       "      <td>[1747149655001, 103576.04183850522]</td>\n",
       "      <td>[1747149655001, 2056256249607.4531]</td>\n",
       "      <td>[1747149655001, 36759587745.33394]</td>\n",
       "    </tr>\n",
       "    <tr>\n",
       "      <th>2</th>\n",
       "      <td>[1747149988534, 103599.06732275485]</td>\n",
       "      <td>[1747149988534, 2057797676437.0977]</td>\n",
       "      <td>[1747149988534, 36647090180.05723]</td>\n",
       "    </tr>\n",
       "    <tr>\n",
       "      <th>3</th>\n",
       "      <td>[1747150244350, 103661.3024307318]</td>\n",
       "      <td>[1747150244350, 2059277790041.3035]</td>\n",
       "      <td>[1747150244350, 33272815019.816353]</td>\n",
       "    </tr>\n",
       "    <tr>\n",
       "      <th>4</th>\n",
       "      <td>[1747150549269, 103614.10773058854]</td>\n",
       "      <td>[1747150549269, 2059083065192.4585]</td>\n",
       "      <td>[1747150549269, 34786148415.61599]</td>\n",
       "    </tr>\n",
       "  </tbody>\n",
       "</table>\n",
       "</div>"
      ],
      "text/plain": [
       "                                prices                          market_caps  \\\n",
       "0  [1747149383569, 103489.80402012373]  [1747149383569, 2052650667289.1338]   \n",
       "1  [1747149655001, 103576.04183850522]  [1747149655001, 2056256249607.4531]   \n",
       "2  [1747149988534, 103599.06732275485]  [1747149988534, 2057797676437.0977]   \n",
       "3   [1747150244350, 103661.3024307318]  [1747150244350, 2059277790041.3035]   \n",
       "4  [1747150549269, 103614.10773058854]  [1747150549269, 2059083065192.4585]   \n",
       "\n",
       "                         total_volumes  \n",
       "0   [1747149383569, 37521906754.28753]  \n",
       "1   [1747149655001, 36759587745.33394]  \n",
       "2   [1747149988534, 36647090180.05723]  \n",
       "3  [1747150244350, 33272815019.816353]  \n",
       "4   [1747150549269, 34786148415.61599]  "
      ]
     },
     "execution_count": 95,
     "metadata": {},
     "output_type": "execute_result"
    }
   ],
   "source": [
    "#creating a dataframe\n",
    "\n",
    "df = pd.DataFrame(data)\n",
    "df.head()"
   ]
  },
  {
   "cell_type": "code",
   "execution_count": 96,
   "id": "cdd91147-d7eb-4f48-8bb2-d7f8837c9419",
   "metadata": {},
   "outputs": [
    {
     "data": {
      "text/plain": [
       "0      1747149383569\n",
       "1      1747149655001\n",
       "2      1747149988534\n",
       "3      1747150244350\n",
       "4      1747150549269\n",
       "           ...      \n",
       "274    1747234293356\n",
       "275    1747234533857\n",
       "276    1747234860123\n",
       "277    1747235193067\n",
       "278    1747235591000\n",
       "Name: prices, Length: 279, dtype: int64"
      ]
     },
     "execution_count": 96,
     "metadata": {},
     "output_type": "execute_result"
    }
   ],
   "source": [
    "#notice that for each of the columns we have a timestamp attached in each list\n",
    "#we need to extract this\n",
    "\n",
    "#to see what it looks like\n",
    "df['prices'].str[0]"
   ]
  },
  {
   "cell_type": "code",
   "execution_count": 97,
   "id": "2e08d1e7-439e-4a25-9924-6ecf892cea99",
   "metadata": {},
   "outputs": [
    {
     "data": {
      "text/html": [
       "<div>\n",
       "<style scoped>\n",
       "    .dataframe tbody tr th:only-of-type {\n",
       "        vertical-align: middle;\n",
       "    }\n",
       "\n",
       "    .dataframe tbody tr th {\n",
       "        vertical-align: top;\n",
       "    }\n",
       "\n",
       "    .dataframe thead th {\n",
       "        text-align: right;\n",
       "    }\n",
       "</style>\n",
       "<table border=\"1\" class=\"dataframe\">\n",
       "  <thead>\n",
       "    <tr style=\"text-align: right;\">\n",
       "      <th></th>\n",
       "      <th>prices</th>\n",
       "      <th>market_caps</th>\n",
       "      <th>total_volumes</th>\n",
       "      <th>timestamp</th>\n",
       "    </tr>\n",
       "  </thead>\n",
       "  <tbody>\n",
       "    <tr>\n",
       "      <th>0</th>\n",
       "      <td>[1747149383569, 103489.80402012373]</td>\n",
       "      <td>[1747149383569, 2052650667289.1338]</td>\n",
       "      <td>[1747149383569, 37521906754.28753]</td>\n",
       "      <td>1747149383569</td>\n",
       "    </tr>\n",
       "    <tr>\n",
       "      <th>1</th>\n",
       "      <td>[1747149655001, 103576.04183850522]</td>\n",
       "      <td>[1747149655001, 2056256249607.4531]</td>\n",
       "      <td>[1747149655001, 36759587745.33394]</td>\n",
       "      <td>1747149655001</td>\n",
       "    </tr>\n",
       "    <tr>\n",
       "      <th>2</th>\n",
       "      <td>[1747149988534, 103599.06732275485]</td>\n",
       "      <td>[1747149988534, 2057797676437.0977]</td>\n",
       "      <td>[1747149988534, 36647090180.05723]</td>\n",
       "      <td>1747149988534</td>\n",
       "    </tr>\n",
       "    <tr>\n",
       "      <th>3</th>\n",
       "      <td>[1747150244350, 103661.3024307318]</td>\n",
       "      <td>[1747150244350, 2059277790041.3035]</td>\n",
       "      <td>[1747150244350, 33272815019.816353]</td>\n",
       "      <td>1747150244350</td>\n",
       "    </tr>\n",
       "    <tr>\n",
       "      <th>4</th>\n",
       "      <td>[1747150549269, 103614.10773058854]</td>\n",
       "      <td>[1747150549269, 2059083065192.4585]</td>\n",
       "      <td>[1747150549269, 34786148415.61599]</td>\n",
       "      <td>1747150549269</td>\n",
       "    </tr>\n",
       "  </tbody>\n",
       "</table>\n",
       "</div>"
      ],
      "text/plain": [
       "                                prices                          market_caps  \\\n",
       "0  [1747149383569, 103489.80402012373]  [1747149383569, 2052650667289.1338]   \n",
       "1  [1747149655001, 103576.04183850522]  [1747149655001, 2056256249607.4531]   \n",
       "2  [1747149988534, 103599.06732275485]  [1747149988534, 2057797676437.0977]   \n",
       "3   [1747150244350, 103661.3024307318]  [1747150244350, 2059277790041.3035]   \n",
       "4  [1747150549269, 103614.10773058854]  [1747150549269, 2059083065192.4585]   \n",
       "\n",
       "                         total_volumes      timestamp  \n",
       "0   [1747149383569, 37521906754.28753]  1747149383569  \n",
       "1   [1747149655001, 36759587745.33394]  1747149655001  \n",
       "2   [1747149988534, 36647090180.05723]  1747149988534  \n",
       "3  [1747150244350, 33272815019.816353]  1747150244350  \n",
       "4   [1747150549269, 34786148415.61599]  1747150549269  "
      ]
     },
     "execution_count": 97,
     "metadata": {},
     "output_type": "execute_result"
    }
   ],
   "source": [
    "#adding a timestamp column\n",
    "#str[0] extracts the first character from each price string in the prices column\n",
    "\n",
    "df['timestamp'] = df['prices'].str[0]\n",
    "df.head()"
   ]
  },
  {
   "cell_type": "code",
   "execution_count": 98,
   "id": "acfb7b05-196c-4df8-818d-f1ba8c4f51e0",
   "metadata": {},
   "outputs": [
    {
     "data": {
      "text/html": [
       "<div>\n",
       "<style scoped>\n",
       "    .dataframe tbody tr th:only-of-type {\n",
       "        vertical-align: middle;\n",
       "    }\n",
       "\n",
       "    .dataframe tbody tr th {\n",
       "        vertical-align: top;\n",
       "    }\n",
       "\n",
       "    .dataframe thead th {\n",
       "        text-align: right;\n",
       "    }\n",
       "</style>\n",
       "<table border=\"1\" class=\"dataframe\">\n",
       "  <thead>\n",
       "    <tr style=\"text-align: right;\">\n",
       "      <th></th>\n",
       "      <th>prices</th>\n",
       "      <th>market_caps</th>\n",
       "      <th>total_volumes</th>\n",
       "      <th>timestamp</th>\n",
       "    </tr>\n",
       "  </thead>\n",
       "  <tbody>\n",
       "    <tr>\n",
       "      <th>0</th>\n",
       "      <td>103489.804020</td>\n",
       "      <td>2.052651e+12</td>\n",
       "      <td>3.752191e+10</td>\n",
       "      <td>1747149383569</td>\n",
       "    </tr>\n",
       "    <tr>\n",
       "      <th>1</th>\n",
       "      <td>103576.041839</td>\n",
       "      <td>2.056256e+12</td>\n",
       "      <td>3.675959e+10</td>\n",
       "      <td>1747149655001</td>\n",
       "    </tr>\n",
       "    <tr>\n",
       "      <th>2</th>\n",
       "      <td>103599.067323</td>\n",
       "      <td>2.057798e+12</td>\n",
       "      <td>3.664709e+10</td>\n",
       "      <td>1747149988534</td>\n",
       "    </tr>\n",
       "    <tr>\n",
       "      <th>3</th>\n",
       "      <td>103661.302431</td>\n",
       "      <td>2.059278e+12</td>\n",
       "      <td>3.327282e+10</td>\n",
       "      <td>1747150244350</td>\n",
       "    </tr>\n",
       "    <tr>\n",
       "      <th>4</th>\n",
       "      <td>103614.107731</td>\n",
       "      <td>2.059083e+12</td>\n",
       "      <td>3.478615e+10</td>\n",
       "      <td>1747150549269</td>\n",
       "    </tr>\n",
       "  </tbody>\n",
       "</table>\n",
       "</div>"
      ],
      "text/plain": [
       "          prices   market_caps  total_volumes      timestamp\n",
       "0  103489.804020  2.052651e+12   3.752191e+10  1747149383569\n",
       "1  103576.041839  2.056256e+12   3.675959e+10  1747149655001\n",
       "2  103599.067323  2.057798e+12   3.664709e+10  1747149988534\n",
       "3  103661.302431  2.059278e+12   3.327282e+10  1747150244350\n",
       "4  103614.107731  2.059083e+12   3.478615e+10  1747150549269"
      ]
     },
     "execution_count": 98,
     "metadata": {},
     "output_type": "execute_result"
    }
   ],
   "source": [
    "#lets further simplify the table\n",
    "\n",
    "df['prices'] = df['prices'].str[1]\n",
    "df['market_caps'] = df['market_caps'].str[1]\n",
    "df['total_volumes'] = df['total_volumes'].str[1]\n",
    "\n",
    "df.head()"
   ]
  },
  {
   "cell_type": "code",
   "execution_count": 99,
   "id": "890facda-d11e-4108-8001-8a76a84e0174",
   "metadata": {},
   "outputs": [
    {
     "data": {
      "text/html": [
       "<div>\n",
       "<style scoped>\n",
       "    .dataframe tbody tr th:only-of-type {\n",
       "        vertical-align: middle;\n",
       "    }\n",
       "\n",
       "    .dataframe tbody tr th {\n",
       "        vertical-align: top;\n",
       "    }\n",
       "\n",
       "    .dataframe thead th {\n",
       "        text-align: right;\n",
       "    }\n",
       "</style>\n",
       "<table border=\"1\" class=\"dataframe\">\n",
       "  <thead>\n",
       "    <tr style=\"text-align: right;\">\n",
       "      <th></th>\n",
       "      <th>timestamp</th>\n",
       "      <th>prices</th>\n",
       "      <th>market_caps</th>\n",
       "      <th>total_volumes</th>\n",
       "    </tr>\n",
       "  </thead>\n",
       "  <tbody>\n",
       "    <tr>\n",
       "      <th>0</th>\n",
       "      <td>1747149383569</td>\n",
       "      <td>103489.804020</td>\n",
       "      <td>2.052651e+12</td>\n",
       "      <td>3.752191e+10</td>\n",
       "    </tr>\n",
       "    <tr>\n",
       "      <th>1</th>\n",
       "      <td>1747149655001</td>\n",
       "      <td>103576.041839</td>\n",
       "      <td>2.056256e+12</td>\n",
       "      <td>3.675959e+10</td>\n",
       "    </tr>\n",
       "    <tr>\n",
       "      <th>2</th>\n",
       "      <td>1747149988534</td>\n",
       "      <td>103599.067323</td>\n",
       "      <td>2.057798e+12</td>\n",
       "      <td>3.664709e+10</td>\n",
       "    </tr>\n",
       "    <tr>\n",
       "      <th>3</th>\n",
       "      <td>1747150244350</td>\n",
       "      <td>103661.302431</td>\n",
       "      <td>2.059278e+12</td>\n",
       "      <td>3.327282e+10</td>\n",
       "    </tr>\n",
       "    <tr>\n",
       "      <th>4</th>\n",
       "      <td>1747150549269</td>\n",
       "      <td>103614.107731</td>\n",
       "      <td>2.059083e+12</td>\n",
       "      <td>3.478615e+10</td>\n",
       "    </tr>\n",
       "    <tr>\n",
       "      <th>...</th>\n",
       "      <td>...</td>\n",
       "      <td>...</td>\n",
       "      <td>...</td>\n",
       "      <td>...</td>\n",
       "    </tr>\n",
       "    <tr>\n",
       "      <th>274</th>\n",
       "      <td>1747234293356</td>\n",
       "      <td>103256.868315</td>\n",
       "      <td>2.050703e+12</td>\n",
       "      <td>3.153528e+10</td>\n",
       "    </tr>\n",
       "    <tr>\n",
       "      <th>275</th>\n",
       "      <td>1747234533857</td>\n",
       "      <td>103330.124309</td>\n",
       "      <td>2.051659e+12</td>\n",
       "      <td>3.184318e+10</td>\n",
       "    </tr>\n",
       "    <tr>\n",
       "      <th>276</th>\n",
       "      <td>1747234860123</td>\n",
       "      <td>103302.669415</td>\n",
       "      <td>2.052074e+12</td>\n",
       "      <td>3.151348e+10</td>\n",
       "    </tr>\n",
       "    <tr>\n",
       "      <th>277</th>\n",
       "      <td>1747235193067</td>\n",
       "      <td>103248.376616</td>\n",
       "      <td>2.051159e+12</td>\n",
       "      <td>3.152237e+10</td>\n",
       "    </tr>\n",
       "    <tr>\n",
       "      <th>278</th>\n",
       "      <td>1747235591000</td>\n",
       "      <td>103219.177343</td>\n",
       "      <td>2.050327e+12</td>\n",
       "      <td>3.156704e+10</td>\n",
       "    </tr>\n",
       "  </tbody>\n",
       "</table>\n",
       "<p>279 rows × 4 columns</p>\n",
       "</div>"
      ],
      "text/plain": [
       "         timestamp         prices   market_caps  total_volumes\n",
       "0    1747149383569  103489.804020  2.052651e+12   3.752191e+10\n",
       "1    1747149655001  103576.041839  2.056256e+12   3.675959e+10\n",
       "2    1747149988534  103599.067323  2.057798e+12   3.664709e+10\n",
       "3    1747150244350  103661.302431  2.059278e+12   3.327282e+10\n",
       "4    1747150549269  103614.107731  2.059083e+12   3.478615e+10\n",
       "..             ...            ...           ...            ...\n",
       "274  1747234293356  103256.868315  2.050703e+12   3.153528e+10\n",
       "275  1747234533857  103330.124309  2.051659e+12   3.184318e+10\n",
       "276  1747234860123  103302.669415  2.052074e+12   3.151348e+10\n",
       "277  1747235193067  103248.376616  2.051159e+12   3.152237e+10\n",
       "278  1747235591000  103219.177343  2.050327e+12   3.156704e+10\n",
       "\n",
       "[279 rows x 4 columns]"
      ]
     },
     "execution_count": 99,
     "metadata": {},
     "output_type": "execute_result"
    }
   ],
   "source": [
    "#Rearranging the dataframe\n",
    "\n",
    "df = df[['timestamp', 'prices', 'market_caps', 'total_volumes']]\n",
    "df"
   ]
  },
  {
   "cell_type": "code",
   "execution_count": 100,
   "id": "faa0f55b-fb0c-4b15-b48c-9802c995ab61",
   "metadata": {},
   "outputs": [
    {
     "data": {
      "text/html": [
       "<div>\n",
       "<style scoped>\n",
       "    .dataframe tbody tr th:only-of-type {\n",
       "        vertical-align: middle;\n",
       "    }\n",
       "\n",
       "    .dataframe tbody tr th {\n",
       "        vertical-align: top;\n",
       "    }\n",
       "\n",
       "    .dataframe thead th {\n",
       "        text-align: right;\n",
       "    }\n",
       "</style>\n",
       "<table border=\"1\" class=\"dataframe\">\n",
       "  <thead>\n",
       "    <tr style=\"text-align: right;\">\n",
       "      <th></th>\n",
       "      <th>timestamp</th>\n",
       "      <th>prices</th>\n",
       "      <th>market_caps</th>\n",
       "      <th>total_volumes</th>\n",
       "    </tr>\n",
       "  </thead>\n",
       "  <tbody>\n",
       "    <tr>\n",
       "      <th>count</th>\n",
       "      <td>2.790000e+02</td>\n",
       "      <td>279.000000</td>\n",
       "      <td>2.790000e+02</td>\n",
       "      <td>2.790000e+02</td>\n",
       "    </tr>\n",
       "    <tr>\n",
       "      <th>mean</th>\n",
       "      <td>1.747192e+12</td>\n",
       "      <td>103911.061602</td>\n",
       "      <td>2.064084e+12</td>\n",
       "      <td>3.314785e+10</td>\n",
       "    </tr>\n",
       "    <tr>\n",
       "      <th>std</th>\n",
       "      <td>2.485177e+07</td>\n",
       "      <td>355.875813</td>\n",
       "      <td>7.088310e+09</td>\n",
       "      <td>1.469865e+09</td>\n",
       "    </tr>\n",
       "    <tr>\n",
       "      <th>min</th>\n",
       "      <td>1.747149e+12</td>\n",
       "      <td>103165.940134</td>\n",
       "      <td>2.049428e+12</td>\n",
       "      <td>2.956841e+10</td>\n",
       "    </tr>\n",
       "    <tr>\n",
       "      <th>25%</th>\n",
       "      <td>1.747170e+12</td>\n",
       "      <td>103639.458333</td>\n",
       "      <td>2.058787e+12</td>\n",
       "      <td>3.186968e+10</td>\n",
       "    </tr>\n",
       "    <tr>\n",
       "      <th>50%</th>\n",
       "      <td>1.747192e+12</td>\n",
       "      <td>103893.553291</td>\n",
       "      <td>2.063680e+12</td>\n",
       "      <td>3.298513e+10</td>\n",
       "    </tr>\n",
       "    <tr>\n",
       "      <th>75%</th>\n",
       "      <td>1.747213e+12</td>\n",
       "      <td>104130.209946</td>\n",
       "      <td>2.068364e+12</td>\n",
       "      <td>3.413190e+10</td>\n",
       "    </tr>\n",
       "    <tr>\n",
       "      <th>max</th>\n",
       "      <td>1.747236e+12</td>\n",
       "      <td>104836.236555</td>\n",
       "      <td>2.081530e+12</td>\n",
       "      <td>3.752191e+10</td>\n",
       "    </tr>\n",
       "  </tbody>\n",
       "</table>\n",
       "</div>"
      ],
      "text/plain": [
       "          timestamp         prices   market_caps  total_volumes\n",
       "count  2.790000e+02     279.000000  2.790000e+02   2.790000e+02\n",
       "mean   1.747192e+12  103911.061602  2.064084e+12   3.314785e+10\n",
       "std    2.485177e+07     355.875813  7.088310e+09   1.469865e+09\n",
       "min    1.747149e+12  103165.940134  2.049428e+12   2.956841e+10\n",
       "25%    1.747170e+12  103639.458333  2.058787e+12   3.186968e+10\n",
       "50%    1.747192e+12  103893.553291  2.063680e+12   3.298513e+10\n",
       "75%    1.747213e+12  104130.209946  2.068364e+12   3.413190e+10\n",
       "max    1.747236e+12  104836.236555  2.081530e+12   3.752191e+10"
      ]
     },
     "execution_count": 100,
     "metadata": {},
     "output_type": "execute_result"
    }
   ],
   "source": [
    "#to obtain more information on the the dataframe\n",
    "\n",
    "df.describe()"
   ]
  },
  {
   "cell_type": "code",
   "execution_count": 101,
   "id": "7f2e7481-5cac-4a05-ac73-b0dfa8bc3a16",
   "metadata": {},
   "outputs": [
    {
     "data": {
      "text/plain": [
       "0     1970-01-01 00:29:07.149383569\n",
       "1     1970-01-01 00:29:07.149655001\n",
       "2     1970-01-01 00:29:07.149988534\n",
       "3     1970-01-01 00:29:07.150244350\n",
       "4     1970-01-01 00:29:07.150549269\n",
       "                   ...             \n",
       "274   1970-01-01 00:29:07.234293356\n",
       "275   1970-01-01 00:29:07.234533857\n",
       "276   1970-01-01 00:29:07.234860123\n",
       "277   1970-01-01 00:29:07.235193067\n",
       "278   1970-01-01 00:29:07.235591000\n",
       "Name: timestamp, Length: 279, dtype: datetime64[ns]"
      ]
     },
     "execution_count": 101,
     "metadata": {},
     "output_type": "execute_result"
    }
   ],
   "source": [
    "#the timestamp column is in integer instead of datetime data type\n",
    "pd.to_datetime(df['timestamp'])"
   ]
  },
  {
   "cell_type": "code",
   "execution_count": 102,
   "id": "d64fd471-48a4-4548-8f75-27c5a024f457",
   "metadata": {},
   "outputs": [
    {
     "data": {
      "text/plain": [
       "0     2025-05-13 15:16:23.569\n",
       "1     2025-05-13 15:20:55.001\n",
       "2     2025-05-13 15:26:28.534\n",
       "3     2025-05-13 15:30:44.350\n",
       "4     2025-05-13 15:35:49.269\n",
       "                ...          \n",
       "274   2025-05-14 14:51:33.356\n",
       "275   2025-05-14 14:55:33.857\n",
       "276   2025-05-14 15:01:00.123\n",
       "277   2025-05-14 15:06:33.067\n",
       "278   2025-05-14 15:13:11.000\n",
       "Name: timestamp, Length: 279, dtype: datetime64[ns]"
      ]
     },
     "execution_count": 102,
     "metadata": {},
     "output_type": "execute_result"
    }
   ],
   "source": [
    "#we can see that the unit for the output is in nano seconds\n",
    "#converting to microseconds\n",
    "\n",
    "pd.to_datetime(df['timestamp'], unit = 'ms')"
   ]
  },
  {
   "cell_type": "code",
   "execution_count": 103,
   "id": "2912fc9b-8fa8-4628-8cfb-02d730b3d77b",
   "metadata": {},
   "outputs": [
    {
     "name": "stdout",
     "output_type": "stream",
     "text": [
      "<class 'pandas.core.frame.DataFrame'>\n",
      "RangeIndex: 279 entries, 0 to 278\n",
      "Data columns (total 4 columns):\n",
      " #   Column         Non-Null Count  Dtype         \n",
      "---  ------         --------------  -----         \n",
      " 0   timestamp      279 non-null    datetime64[ns]\n",
      " 1   prices         279 non-null    float64       \n",
      " 2   market_caps    279 non-null    float64       \n",
      " 3   total_volumes  279 non-null    float64       \n",
      "dtypes: datetime64[ns](1), float64(3)\n",
      "memory usage: 8.8 KB\n"
     ]
    }
   ],
   "source": [
    "#this is good to go, lets replace the timestamp column\n",
    "\n",
    "df['timestamp'] = pd.to_datetime(df['timestamp'], unit = 'ms')\n",
    "df.info()"
   ]
  },
  {
   "cell_type": "code",
   "execution_count": null,
   "id": "5ba29687-4fba-4fd1-bfa9-a5739455907d",
   "metadata": {},
   "outputs": [],
   "source": []
  }
 ],
 "metadata": {
  "kernelspec": {
   "display_name": "Python 3 (ipykernel)",
   "language": "python",
   "name": "python3"
  },
  "language_info": {
   "codemirror_mode": {
    "name": "ipython",
    "version": 3
   },
   "file_extension": ".py",
   "mimetype": "text/x-python",
   "name": "python",
   "nbconvert_exporter": "python",
   "pygments_lexer": "ipython3",
   "version": "3.12.7"
  }
 },
 "nbformat": 4,
 "nbformat_minor": 5
}
