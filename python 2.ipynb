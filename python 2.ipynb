{
 "cells": [
  {
   "cell_type": "markdown",
   "id": "57353c8d-3f89-4788-b0fc-76ed2a6f80b4",
   "metadata": {},
   "source": [
    "List Comprehension\n",
    "They offer a more concise way to create new lists in python. They offer a one-line alternative to using traditional for loops and append statements."
   ]
  },
  {
   "cell_type": "code",
   "execution_count": null,
   "id": "e83d09d5-58d8-47eb-87a9-2b5d20c5785e",
   "metadata": {},
   "outputs": [],
   "source": [
    "#Here, we have a list of numbers. We want to check for thr numbers which\n",
    "#even and then append those values to the nums list\n",
    "\n",
    "nums = [34, 56, 77, 98, 66, 55, 33, 31, 12, 237]\n",
    "\n",
    "evens = []\n",
    "\n",
    "##Solution\n",
    "for num in nums:\n",
    "    if num%2 == 0:\n",
    "        evens.append(num)\n",
    "print(evens)\n"
   ]
  },
  {
   "cell_type": "code",
   "execution_count": null,
   "id": "3eb5315b-eb15-42ea-bbb7-85a33688f419",
   "metadata": {},
   "outputs": [],
   "source": [
    "## List comprehension can do this in a better way\n",
    "\n",
    "evens = [num for num in nums if num%2 == 0]\n",
    "\n",
    "print(evens)"
   ]
  },
  {
   "cell_type": "code",
   "execution_count": null,
   "id": "c1bd26f3-bf65-4605-b645-1173ba97b12d",
   "metadata": {},
   "outputs": [],
   "source": [
    "nums = [34, 56, 77, 98, 66, 55, 33, 31, 12, 237, 238, 240,250]\n",
    "odd = [ num for num in nums if num%2 != 0]\n",
    "print(odd)"
   ]
  },
  {
   "cell_type": "markdown",
   "id": "f913b24c-8f07-4464-9583-94a39eeeb57d",
   "metadata": {},
   "source": [
    "Syntax\n",
    "\n",
    "lst = [expression for i in sequence]\n",
    "\n",
    "This says for every i in the sequence, apply the expression and add that expression value to the lst"
   ]
  },
  {
   "cell_type": "code",
   "execution_count": null,
   "id": "042564c4-acc4-4acc-a31c-933e0a36c8b3",
   "metadata": {},
   "outputs": [],
   "source": [
    "#example 1\n",
    "\n",
    "lst = [a for a in 'PYTHON']\n",
    "\n",
    "lst"
   ]
  },
  {
   "cell_type": "code",
   "execution_count": null,
   "id": "e736a327-2653-4b7f-9f43-6e859a4921fa",
   "metadata": {},
   "outputs": [],
   "source": [
    "#example 2\n",
    "\n",
    "lst = [i**2 for i in range(1,20) if i%2 != 0]\n",
    "print(lst)\n",
    "\n",
    "\n",
    "#Here, we are saying that for every i value in the sequence,\n",
    "#if the i value is an odd number then square it and append to the lst list\n",
    "\n",
    "#Typically the even numbers will be [1, 3, 5, 7, 9, 11, 13, 15, 17, 19]\n",
    "#And when you square these, you'll see the output"
   ]
  },
  {
   "cell_type": "code",
   "execution_count": null,
   "id": "72e0e0d7-34dd-4b24-93a7-a85e8e50d222",
   "metadata": {},
   "outputs": [],
   "source": [
    "#example 3\n",
    "\n",
    "heros = ['Black Widow', 'Hawkeye', 'Doctor Strange']\n",
    "\n",
    "#extracting the first character of each name into a list\n",
    "\n",
    "lst = [word[0] for word in heros]\n",
    "lst"
   ]
  },
  {
   "cell_type": "code",
   "execution_count": null,
   "id": "1177fe3b-f33d-484a-bf84-7096f297fa87",
   "metadata": {},
   "outputs": [],
   "source": [
    "#example 3\n",
    "\n",
    "heros = ['Black Widow', 'Hawkeye', 'Doctor Strange']\n",
    "\n",
    "#extracting the first character of each name into a list\n",
    "\n",
    "lst = [letter[0] for letter in heros]\n",
    "lst"
   ]
  },
  {
   "cell_type": "code",
   "execution_count": null,
   "id": "721be0e8-786e-42c1-8e11-cd985be1e404",
   "metadata": {},
   "outputs": [],
   "source": [
    "#example 4\n",
    "\n",
    "string = 'The quick fox and the slow tortoise were friends a long time ago'\n",
    "\n",
    "#convert each word into upper case \n",
    "#and count the number of characters in each word\n",
    "\n",
    "lst = [[letter.upper(), len(letter)] for letter in string]\n",
    "print(lst)"
   ]
  },
  {
   "cell_type": "code",
   "execution_count": null,
   "id": "2e9c5aea-2ee3-4e4b-9c00-0cba86fa1e59",
   "metadata": {},
   "outputs": [],
   "source": [
    "#the above capitalizes each letter but this is not what we desire\n",
    "#to rectify this we use split to seoerate the words from each other \n",
    "\n",
    "lst = [[word.upper(), len(word)] for word in string.split(' ')]\n",
    "lst"
   ]
  },
  {
   "cell_type": "markdown",
   "id": "d510e871-7a85-4a8d-b64b-88982128cad5",
   "metadata": {},
   "source": [
    "Anonymous Functions\n",
    "AKA lambda functions. These are functions defined without a name using the lambda keyword. They are defined in a sinbgle line of code and can only contain one expression which repesents the function's body and return value.\n",
    "\n",
    "Syntax: lambda arguments: expression\n",
    "\n"
   ]
  },
  {
   "cell_type": "code",
   "execution_count": null,
   "id": "14d847cd-2e55-4b11-b677-8704a4a995d9",
   "metadata": {},
   "outputs": [],
   "source": [
    "# normal function definition\n",
    "\n",
    "def square(n):\n",
    "    return n**2\n",
    "print(square(5))"
   ]
  },
  {
   "cell_type": "code",
   "execution_count": null,
   "id": "c084be03-2fda-49d5-a967-c5c3c16adc13",
   "metadata": {},
   "outputs": [],
   "source": [
    "#using lambda\n",
    "\n",
    "lambda_sq = lambda n: n**2\n",
    "\n",
    "print(lambda_sq(5))"
   ]
  },
  {
   "cell_type": "code",
   "execution_count": null,
   "id": "f2e0eafd-3f9f-4112-999f-abc4d8e9e927",
   "metadata": {},
   "outputs": [],
   "source": [
    "#using lambda with two arguments\n",
    "\n",
    "prod = lambda a,b: a+b\n",
    "\n",
    "print(prod(3,4))"
   ]
  },
  {
   "cell_type": "code",
   "execution_count": null,
   "id": "180fcc95-48ed-4f58-98de-673b11eb4049",
   "metadata": {},
   "outputs": [],
   "source": [
    "#using lambda again and a concept from list comprehension\n",
    "\n",
    "greater = lambda a,b: a if a>b else b\n",
    "\n",
    "print(greater(345, 67849))"
   ]
  },
  {
   "cell_type": "markdown",
   "id": "ea320e3c-df7a-4dee-b973-a0416f512ea6",
   "metadata": {},
   "source": [
    "filter()\n",
    "A built-in python functions that allows you to efficiently process an iterable like a tuple, list or string and return a new iterator containing only the elements that meet a certain condition\n",
    "\n",
    "Syntax: filter(function, sequence)\n",
    "\n",
    "Problem: We have 10 numbers and we want to filter only the even numbers from that list."
   ]
  },
  {
   "cell_type": "code",
   "execution_count": null,
   "id": "b9c178a0-fbb0-430b-addb-f3d0864bfc80",
   "metadata": {},
   "outputs": [],
   "source": [
    "#Using traditional means of problem solving\n",
    "\n",
    "def Even(x):\n",
    "    if x%2 == 0:\n",
    "        return True\n",
    "    else:\n",
    "        return False\n",
    "\n",
    "lst = [0,1,2,3,4,5,6,7,8,9,10]\n",
    "\n",
    "filtered_list = filter(Even, lst)\n",
    "\n",
    "print(filtered_list)\n",
    "print(type(filtered_list))"
   ]
  },
  {
   "cell_type": "code",
   "execution_count": null,
   "id": "fde75ec0-4803-47f3-9521-6701042e9f84",
   "metadata": {},
   "outputs": [],
   "source": [
    "#from the above we can see the result and type of the results, so we need to convert the results to a list\n",
    "\n",
    "filtered_list = list(filter(Even, lst))\n",
    "\n",
    "print(filtered_list)\n",
    "print(type(filtered_list))"
   ]
  },
  {
   "cell_type": "code",
   "execution_count": null,
   "id": "86020bde-15a6-4641-a3d5-552753096ae3",
   "metadata": {},
   "outputs": [],
   "source": [
    "#Using concise problem solving\n",
    "\n",
    "lst = [0,1,2,3,4,5,6,7,8,9,10]\n",
    "\n",
    "filtered_list = list(filter(lambda x: x%2 == 0, lst))\n",
    "\n",
    "print(filtered_list)"
   ]
  },
  {
   "cell_type": "markdown",
   "id": "731268bd-e9d2-4897-ae8a-64625349dcae",
   "metadata": {},
   "source": [
    "map()\n",
    "Built-in python function used to apply a function to all elements of an iterable and return a new iterator containing the results\n",
    "\n",
    "Synatx: map(function, sequence)\n",
    "\n"
   ]
  },
  {
   "cell_type": "code",
   "execution_count": null,
   "id": "eefa9d0f-0523-4d11-a095-d9d475985c0a",
   "metadata": {},
   "outputs": [],
   "source": [
    "#EXAMPLE 1\n",
    "#traditional problem solving\n",
    "\n",
    "def double(x):\n",
    "    return 2*x\n",
    "\n",
    "lst = [1,2,4,5,6]\n",
    "\n",
    "new_list = list(map(double, lst))\n",
    "new_list"
   ]
  },
  {
   "cell_type": "code",
   "execution_count": null,
   "id": "643a983b-cb8d-4331-ab84-cae132e1dd42",
   "metadata": {},
   "outputs": [],
   "source": [
    "#concise problem solving\n",
    "\n",
    "new_list = list(map(lambda x: 2*x, lst))\n",
    "new_list"
   ]
  },
  {
   "cell_type": "code",
   "execution_count": null,
   "id": "39ee7c5f-2f75-4916-9d51-180717974891",
   "metadata": {},
   "outputs": [],
   "source": [
    "#EXAMPLE 2\n",
    "\n",
    "#multiplying two lists element wise\n",
    "list1 = [1,2,3]\n",
    "list2 = [4,5,6]\n",
    "\n",
    "new_list = list(map(lambda x,y: x*y, list1, list2))\n",
    "new_list"
   ]
  },
  {
   "cell_type": "markdown",
   "id": "075b32d7-cea2-4191-b66a-d4f6758e22cd",
   "metadata": {},
   "source": [
    "reduce()\n",
    "This function is used to reduce a sequence of elements nto a single element by applying the specified function\n",
    "\n",
    "It is present in the functools module.\n",
    "\n",
    "Syntax\n",
    "\n",
    "from functools import *\n",
    "\n",
    "reduce(function, sequence)"
   ]
  },
  {
   "cell_type": "code",
   "execution_count": null,
   "id": "0450da2c-6275-41e9-8c0c-21bae4f059e4",
   "metadata": {},
   "outputs": [],
   "source": [
    "from functools import *\n",
    "\n",
    "lst = [1,2,3,4,5,6,7,8,9]\n",
    "\n",
    "reduced_list = reduce(lambda x,y: x+y, lst)\n",
    "\n",
    "reduced_list"
   ]
  },
  {
   "cell_type": "code",
   "execution_count": null,
   "id": "97d84489-46bf-490c-918c-fedd23c2a236",
   "metadata": {},
   "outputs": [],
   "source": [
    "class students:\n",
    "    def _init_(name,age,grade):\n",
    "        self.name = name\n",
    "        self.age = age\n",
    "        self.grade = grade\n",
    "    def show (self):\n",
    "        print(f\"I am {self.name}, and I am {self.age} years old\")\n",
    "\n",
    "    def speak(self):\n",
    "        print(f\"I don't know what to say\")\n",
    "\n",
    "        \n",
    "        \n",
    "    \n",
    "    \n",
    "    \n",
    "\n",
    "  \n",
    "\n"
   ]
  },
  {
   "cell_type": "markdown",
   "id": "3f14d0d2-a262-4c26-af8b-76cdbabcbf21",
   "metadata": {},
   "source": [
    "What is Object-Oriented Programming (OOP)?\n",
    "Object-Oriented Programming (OOP) is a way of writing programs by creating things called objects. These objects can hold data and also perform actions. Each object has two main parts:\n",
    "\n",
    "Attributes: These are the features of the object (like the color of a car or the model of a phone).\n",
    "Methods: These are the actions the object can perform (like a car driving or a phone making a call).\n",
    "Why Use OOP?\n",
    "OOP makes it easier to organize and manage larger programs by:\n",
    "\n",
    "Keeping related data and actions together.\n",
    "Reusing code without repeating yourself.\n",
    "Making programs more structured and easier to understand.\n",
    "OOP mirrors the way the world works.\n",
    "\n",
    "Code is organized into self contained parts/objects - like the objects around you now\n",
    "\n",
    "By structuring code as objects we can change one part of it and it won't affect the others.\n",
    "\n",
    "A class is a definition or blueprint from which objects are created. E.g The blueprint of a car tells us what the car has or is made of - body, wheels, engine, and what a car does (functionalities) - drive(), brake(), turn(). Now we can take this blueprint to build a car - which is now known as an object."
   ]
  },
  {
   "cell_type": "markdown",
   "id": "3ae74083-3947-4fce-acb4-e6d764009ef8",
   "metadata": {},
   "source": [
    "1. Class - blueprint of an object\n",
    "class ClassName:\n",
    "\n",
    "   - Variables(properties - to store data)      \n",
    "   - Constructor - a special method      \n",
    "   - Methods (behaviours)- (a way to update the properties - same thing as a function)"
   ]
  },
  {
   "cell_type": "code",
   "execution_count": null,
   "id": "b6194a93-8257-4bf4-978e-8c1d9bcb640a",
   "metadata": {},
   "outputs": [],
   "source": [
    "class MyFirstClass:\n",
    "    '''This is my first class.'''\n",
    "    pass\n",
    "\n",
    "print(MyFirstClass)\n",
    "print(MyFirstClass.__doc__)\n",
    "help(MyFirstClass)"
   ]
  },
  {
   "cell_type": "markdown",
   "id": "6933e146-7df3-48cb-9818-b887d156d632",
   "metadata": {},
   "source": [
    "Object creation AKA instantiation - i.e creating an instance of the object"
   ]
  },
  {
   "cell_type": "code",
   "execution_count": null,
   "id": "7ec0a2df-546d-4597-9a0c-66b42e294cf0",
   "metadata": {},
   "outputs": [],
   "source": [
    "# synthax -> object_name = ClassName()\n",
    "\n",
    "first_obj = MyFirstClass()\n",
    "\n",
    "first_obj"
   ]
  },
  {
   "cell_type": "markdown",
   "id": "1ba27475-34f3-43be-be75-8c5dd4b86d47",
   "metadata": {},
   "source": [
    "Variables and methods"
   ]
  },
  {
   "cell_type": "code",
   "execution_count": null,
   "id": "962fe1d1-1536-4fd8-bbef-da55a23dfc46",
   "metadata": {},
   "outputs": [],
   "source": [
    "class HelloWorld:\n",
    "    '''This is my Hello World class'''\n",
    "    \n",
    "    class_variable = 'Variable'   #creating a variable \n",
    "    \n",
    "    def display(self):   #creating a method called display()\n",
    "        return('Method called')"
   ]
  },
  {
   "cell_type": "code",
   "execution_count": null,
   "id": "a923c3b5-0c0e-44a7-b241-7de9365c6d1a",
   "metadata": {},
   "outputs": [],
   "source": [
    "print(HelloWorld)"
   ]
  },
  {
   "cell_type": "code",
   "execution_count": null,
   "id": "74f6843f-f61b-4aaf-93ca-a40fab27e401",
   "metadata": {},
   "outputs": [],
   "source": [
    "# Accessing the variables and methods of a class\n",
    "\n",
    "#first create an instance of the object with the class\n",
    "second_object = HelloWorld()\n",
    "\n",
    "#printing the variable\n",
    "print(second_object.class_variable)\n",
    "\n",
    "#using the method\n",
    "\n",
    "second_object.display()"
   ]
  },
  {
   "cell_type": "markdown",
   "id": "87265e40-2fec-4c9a-91e4-febda46d6211",
   "metadata": {},
   "source": [
    "Constructors\n",
    "A special method\n",
    "It gets called automatically at object intialization/instantiation\n",
    "It is used for intializing the variables (very important)\n",
    "Returns None"
   ]
  },
  {
   "cell_type": "markdown",
   "id": "c1296b3d-6e9e-40e4-a1af-9e77ad6cddf2",
   "metadata": {},
   "source": [
    "Constructor with single variable"
   ]
  },
  {
   "cell_type": "code",
   "execution_count": null,
   "id": "65a3aeed-4701-42dc-9d72-a79c4078144c",
   "metadata": {},
   "outputs": [],
   "source": [
    "class HelloWorld:\n",
    "    '''This is my Hello World class'''\n",
    "    \n",
    "    #creating the constructor\n",
    "    def __init__(self):\n",
    "        print('Constructor called')\n",
    "    \n",
    "    #creating the method\n",
    "    def display(self):\n",
    "        print('Hello World')\n",
    "\n",
    "        \n",
    "hello_object = HelloWorld()\n",
    "print(hello_object)"
   ]
  },
  {
   "cell_type": "markdown",
   "id": "8b92102f-95c9-4f9a-8b04-99db2f0f892c",
   "metadata": {},
   "source": [
    "Constructor with multiple parameters\n"
   ]
  },
  {
   "cell_type": "code",
   "execution_count": null,
   "id": "8d09b215-66db-4251-9965-7e9766574940",
   "metadata": {},
   "outputs": [],
   "source": [
    "'''\n",
    "'self' is an instance variable that should be used in the constructor or method\n",
    "Remember the constructor is automatically called when you create an instance of an object\n",
    "'''\n",
    "\n",
    "class Student:\n",
    "    def __init__(self, name, rno, marks):  #a constructor with the instance variables\n",
    "        self.name = name\n",
    "        self.rno = rno\n",
    "        self.marks = marks\n",
    "    \n",
    "    #creating a method\n",
    "    def display(self):\n",
    "        #print(self.name, self.rno, self.marks) OR\n",
    "        \n",
    "        print('Name: {}, Room_number: {}, Marks: {}'.format(self.name, self.rno, self.marks))\n",
    "\n",
    "#testing\n",
    "student1 = Student('Ann', 1, 98)\n",
    "student1.display()\n",
    "        "
   ]
  },
  {
   "cell_type": "code",
   "execution_count": null,
   "id": "dd8c99d7-ad82-4055-b95d-f8864c6f3d71",
   "metadata": {},
   "outputs": [],
   "source": [
    "help(Student)"
   ]
  },
  {
   "cell_type": "code",
   "execution_count": null,
   "id": "02e25e66-06f1-4b96-9334-99d548768b29",
   "metadata": {},
   "outputs": [],
   "source": [
    "#using the __dict__ data descriptors\n",
    "\n",
    "student1.__dict__"
   ]
  },
  {
   "cell_type": "markdown",
   "id": "a6bad5ac-0598-42fc-a914-0cde4e95cf79",
   "metadata": {},
   "source": [
    "Types of variables (AKA properties)\n",
    "A. Instance variable\n",
    "It is an object level variable\n",
    "- The value of this variable varies from object to object, that is, they are only present for that one instance of an object\n",
    "- B. Static variable AKA class variable\n",
    "- - It is a class level variable\n",
    "- These variables are the same for all objects\n",
    "- C. Local variable\n",
    "- - This is a method level variable - avaiable within a method\n",
    "  - How to access the Instance variable\n",
    "\n",
    "--> Inside a class: self.variable_name\n",
    "\n",
    "--> Outside a class: object_name.variable_name"
   ]
  },
  {
   "cell_type": "code",
   "execution_count": null,
   "id": "57aadd7a-1abe-42c8-a686-035b86b318d5",
   "metadata": {},
   "outputs": [],
   "source": [
    "class Student:\n",
    "    def __init__(self, name, rno, marks):\n",
    "        self.name = name\n",
    "        self.rno = rno\n",
    "        self.marks = marks\n",
    "    \n",
    "    #creating a method\n",
    "    def display(self):\n",
    "        print(self.name, self.rno, self.marks) #accessing inside a class\n",
    "\n",
    "#testing\n",
    "student1 = Student('Ann', 1, 98)  #accessing outside a class\n",
    "student1.display()"
   ]
  },
  {
   "cell_type": "markdown",
   "id": "841840ec-d690-4ac5-9f9e-1266de1f13aa",
   "metadata": {},
   "source": [
    "How to access the static variable\n",
    "--> Inside a class: ClassName.variable_name OR self.variable_name\n",
    "--> Outside a class: ClassName.variable_name OR object_name.variable_name"
   ]
  },
  {
   "cell_type": "code",
   "execution_count": null,
   "id": "bb209f06-d11e-4d7f-9510-53379919dd61",
   "metadata": {},
   "outputs": [],
   "source": [
    "class Student:\n",
    "    college = 'Stanford' #static variable\n",
    "    \n",
    "    def __init__(self, name, rno, marks):\n",
    "        self.name = name\n",
    "        self.rno = rno\n",
    "        self.marks = marks\n",
    "    \n",
    "    def display(self):\n",
    "        print(self.name, self.rno, self.marks)\n",
    "        print(self.college)  #accessing the static variable inside a class\n",
    "\n",
    "student2 = Student('Ann', 2, 98)\n",
    "student3 = Student('John', 6, 76)\n",
    "\n",
    "student2.display()\n",
    "\n",
    "student3.display()"
   ]
  },
  {
   "cell_type": "code",
   "execution_count": null,
   "id": "563e3a2a-6439-43d3-82db-5c7435e682d6",
   "metadata": {},
   "outputs": [],
   "source": [
    "class Student:\n",
    "    college = \"Oxford\"\n",
    "    \n",
    "    def __init__(self, name, rno, marks):\n",
    "        self.name = name\n",
    "        self.rno = rno\n",
    "        self.marks = marks\n",
    "\n",
    "    def display(self):\n",
    "        print(self.name, self.rno, self.marks)\n",
    "        print(self.college)\n",
    "\n",
    "student2 = Student('Ann', 2, 98)\n",
    "student3 = Student('John', 4, 89)\n",
    "\n",
    "student2.display()\n",
    "\n",
    "student3.display()"
   ]
  },
  {
   "cell_type": "code",
   "execution_count": null,
   "id": "58558859-8e78-4299-be5e-391715ca62b0",
   "metadata": {},
   "outputs": [],
   "source": [
    "# accessing the static variable outside the class\n",
    "\n",
    "print(Student.college)  #using the ClassName\n",
    "print(student2.college)  #using the object_name"
   ]
  },
  {
   "cell_type": "code",
   "execution_count": null,
   "id": "fbd761cf-6032-4df6-933a-fa487c5330f8",
   "metadata": {},
   "outputs": [],
   "source": [
    "#let us see if we can change this static variable\n",
    "\n",
    "Student.college = 'ABU'\n",
    "\n",
    "student2.display()\n",
    "student3.display()"
   ]
  },
  {
   "cell_type": "code",
   "execution_count": null,
   "id": "e704a53d-eca7-4d85-b70d-f038b4780960",
   "metadata": {},
   "outputs": [],
   "source": [
    "help(Student)"
   ]
  },
  {
   "cell_type": "markdown",
   "id": "badda533-3f64-4cf4-97b9-d88fbb8e2d98",
   "metadata": {},
   "source": [
    "Local variable"
   ]
  },
  {
   "cell_type": "code",
   "execution_count": null,
   "id": "6782f010-7281-4e40-9106-beb454541311",
   "metadata": {},
   "outputs": [],
   "source": [
    "class Test:\n",
    "    def m1(self):\n",
    "        x = 10\n",
    "        print(x)\n",
    "    \n",
    "    def m2(self):\n",
    "        y = 20\n",
    "        print(y)"
   ]
  },
  {
   "cell_type": "markdown",
   "id": "8bc513f4-4662-4e6c-9e96-fe79a0a43f89",
   "metadata": {},
   "source": [
    "Types of methods (behaviours)\n",
    "Instance method\n",
    "\n",
    "Uses the self parameter which indicates that or points to an object instance\n",
    "Instance variables are used with instance methods\n",
    "Can be used to modify the instance state"
   ]
  },
  {
   "cell_type": "code",
   "execution_count": null,
   "id": "f4c86c69-cf65-485f-808a-294e38d7c586",
   "metadata": {},
   "outputs": [],
   "source": [
    "class Pupil:\n",
    "    school = 'NASA'\n",
    "    \n",
    "    def __init__(self, m1,m2,m3):\n",
    "        self.m1 = m1\n",
    "        self.m2 = m2\n",
    "        self.m3 = m3\n",
    "    \n",
    "    #defining an instance method - you can see it uses the self parameter\n",
    "    def avg(self):\n",
    "        return(self.m1+self.m2+self.m3)/3\n",
    "\n",
    "s1 = Pupil(34, 45, 67)\n",
    "\n",
    "print(s1)\n",
    "\n",
    "#calling the instance method requires that you specify the object name\n",
    "\n",
    "print(s1.avg())"
   ]
  },
  {
   "cell_type": "markdown",
   "id": "b6e5bef4-122f-4c0f-b844-8e7f667c4b4a",
   "metadata": {},
   "source": [
    "Class method\n",
    "\n",
    "Uses the cls parameter which indicates that or points to the class and not the object instance when the method is called\n",
    "Class(i.e static) variables are used with class methods"
   ]
  },
  {
   "cell_type": "code",
   "execution_count": null,
   "id": "ac27b24b-43fe-4fb3-87f7-31800f9ae156",
   "metadata": {},
   "outputs": [],
   "source": [
    "class Pupil:\n",
    "    school = 'NASA'\n",
    "    \n",
    "    def __init__(self, m1,m2,m3):\n",
    "        self.m1 = m1\n",
    "        self.m2 = m2\n",
    "        self.m3 = m3\n",
    "    \n",
    "    def avg(self):\n",
    "        return(self.m1+self.m2+self.m3)/3\n",
    "    \n",
    "    #creating a class method using the @classmethod decorator\n",
    "    \n",
    "    @classmethod\n",
    "    def getSchool(cls):\n",
    "        return cls.school\n",
    "                \n",
    "\n",
    "s1 = Pupil(34, 45, 67)\n",
    "\n",
    "print(s1)\n",
    "\n",
    "#remember that the class method points to the class name hence we attach it to the object name\n",
    "print(Pupil.getSchool())  \n",
    "\n",
    "#We use Pupil (which is the class name) instead of the Object (s1) \n",
    "#because the getSchool method is attached to the class which in turn is conected to the object, \n",
    "#it is like a subset of the class Pupil"
   ]
  },
  {
   "cell_type": "markdown",
   "id": "8a07ff77-7b41-4e2e-ac05-3664e6ac6a58",
   "metadata": {},
   "source": [
    "Static method\n",
    "\n",
    "Uses neither the self or cls parameter\n",
    "It is free to accept an arbitary number of other parameters\n",
    "Cannot modify object or class state. It is only restricted to the data they can access"
   ]
  },
  {
   "cell_type": "code",
   "execution_count": null,
   "id": "e33c8871-3a48-49bf-85ff-5b8b743303c3",
   "metadata": {},
   "outputs": [],
   "source": [
    "class Pupil:\n",
    "    school = 'NASA'\n",
    "    \n",
    "    def __init__(self, m1,m2,m3):\n",
    "        self.m1 = m1\n",
    "        self.m2 = m2\n",
    "        self.m3 = m3\n",
    "    \n",
    "    def avg(self):\n",
    "        return(self.m1+self.m2+self.m3)/3\n",
    "    \n",
    "    #creating a class method using the @classmethod decorator\n",
    "    \n",
    "    @classmethod\n",
    "    def getSchool(cls):\n",
    "        return cls.school\n",
    "    \n",
    "    #usually kept blank\n",
    "    @staticmethod\n",
    "    def info():\n",
    "        return('I am a Data scientist')\n",
    "        \n",
    "        \n",
    "s1 = Pupil(34, 45, 67)\n",
    "\n",
    "\n",
    "print(Pupil.info())"
   ]
  },
  {
   "cell_type": "markdown",
   "id": "d571fa07-c22f-4ef9-b7b8-a707ac42ecc8",
   "metadata": {},
   "source": [
    "Access Modifiers\n",
    "Used to restrict the access to the variables and methods. Python uses the _ symbol to determine the acess control\n",
    "\n",
    "Public\n",
    "\n",
    "No symbol is used here\n",
    "Members (data and functions of a class) defined as public will be accessible from any part of the program\n",
    "This is the default state unless otherwise stated\n",
    "Private\n",
    "\n",
    "Uses a double underscore __ symbol before the data member of that class\n",
    "Members of a class declared private are accessible within the class only\n",
    "Most secure\n",
    "Protected\n",
    "\n",
    "Uses a single underscore _ symbol before the data member of that class\n",
    "Members of a class declared protected are only accessible to a class derived from it"
   ]
  },
  {
   "cell_type": "code",
   "execution_count": null,
   "id": "a0f96934-b0bd-45aa-9ec0-220def812239",
   "metadata": {},
   "outputs": [],
   "source": [
    "class Boy:\n",
    "    def __init__(self, name, age):\n",
    "        \n",
    "        #public data member\n",
    "        self.name=name\n",
    "        \n",
    "        #private data member\n",
    "        self.__age = age\n",
    "    \n",
    "    def display(self):\n",
    "        print(self.name)"
   ]
  },
  {
   "cell_type": "code",
   "execution_count": null,
   "id": "88da3f88-60d9-4c79-95d9-ac89686c6d02",
   "metadata": {},
   "outputs": [],
   "source": [
    "object_name = Boy('Sam', 298)\n",
    "\n",
    "object_name.display()\n",
    "\n",
    "#this prints just the name, the age is privately secured and therefore not accessible\n"
   ]
  },
  {
   "cell_type": "markdown",
   "id": "45806306-cabb-4ecf-9b1b-95eccfab0e85",
   "metadata": {},
   "source": [
    "Create a Bottle class with color and capacity properties"
   ]
  },
  {
   "cell_type": "code",
   "execution_count": null,
   "id": "ee7579e7-f00b-4922-b86f-6bd86e6eda46",
   "metadata": {},
   "outputs": [],
   "source": [
    "class Bottle:\n",
    "    \n",
    "    def __init__(self, color, capacity):\n",
    "        self.color = color\n",
    "        self.capacity = capacity\n",
    "    \n",
    "    def display(self):\n",
    "        return('The color of the bottle is {} with a capacity of {}L'.format(self.color, self.capacity))\n",
    "\n",
    "Bottle = Bottle(\"blue\", 90)\n",
    "Bottle.display()\n"
   ]
  },
  {
   "cell_type": "markdown",
   "id": "85cdcfc0-cee4-44cb-b6a2-a9d5215526c7",
   "metadata": {},
   "source": [
    "Create a Human class with some properties and methods"
   ]
  },
  {
   "cell_type": "code",
   "execution_count": null,
   "id": "15ee25af-5e0e-4b21-b355-52cf4b5160c9",
   "metadata": {},
   "outputs": [],
   "source": [
    "class Human:\n",
    "    state = 'Ebonyi'\n",
    "    \n",
    "    def __init__(self, gender, height, age, occupation):\n",
    "        self.gender = gender\n",
    "        self.height = height\n",
    "        self.age = age\n",
    "        self.occupation = occupation\n",
    "    \n",
    "    def show_details(self):\n",
    "        return(self.gender, self.height, self.age, self.occupation)\n",
    "    \n",
    "    def getState(cls):\n",
    "        return(cls.state)\n",
    "    \n",
    "    def update_age(self, age):\n",
    "        self.age = age\n",
    "        return 'Age updated successfully'\n",
    "\n",
    "human_being = Human('Female', 1.65, 23, 'Data Scientist')\n",
    "print(human_being)"
   ]
  },
  {
   "cell_type": "code",
   "execution_count": null,
   "id": "f7662f36-93a5-4b75-9be5-60e4d474862f",
   "metadata": {},
   "outputs": [],
   "source": [
    "import math\n",
    "\n",
    "class Circle:\n",
    "    def __init__(self, radius):\n",
    "        self.radius = radius\n",
    "    \n",
    "    def getArea(self):\n",
    "        return (3.14*(self.radius)**2)\n",
    "    \n",
    "    def getCircumference(self):\n",
    "        return (2*3.14*self.radius)"
   ]
  },
  {
   "cell_type": "code",
   "execution_count": null,
   "id": "32376e30-3800-4147-9db4-fb95f116df19",
   "metadata": {},
   "outputs": [],
   "source": [
    "my_circle = Circle(4)\n",
    "\n",
    "print(my_circle.getArea())\n",
    "print(my_circle.getCircumference())"
   ]
  },
  {
   "cell_type": "markdown",
   "id": "5f35818f-4dd2-49ef-89ee-75048bfb7b02",
   "metadata": {},
   "source": [
    "Create a Student class and initialize it with name and roll number. Make methods to :\n",
    "Display - It should display all informations of the student.\n",
    "setAge - It should assign age to student\n",
    "setMarks - It should assign marks to the student."
   ]
  },
  {
   "cell_type": "code",
   "execution_count": null,
   "id": "e7c09372-1390-4433-867f-3c13ab5473ff",
   "metadata": {},
   "outputs": [],
   "source": [
    "class Student:\n",
    "    \n",
    "    age = 50\n",
    "    marks = 100\n",
    "    \n",
    "    def __init__(self, name, rno):\n",
    "        self.name = name\n",
    "        self.rno = rno\n",
    "        \n",
    "    def display(self):\n",
    "        return(self.name, self.rno)\n",
    "    \n",
    "    @classmethod\n",
    "    def setAge(cls):\n",
    "        return(cls.age)\n",
    "    \n",
    "    @classmethod\n",
    "    def setMarks(cls):\n",
    "        return(cls.marks)"
   ]
  },
  {
   "cell_type": "code",
   "execution_count": null,
   "id": "8117be42-1174-4486-935a-a41e608d7334",
   "metadata": {},
   "outputs": [],
   "source": [
    "students = Student(name='Jane', rno=21)\n",
    "\n",
    "students.display()\n",
    "\n",
    "#Student.setAge()\n",
    "\n",
    "#students = Student.setMarks()"
   ]
  },
  {
   "cell_type": "markdown",
   "id": "bd391c5e-0c8c-4171-9bbe-53e8719c24b7",
   "metadata": {},
   "source": [
    "Create a Temprature class. Make two methods :\n",
    "convertFahrenheit - It will take celsius and will print it into Fahrenheit.\n",
    "convertCelsius - It will take Fahrenheit and will convert it into Celsius."
   ]
  },
  {
   "cell_type": "code",
   "execution_count": null,
   "id": "da6a66af-9980-4b9b-9665-4b350592e4d2",
   "metadata": {},
   "outputs": [],
   "source": [
    "class Temperature:\n",
    "    def __init__(self, x):\n",
    "        self.x = x\n",
    "          \n",
    "    def convertCelsius(self):\n",
    "        return ((self.x-32)*5/9)\n",
    "    \n",
    "    def convertFahrenheit(self):\n",
    "        return (self.x*(9/5))+32"
   ]
  },
  {
   "cell_type": "code",
   "execution_count": null,
   "id": "0060ce13-2191-4f92-8e0a-192519da4255",
   "metadata": {},
   "outputs": [],
   "source": [
    "temp_check = Temperature(67)\n",
    "\n",
    "print(temp_check.convertFahrenheit())\n",
    "print(temp_check.convertCelsius())"
   ]
  },
  {
   "cell_type": "markdown",
   "id": "ace0957a-2e39-40d7-88e7-5e1d2c5d8fc5",
   "metadata": {},
   "source": [
    "Create a class Expenditure and initialize it with salary,savings, category , total expenditure.Make the following methods.\n",
    "Add expenditure according to category .\n",
    "Calculate total expenditure.\n",
    "Calculate per day expenditure and a two months expenditure."
   ]
  },
  {
   "cell_type": "code",
   "execution_count": null,
   "id": "4086206e-3d2c-4810-b475-9e5042b837a2",
   "metadata": {},
   "outputs": [],
   "source": [
    "class Expenditure:\n",
    "    \n",
    "    def __init__(self,salary,savings):\n",
    "        self.salary = salary\n",
    "        self.savings = savings\n",
    "        self.categories = {}   #intializes a dictionary\n",
    "        self.total_expenditure = 0   #this value will be updated, hence it is intialized by setting it 0\n",
    "    \n",
    "    def category_expenditure(self, category, expenses): #this method takes two parameters\n",
    "        \n",
    "        #first, we check if the category exists and then add the amount entered to the expenditure for that category\n",
    "        if category in self.categories:\n",
    "            self.categories[category] += expenses\n",
    "        \n",
    "        #if it doesn't it adds the new category and the expense for that category\n",
    "        else:\n",
    "            self.categories[category] = expenses\n",
    "        \n",
    "        #When the conditional statement has been fulfilled, the amount is added to the total_expensiture and it is therefore updated\n",
    "        self.total_expenditure += expenses\n",
    "        \n",
    "        return self.categories, self.total_expenditure\n",
    "    \n",
    "    #remember the total_expensiture is always updated therefore at anytime we have the total expenditure in that variable\n",
    "    def cal_total_expenditure(self):\n",
    "        return self.total_expenditure\n",
    "    \n",
    "    def daily_expenditure(self):\n",
    "        days = 30\n",
    "        return self.total_expenditure/days\n",
    "    \n",
    "    def monthly_expenditure(self, month):\n",
    "        return self.total_expenditure*month"
   ]
  },
  {
   "cell_type": "code",
   "execution_count": null,
   "id": "cc75f431-cc91-4ded-a253-176515af70d9",
   "metadata": {},
   "outputs": [],
   "source": [
    "expenditure_tracker = Expenditure(salary = 5000, savings= 1000)\n",
    "\n",
    "## Let me add some of the expenses I have made\n",
    "\n",
    "expenditure_tracker.category_expenditure('food', 500)\n",
    "expenditure_tracker.category_expenditure('shoes', 800)\n",
    "expenditure_tracker.category_expenditure('mouse', 1500)\n",
    "expenditure_tracker.category_expenditure('fan', 300)"
   ]
  },
  {
   "cell_type": "code",
   "execution_count": null,
   "id": "ca73cbee-33f9-4761-b4d3-aef4f5033de7",
   "metadata": {},
   "outputs": [],
   "source": [
    "#checking for total_expenditure so far\n",
    "\n",
    "expenditure_tracker.cal_total_expenditure()"
   ]
  },
  {
   "cell_type": "code",
   "execution_count": null,
   "id": "22937786-a88e-4b99-83f8-b861502e237a",
   "metadata": {},
   "outputs": [],
   "source": [
    "#what is my daily expenditure like assuming that the total_expenditure is my total expenses for a month\n",
    "\n",
    "expenditure_tracker.daily_expenditure()"
   ]
  },
  {
   "cell_type": "markdown",
   "id": "ab158edc-8746-4c12-bd91-85549aec90ca",
   "metadata": {},
   "source": [
    "OOP feels like creating normal functions in python. It is simply a way to help you structure your code in parts and working to see each part works as it should in order to meet your overall goal. There's a second part and maybe a third part to this learning on OOP.\n",
    "\n",
    "I learnt a g"
   ]
  },
  {
   "cell_type": "markdown",
   "id": "273d6947-25d1-4f8c-b05b-35a70bf2cc43",
   "metadata": {},
   "source": [
    "Inheritance\n",
    "It is the ability of one class to derive or inherit the properties from another class. It also has it's types.\n",
    "\n",
    "It represents real world relationships\n",
    "We don't have to write the same code again and again and we can add more features to a clas without modifying it"
   ]
  },
  {
   "cell_type": "markdown",
   "id": "37bd7d6b-64ca-4096-ae5c-f07f3b1e52f5",
   "metadata": {},
   "source": [
    "1. Single inheritance\n",
    "A single parent to child relationship"
   ]
  },
  {
   "cell_type": "code",
   "execution_count": null,
   "id": "d1781fa6-2f06-4a0d-886f-685679e1eb5b",
   "metadata": {},
   "outputs": [],
   "source": [
    "# What the code looks like without any inheritance\n",
    "\n",
    "class A:\n",
    "    def m1():\n",
    "        pass\n",
    "    def m2():\n",
    "        pass\n",
    "\n",
    "class B:\n",
    "    def m1():\n",
    "        pass\n",
    "    def m2():\n",
    "        pass\n",
    "    def m3():\n",
    "        pass\n",
    "    def m4():\n",
    "        pass\n",
    "\n",
    "#Notice how we had to copy and paste all the methods from classA to ClassB, imagine we have these for a more complex code"
   ]
  },
  {
   "cell_type": "code",
   "execution_count": null,
   "id": "b52f3c9a-bcff-4b24-b047-ab206256b71c",
   "metadata": {},
   "outputs": [],
   "source": [
    "# With inheritance\n",
    "\n",
    "#This is the parent class\n",
    "class A:\n",
    "    def m1(self):\n",
    "        print('Class A, method 1')\n",
    "        \n",
    "    def m2(self):\n",
    "        print('Class A, method 2')\n",
    "\n",
    "#the child inheriting from the first class       \n",
    "class B(A):\n",
    "    def m3(self):\n",
    "        print('Class B, method 3')\n",
    "    \n",
    "    def m4(self):\n",
    "        print('Class B, method 4')"
   ]
  },
  {
   "cell_type": "code",
   "execution_count": null,
   "id": "e56eef6b-62fd-49ff-8dfb-3964e7cf5d52",
   "metadata": {},
   "outputs": [],
   "source": [
    "#testing the concept\n",
    "\n",
    "b = B()\n",
    "\n",
    "b.m1()\n",
    "b.m3()"
   ]
  },
  {
   "cell_type": "markdown",
   "id": "0016da7b-bb20-49c2-ad56-d884ba5cfa01",
   "metadata": {},
   "source": [
    "2. Multilevel inheritance\n",
    "A single parent, a child and a grandchild (as you know, from the child)\n",
    "\n",
    "Parent -> Child1 -> grandchild"
   ]
  },
  {
   "cell_type": "code",
   "execution_count": null,
   "id": "bdce5ea7-1b1d-4b45-8e65-e3e4e6fd4a5b",
   "metadata": {},
   "outputs": [],
   "source": [
    "#How multilevel inheritance solves this problem\n",
    "\n",
    "#parent\n",
    "class A:\n",
    "    def m1(self):\n",
    "        print('Class A, method 1')\n",
    "    def m2(self):\n",
    "        print('Class A, method 2')\n",
    "\n",
    "#child \n",
    "class B(A):\n",
    "    def m3(self):\n",
    "        print('Class B, method 3')\n",
    "    def m4(self):\n",
    "        print('Class B, method 4')\n",
    "\n",
    "#grandchild        \n",
    "class C(B):\n",
    "    def m5(self):\n",
    "        print('Class C, method 5')\n",
    "    def m6(self):\n",
    "        print('Class C, method 6')"
   ]
  },
  {
   "cell_type": "code",
   "execution_count": null,
   "id": "e5e0efd1-cf56-461d-897c-2afa1d120dde",
   "metadata": {},
   "outputs": [],
   "source": [
    "#testing the concept\n",
    "b = B()\n",
    "c = C()\n",
    "\n",
    "print(b.m2())\n",
    "print(c.m1())\n",
    "\n",
    "#rmember why we see 'None' in the output right? Yes. It's because we used print in the function call instead of return"
   ]
  },
  {
   "cell_type": "markdown",
   "id": "770f6968-ac72-45a8-bf0a-1a38c60f98a7",
   "metadata": {},
   "source": [
    ". Multiple inheritance\n",
    "One child inheriting from two parents\n",
    "[]"
   ]
  },
  {
   "cell_type": "code",
   "execution_count": null,
   "id": "96fe83a8-028d-404c-af45-ff14ffe5c960",
   "metadata": {},
   "outputs": [],
   "source": [
    "#parent\n",
    "class A:\n",
    "    def m1(self):\n",
    "        print('Class A, method 1')\n",
    "    def m2(self):\n",
    "        print('Class A, method 2')\n",
    "\n",
    "#parent\n",
    "class B:\n",
    "    def m3(self):\n",
    "        print('Class B, method 3')\n",
    "    def m4(self):\n",
    "        print('Class B, method 4')\n",
    "\n",
    "#child\n",
    "class C(A,B):\n",
    "    def m5(self):\n",
    "        print('Class C, method 5')\n",
    "    def m6(self):\n",
    "        print('Class C, method 6')"
   ]
  },
  {
   "cell_type": "markdown",
   "id": "b9ed0b43-f73d-479f-babc-5e3bf0431d29",
   "metadata": {},
   "source": [
    "4. Hirerachical inheritance\n",
    "Two children inheriting from a single parent"
   ]
  },
  {
   "cell_type": "code",
   "execution_count": null,
   "id": "3b80c834-a730-4458-9d0b-0e7cb2ccd847",
   "metadata": {},
   "outputs": [],
   "source": [
    "#keep in mind the last code without inheritance we wrote\n",
    "\n",
    "#parent\n",
    "class A:\n",
    "    def m1(self):\n",
    "        print('Class A, method 1')\n",
    "    def m2(self):\n",
    "        print('Class A, method 2')\n",
    "\n",
    "#first child\n",
    "class B(A):\n",
    "    def m3(self):\n",
    "        print('Class B, method 3')\n",
    "    def m4(self):\n",
    "        print('Class B, method 4')\n",
    "\n",
    "#second child\n",
    "class C(A):\n",
    "    def m5(self):\n",
    "        print('Class C, method 5')\n",
    "    def m6(self):\n",
    "        print('Class C, method 6')"
   ]
  },
  {
   "cell_type": "code",
   "execution_count": null,
   "id": "59d390ef-feed-445a-869e-f773677cca9c",
   "metadata": {},
   "outputs": [],
   "source": [
    "c = C()\n",
    "\n",
    "c.m2()"
   ]
  },
  {
   "cell_type": "markdown",
   "id": "83035802-164c-4136-a3d9-c18577dbc49c",
   "metadata": {},
   "source": [
    "5. Hybrid inheritance\n",
    "A combination of all the above types of inheritance."
   ]
  },
  {
   "cell_type": "code",
   "execution_count": null,
   "id": "fd6f1a50-6fc5-4ec9-95b3-a776547917cb",
   "metadata": {},
   "outputs": [],
   "source": [
    "#parent\n",
    "class A:\n",
    "    pass\n",
    "\n",
    "#first child of A\n",
    "class B(A):\n",
    "    pass\n",
    "\n",
    "#second child of A\n",
    "class C(A):\n",
    "    pass\n",
    "\n",
    "#child benefiting from other children\n",
    "class D(B, C):\n",
    "    pass\n",
    "\n",
    "\n",
    "#Class B and C share the same parent - hirerachical\n",
    "#Class D has a direct relationship with the parent and the second child"
   ]
  },
  {
   "cell_type": "markdown",
   "id": "93b9cc27-699b-4141-a662-d710ecd92ce1",
   "metadata": {},
   "source": [
    "Using super() to access the constructor and methods of the parent class\n",
    "[ ]"
   ]
  },
  {
   "cell_type": "code",
   "execution_count": null,
   "id": "79f92c3b-4469-429b-8429-2a8474e01f84",
   "metadata": {},
   "outputs": [],
   "source": [
    "class A:\n",
    "    def m1(self):\n",
    "        print('Class A, method 1')\n",
    "    def m2(self):\n",
    "        print('Class A, method 2')\n",
    "\n",
    "class B:\n",
    "    def m3(self):\n",
    "        super().m1()\n",
    "        print('Class B, method 3')\n",
    "    def m4(self):\n",
    "        super().m2()\n",
    "        print('Class B, method 4')"
   ]
  },
  {
   "cell_type": "markdown",
   "id": "3c026c4e-eba8-4fe4-a8e1-2d21815e4d41",
   "metadata": {},
   "source": [
    "Polymorphism\n",
    "Means that one thing can take multiple forms. Thinking about this literally, we human beings are polymorphic, we have different forms, as the situation changes, we change ourselves, the way we behave around friends, is not the same way we behave in the office.\n",
    "\n",
    "In OOP therefore, objects can have multiple forms. There are 4 kinds of polymorphism:\n",
    "\n",
    "Duck typing\n",
    "Operator overloading\n",
    "Method overloading\n",
    "Method overriding\n",
    "1. Duck typing\n",
    "Here we have a function that takes an object and calls a method on it without caring about the object's type\n",
    "Duck typing means that as long as the object has the required method, it can be used without caring about the object's type\n",
    "Example: a duck and a dog can both have the quack() method and therefore can be treated the same in the code without checking for their specifc types"
   ]
  },
  {
   "cell_type": "code",
   "execution_count": null,
   "id": "8ad12d6f-c62a-42a9-9068-a1c90cd61fff",
   "metadata": {},
   "outputs": [],
   "source": [
    "class Duck:\n",
    "    def quack(self):\n",
    "        return('Quack')\n",
    "    \n",
    "class Dog:\n",
    "    def quack(self):\n",
    "        return('Woof')\n",
    "\n",
    "def make_sound(animal):\n",
    "    animal.quack()\n",
    "\n",
    "#creating the objects\n",
    "\n",
    "duck = Duck()\n",
    "dog = Dog()\n",
    "\n",
    "print(dog.quack())\n",
    "print(duck.quack())"
   ]
  },
  {
   "cell_type": "code",
   "execution_count": null,
   "id": "a2d29e97-5580-4a4c-9c86-c1f22aed77bf",
   "metadata": {},
   "outputs": [],
   "source": [
    "#python functions displaying polymorphism\n",
    "\n",
    "print(len('Data engineering'))\n",
    "print(len([123, 456, 789, 102]))"
   ]
  },
  {
   "cell_type": "markdown",
   "id": "e348bb7a-60f7-405f-bf4e-b21dbeb77cbe",
   "metadata": {},
   "source": [
    "The len function exhibits polymorphism because it can be used with different types of objects (strings and lists in this case) that provide the required len method.\n",
    "\n",
    "This code demonstrates duck typing because it doesn't explicity check the object's class(it doesn't care).\n",
    "\n",
    "2. Operator overloading\n",
    "Arithmetic operations like +,-, *,/ are actions I can perform on objects\n",
    "Operator loading therefore lets me define what those actions mean for instances of my own classes\n",
    "This is done using 'add'\n",
    "\n"
   ]
  },
  {
   "cell_type": "code",
   "execution_count": 19,
   "id": "42fa5a46-8dc6-4135-977b-fe4f3777b21b",
   "metadata": {},
   "outputs": [
    {
     "name": "stdout",
     "output_type": "stream",
     "text": [
      "<__main__.Point object at 0x0000025B4847FCE0>\n",
      "5 7\n"
     ]
    }
   ],
   "source": [
    "class Point:\n",
    "    def __init__(self, x, y):\n",
    "        self.x = x\n",
    "        self.y = y\n",
    "        \n",
    "    \n",
    "    def __add__(self,other):\n",
    "        return Point(self.x+other.x, self.y+other.y)\n",
    "\n",
    "#creating two objects with the same blueprint\n",
    "\n",
    "p1 = Point(2,3)\n",
    "p2 = Point(3,4)\n",
    "\n",
    "result = p1 + p2\n",
    "print(result)\n",
    "\n",
    "print(result.x, result.y)"
   ]
  },
  {
   "cell_type": "markdown",
   "id": "b80e6b92-5942-4e00-bcef-ea0ca2a93187",
   "metadata": {},
   "source": [
    "Method overloading\n",
    "Here we have a method with the capacity to house or take in different number of parameters - a very good example here is our round() method\n",
    "Method overloading allows me to define multiple versions of a method with different parameter lists\n",
    "When you call the method, the appropriate version is choosen based on the arguments you provide"
   ]
  },
  {
   "cell_type": "code",
   "execution_count": 20,
   "id": "d17970c8-f65f-48e6-a1ac-ea9b5cdbb2a7",
   "metadata": {},
   "outputs": [
    {
     "name": "stdout",
     "output_type": "stream",
     "text": [
      "46\n",
      "45.981\n"
     ]
    }
   ],
   "source": [
    "#see what I mean\n",
    "\n",
    "#first form - pass only the number you wish to round up - default state says it rounds the number to a whole number\n",
    "check1 = round(45.9800001)\n",
    "print(check1)\n",
    "\n",
    "#second form - pass the number and the number of decimal places\n",
    "check2 = round(45.98076512, 3)\n",
    "print(check2)"
   ]
  },
  {
   "cell_type": "code",
   "execution_count": null,
   "id": "dc79d2eb-18d0-41cd-8feb-5a84e905c5b7",
   "metadata": {},
   "outputs": [],
   "source": [
    "#let me create something similar\n",
    "\n",
    "class Calculator:\n",
    "    def calculate(self, a, b=None):\n",
    "        if b is None:\n",
    "            return a*2\n",
    "        else:\n",
    "            return a*b\n",
    "my_calc = Calculator(5,6)"
   ]
  },
  {
   "cell_type": "code",
   "execution_count": 24,
   "id": "0ce5ef88-3a82-4504-8f4b-647f929ecf73",
   "metadata": {},
   "outputs": [
    {
     "name": "stdout",
     "output_type": "stream",
     "text": [
      "10\n",
      "50\n"
     ]
    }
   ],
   "source": [
    "print(my_calc.calculate(5))\n",
    "print(my_calc.calculate(5,10))"
   ]
  },
  {
   "cell_type": "markdown",
   "id": "4f0c01a3-8def-4602-b9c1-d5f1c44eaadb",
   "metadata": {},
   "source": [
    "4. Method overriding\n",
    "First I have a parent class with a method\n",
    "When I create a subclas, I can now define the same method with the same name\n",
    "Method overriding means that I am replacing the parent's method with a new implementation in the subclass\n",
    "This allows me to customize the behaviour of the method for the subclass without changing the parent's behaviour"
   ]
  },
  {
   "cell_type": "code",
   "execution_count": 26,
   "id": "85656f36-e182-4d72-975d-0a6fd960d133",
   "metadata": {},
   "outputs": [],
   "source": [
    "class A:\n",
    "    def m1(self):\n",
    "        print('Class A, method 1')\n",
    "    def m2(self):\n",
    "        print('Class A, method 2')\n",
    "\n",
    "class B(A):\n",
    "    def m1(self):\n",
    "        super().m1()\n",
    "        print('I changed the output!')\n"
   ]
  },
  {
   "cell_type": "code",
   "execution_count": 27,
   "id": "05f60b31-2c59-47e2-97a7-85f27fbf8151",
   "metadata": {},
   "outputs": [
    {
     "name": "stdout",
     "output_type": "stream",
     "text": [
      "Class A, method 1\n",
      "I changed the output!\n"
     ]
    }
   ],
   "source": [
    "b = B()\n",
    "\n",
    "#method overriding in action\n",
    "b.m1()"
   ]
  },
  {
   "cell_type": "markdown",
   "id": "394060a7-d8d7-4ae3-b5c7-a7bc9a429093",
   "metadata": {},
   "source": [
    "Abstraction\n",
    "This means hiding. It simplifies complex functionalities by focussing on what an object does rather than how it does it. It hides the inner workings of an object and exposes only the essential features you need to interact with it.\n",
    "\n",
    "For example, the light switch is an abstracted object of all the internal workings behind it. We only know that when we flip the switch it either comes on or not.\n",
    "\n",
    "Encapsulation\n",
    "This hides data from external world. It protects the data within the class and exposes methods to the world.\n",
    "\n",
    "1. Private methods"
   ]
  },
  {
   "cell_type": "code",
   "execution_count": 28,
   "id": "57089998-d577-4b78-b758-23da63aaba6a",
   "metadata": {},
   "outputs": [],
   "source": [
    "class Car:\n",
    "    def __init__(self):\n",
    "        self.__updateSoftware()\n",
    "        \n",
    "    def drive(self):\n",
    "        print('Driving')\n",
    "        \n",
    "    def __updateSoftware(self):\n",
    "        print('Updating software....')\n"
   ]
  },
  {
   "cell_type": "code",
   "execution_count": 29,
   "id": "3cb72bcb-98b7-4ea7-9ca7-efedf9322243",
   "metadata": {},
   "outputs": [
    {
     "name": "stdout",
     "output_type": "stream",
     "text": [
      "Updating software....\n",
      "Driving\n"
     ]
    }
   ],
   "source": [
    "myCar = Car()\n",
    "myCar.drive()"
   ]
  },
  {
   "cell_type": "code",
   "execution_count": 30,
   "id": "ee0e414f-cb7d-4389-aa47-9ee36efd72ea",
   "metadata": {},
   "outputs": [],
   "source": [
    "class Car:\n",
    "    __maxSpeed = 0\n",
    "    __name = ''\n",
    "    \n",
    "    def __init__(self):\n",
    "        self.__maxSpeed = 200\n",
    "        self.__name = 'Super car'\n",
    "    \n",
    "    def drive(self):\n",
    "        print('Max speed is: ', self.__maxSpeed)"
   ]
  },
  {
   "cell_type": "code",
   "execution_count": 31,
   "id": "65066ddb-3bcd-4e68-9475-299d60ceeece",
   "metadata": {},
   "outputs": [],
   "source": [
    "class Student:\n",
    "    \n",
    "    __college = 'LMN'\n",
    "    def __init__(self, name, rno, marks):\n",
    "        self.__name = name\n",
    "        self.__rno = rno\n",
    "        self.__marks = marks\n",
    "        \n",
    "    def display(self):\n",
    "        print('Name: {}, Roll_number: {}, Marks: {}'.format(self.name, self.rno, self.marks))\n",
    "        print('College:', self.__college)\n",
    "        \n",
    "    def setCollege(self, cname):\n",
    "        self.__college = cname\n",
    "        \n",
    "    def getName(self):\n",
    "        return self.__name"
   ]
  },
  {
   "cell_type": "code",
   "execution_count": 32,
   "id": "cb792a36-3d00-4513-96a8-d8c184d94cd8",
   "metadata": {},
   "outputs": [
    {
     "name": "stdout",
     "output_type": "stream",
     "text": [
      "Help on class Student in module __main__:\n",
      "\n",
      "class Student(builtins.object)\n",
      " |  Student(name, rno, marks)\n",
      " |\n",
      " |  Methods defined here:\n",
      " |\n",
      " |  __init__(self, name, rno, marks)\n",
      " |      Initialize self.  See help(type(self)) for accurate signature.\n",
      " |\n",
      " |  display(self)\n",
      " |\n",
      " |  getName(self)\n",
      " |\n",
      " |  setCollege(self, cname)\n",
      " |\n",
      " |  ----------------------------------------------------------------------\n",
      " |  Data descriptors defined here:\n",
      " |\n",
      " |  __dict__\n",
      " |      dictionary for instance variables\n",
      " |\n",
      " |  __weakref__\n",
      " |      list of weak references to the object\n",
      "\n"
     ]
    }
   ],
   "source": [
    "help(Student)"
   ]
  },
  {
   "cell_type": "code",
   "execution_count": 33,
   "id": "7e476add-4783-41a5-a204-da9bbfec537d",
   "metadata": {},
   "outputs": [],
   "source": [
    "class Student2:\n",
    "    \n",
    "    __college = 'LMN'\n",
    "    \n",
    "    #I added a static variable here\n",
    "    college2 = 'LMER'\n",
    "    \n",
    "    def __init__(self, name, rno, marks):\n",
    "        self.__name = name\n",
    "        self.__rno = rno\n",
    "        self.__marks = marks\n",
    "        \n",
    "    def display(self):\n",
    "        print('Name: {}, Roll_number: {}, Marks: {}'.format(self.name, self.rno, self.marks))\n",
    "        print('College:', self.__college)\n",
    "        \n",
    "    def setCollege(self, cname):\n",
    "        self.__college = cname\n",
    "        \n",
    "    def getName(self):\n",
    "        return self.__name"
   ]
  },
  {
   "cell_type": "code",
   "execution_count": 34,
   "id": "8bca4c2f-824b-4915-8871-007e28776123",
   "metadata": {},
   "outputs": [
    {
     "name": "stdout",
     "output_type": "stream",
     "text": [
      "Help on class Student2 in module __main__:\n",
      "\n",
      "class Student2(builtins.object)\n",
      " |  Student2(name, rno, marks)\n",
      " |\n",
      " |  Methods defined here:\n",
      " |\n",
      " |  __init__(self, name, rno, marks)\n",
      " |      Initialize self.  See help(type(self)) for accurate signature.\n",
      " |\n",
      " |  display(self)\n",
      " |\n",
      " |  getName(self)\n",
      " |\n",
      " |  setCollege(self, cname)\n",
      " |\n",
      " |  ----------------------------------------------------------------------\n",
      " |  Data descriptors defined here:\n",
      " |\n",
      " |  __dict__\n",
      " |      dictionary for instance variables\n",
      " |\n",
      " |  __weakref__\n",
      " |      list of weak references to the object\n",
      " |\n",
      " |  ----------------------------------------------------------------------\n",
      " |  Data and other attributes defined here:\n",
      " |\n",
      " |  college2 = 'LMER'\n",
      "\n"
     ]
    }
   ],
   "source": [
    "help(Student2)"
   ]
  },
  {
   "cell_type": "code",
   "execution_count": 36,
   "id": "684af226-1316-459a-b14c-405502fb2492",
   "metadata": {},
   "outputs": [],
   "source": [
    "class Animal:\n",
    "    def animal_attribute(self, sound, color):\n",
    "        self.sound = sound\n",
    "        self.color = color\n",
    "        return('My pet {} and is {} in color'.format(self.sound, self.color))\n",
    "\n",
    "class Tiger(Animal):\n",
    "    def new_func(self):\n",
    "        print('New function')"
   ]
  },
  {
   "cell_type": "code",
   "execution_count": 37,
   "id": "41b99fa3-a3e7-4057-a074-1d757ea629e3",
   "metadata": {},
   "outputs": [
    {
     "name": "stdout",
     "output_type": "stream",
     "text": [
      "My pet roars and is black in color\n"
     ]
    }
   ],
   "source": [
    "pet = Tiger()\n",
    "\n",
    "print(pet.animal_attribute('roars', 'black'))"
   ]
  },
  {
   "cell_type": "markdown",
   "id": "20dfcb22-1f73-4a95-9bfe-d54964cddaf1",
   "metadata": {},
   "source": [
    "\n",
    "Create a class Cop. Initialize its name, age , work experience. Define methods to display and update the details. Create another class Mission which extends the class Cop. Define method add_mission _details. Select an object of Cop and access methods of base class to get information for a particular cop and make it available for mission."
   ]
  },
  {
   "cell_type": "code",
   "execution_count": 38,
   "id": "3aa799c0-b870-4a83-aee4-675229f1b836",
   "metadata": {},
   "outputs": [
    {
     "name": "stdout",
     "output_type": "stream",
     "text": [
      "Name: Ken, Age: 50, Work: Director General, Experience: High\n",
      "Posted to Nigeria in Chikun LGA\n"
     ]
    }
   ],
   "source": [
    "class Cop:\n",
    "    \n",
    "    def __init__(self, name, age, work, experience):\n",
    "        self.name = name\n",
    "        self.age = age\n",
    "        self.work = work\n",
    "        self.experience = experience\n",
    "    \n",
    "    def display(self):\n",
    "        return(self.name, self.age, self.work, self.experience)\n",
    "    \n",
    "    def update_details(self, name, age, work, experience):\n",
    "        self.name = name\n",
    "        self.age = age\n",
    "        self.work = work\n",
    "        self.experience = experience\n",
    "        return 'Update completed!'\n",
    "     \n",
    "class Mission(Cop):\n",
    "    def add_mission_details(self, country, LGA):\n",
    "        self.country = country\n",
    "        self.LGA = LGA\n",
    "        print('Name: {}, Age: {}, Work: {}, Experience: {}'.format(self.name, self.age, self.work, self.experience))\n",
    "        return('Posted to {} in {} LGA'.format(self.country, self.LGA))\n",
    "         \n",
    "police = Mission('Ken', 50, 'Director General', 'High')\n",
    "\n",
    "print(police.add_mission_details('Nigeria', 'Chikun'))"
   ]
  },
  {
   "cell_type": "code",
   "execution_count": 1,
   "id": "68cb02e8-2784-4980-a49b-c573d2f00e2d",
   "metadata": {},
   "outputs": [],
   "source": [
    "import pandas as pd"
   ]
  },
  {
   "cell_type": "code",
   "execution_count": null,
   "id": "88957b32-dc26-4f9d-bc55-309d508f0f73",
   "metadata": {},
   "outputs": [],
   "source": []
  },
  {
   "cell_type": "code",
   "execution_count": null,
   "id": "333ea2d1-ee02-481a-a711-46b03f1391dd",
   "metadata": {},
   "outputs": [],
   "source": []
  },
  {
   "cell_type": "code",
   "execution_count": null,
   "id": "fcea563b-41b9-4a18-9713-3ebb38f69dfe",
   "metadata": {},
   "outputs": [],
   "source": []
  },
  {
   "cell_type": "code",
   "execution_count": null,
   "id": "52aae9a9-05d0-4da8-a6d8-c819d9a8563c",
   "metadata": {},
   "outputs": [],
   "source": []
  },
  {
   "cell_type": "code",
   "execution_count": null,
   "id": "78944620-12ce-4589-be3f-5512cdc761f6",
   "metadata": {},
   "outputs": [],
   "source": []
  },
  {
   "cell_type": "code",
   "execution_count": null,
   "id": "98a39243-23da-4f24-8b29-245125f65dc7",
   "metadata": {},
   "outputs": [],
   "source": []
  },
  {
   "cell_type": "code",
   "execution_count": null,
   "id": "5a14a397-ea40-4be8-81cf-899666c2f2cd",
   "metadata": {},
   "outputs": [],
   "source": []
  },
  {
   "cell_type": "code",
   "execution_count": null,
   "id": "01911a87-0abe-47d0-b1dc-e773dc11f2fa",
   "metadata": {},
   "outputs": [],
   "source": []
  },
  {
   "cell_type": "code",
   "execution_count": null,
   "id": "55d44962-f1d7-42fb-9b50-49ec72a6dbd3",
   "metadata": {},
   "outputs": [],
   "source": []
  },
  {
   "cell_type": "code",
   "execution_count": null,
   "id": "b65352ef-93a5-47f8-8563-bc33b77865f2",
   "metadata": {},
   "outputs": [],
   "source": []
  },
  {
   "cell_type": "code",
   "execution_count": null,
   "id": "d1ce76b7-9f47-429d-9234-66e4bbc494c3",
   "metadata": {},
   "outputs": [],
   "source": []
  },
  {
   "cell_type": "code",
   "execution_count": null,
   "id": "8ab7fa3f-c334-4924-8692-f2fdc8e39944",
   "metadata": {},
   "outputs": [],
   "source": []
  },
  {
   "cell_type": "code",
   "execution_count": null,
   "id": "ceecba1f-bae9-4b89-9f88-25c40a4c4611",
   "metadata": {},
   "outputs": [],
   "source": []
  },
  {
   "cell_type": "code",
   "execution_count": null,
   "id": "c04d9803-8f1d-49ed-8562-b7792f68a546",
   "metadata": {},
   "outputs": [],
   "source": []
  },
  {
   "cell_type": "code",
   "execution_count": null,
   "id": "03def23b-d2e5-4ab2-9269-67bd5645f1d8",
   "metadata": {},
   "outputs": [],
   "source": []
  },
  {
   "cell_type": "code",
   "execution_count": null,
   "id": "2f195690-d81c-4e89-ad3a-2750344c30b8",
   "metadata": {},
   "outputs": [],
   "source": []
  },
  {
   "cell_type": "code",
   "execution_count": null,
   "id": "57badd58-b13f-4fe2-a745-e9bb49ebcadd",
   "metadata": {},
   "outputs": [],
   "source": []
  },
  {
   "cell_type": "code",
   "execution_count": null,
   "id": "8f72eb5a-5704-45e0-8282-8aa3c8ce82dd",
   "metadata": {},
   "outputs": [],
   "source": []
  },
  {
   "cell_type": "code",
   "execution_count": null,
   "id": "6759da3e-9e79-4148-97a4-d601f8e88e3e",
   "metadata": {},
   "outputs": [],
   "source": []
  },
  {
   "cell_type": "code",
   "execution_count": null,
   "id": "a97613ce-be3f-430d-85e9-ec02e24b35bb",
   "metadata": {},
   "outputs": [],
   "source": []
  },
  {
   "cell_type": "code",
   "execution_count": null,
   "id": "f632f59c-6e39-4940-b744-681fad7636b5",
   "metadata": {},
   "outputs": [],
   "source": []
  },
  {
   "cell_type": "code",
   "execution_count": null,
   "id": "da16b338-1fca-4713-b064-9edcfe7e468e",
   "metadata": {},
   "outputs": [],
   "source": []
  },
  {
   "cell_type": "code",
   "execution_count": null,
   "id": "39bc0797-7458-417b-a9c9-05d07efc884e",
   "metadata": {},
   "outputs": [],
   "source": []
  },
  {
   "cell_type": "code",
   "execution_count": null,
   "id": "fa7ca429-c293-4ddb-8e46-cabd637c42b8",
   "metadata": {},
   "outputs": [],
   "source": []
  },
  {
   "cell_type": "code",
   "execution_count": null,
   "id": "ed886457-0a1c-4844-b440-06a5bdaee428",
   "metadata": {},
   "outputs": [],
   "source": []
  }
 ],
 "metadata": {
  "kernelspec": {
   "display_name": "Python 3 (ipykernel)",
   "language": "python",
   "name": "python3"
  },
  "language_info": {
   "codemirror_mode": {
    "name": "ipython",
    "version": 3
   },
   "file_extension": ".py",
   "mimetype": "text/x-python",
   "name": "python",
   "nbconvert_exporter": "python",
   "pygments_lexer": "ipython3",
   "version": "3.12.7"
  }
 },
 "nbformat": 4,
 "nbformat_minor": 5
}
